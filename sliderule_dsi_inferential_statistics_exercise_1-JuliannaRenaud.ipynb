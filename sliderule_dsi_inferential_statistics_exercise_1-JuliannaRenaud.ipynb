{
 "cells": [
  {
   "cell_type": "markdown",
   "metadata": {},
   "source": [
    "# What is the True Normal Human Body Temperature? \n",
    "\n",
    "#### Background\n",
    "\n",
    "The mean normal body temperature was held to be 37$^{\\circ}$C or 98.6$^{\\circ}$F for more than 120 years since it was first conceptualized and reported by Carl Wunderlich in a famous 1868 book. But, is this value statistically correct?"
   ]
  },
  {
   "cell_type": "markdown",
   "metadata": {},
   "source": [
    "<h3>Exercises</h3>\n",
    "\n",
    "<p>In this exercise, you will analyze a dataset of human body temperatures and employ the concepts of hypothesis testing, confidence intervals, and statistical significance.</p>\n",
    "\n",
    "<p>Answer the following questions <b>in this notebook below and submit to your Github account</b>.</p> \n",
    "\n",
    "<ol>\n",
    "<li>  Is the distribution of body temperatures normal? \n",
    "    <ul>\n",
    "    <li> Although this is not a requirement for CLT to hold (read CLT carefully), it gives us some peace of mind that the population may also be normally distributed if we assume that this sample is representative of the population.\n",
    "    </ul>\n",
    "<li>  Is the sample size large? Are the observations independent?\n",
    "    <ul>\n",
    "    <li> Remember that this is a condition for the CLT, and hence the statistical tests we are using, to apply.\n",
    "    </ul>\n",
    "<li>  Is the true population mean really 98.6 degrees F?\n",
    "    <ul>\n",
    "    <li> Would you use a one-sample or two-sample test? Why?\n",
    "    <li> In this situation, is it appropriate to use the $t$ or $z$ statistic? \n",
    "    <li> Now try using the other test. How is the result be different? Why?\n",
    "    </ul>\n",
    "<li>  Draw a small sample of size 10 from the data and repeat both tests. \n",
    "    <ul>\n",
    "    <li> Which one is the correct one to use? \n",
    "    <li> What do you notice? What does this tell you about the difference in application of the $t$ and $z$ statistic?\n",
    "    </ul>\n",
    "<li>  At what temperature should we consider someone's temperature to be \"abnormal\"?\n",
    "    <ul>\n",
    "    <li> Start by computing the margin of error and confidence interval.\n",
    "    </ul>\n",
    "<li>  Is there a significant difference between males and females in normal temperature?\n",
    "    <ul>\n",
    "    <li> What test did you use and why?\n",
    "    <li> Write a story with your conclusion in the context of the original problem.\n",
    "    </ul>\n",
    "</ol>\n",
    "\n",
    "You can include written notes in notebook cells using Markdown: \n",
    "   - In the control panel at the top, choose Cell > Cell Type > Markdown\n",
    "   - Markdown syntax: http://nestacms.com/docs/creating-content/markdown-cheat-sheet\n",
    "\n",
    "#### Resources\n",
    "\n",
    "+ Information and data sources: http://www.amstat.org/publications/jse/datasets/normtemp.txt, http://www.amstat.org/publications/jse/jse_data_archive.htm\n",
    "+ Markdown syntax: http://nestacms.com/docs/creating-content/markdown-cheat-sheet\n",
    "\n",
    "****"
   ]
  },
  {
   "cell_type": "code",
   "execution_count": 1,
   "metadata": {},
   "outputs": [],
   "source": [
    "import pandas as pd\n",
    "\n",
    "df = pd.read_csv('data/human_body_temperature.csv')"
   ]
  },
  {
   "cell_type": "code",
   "execution_count": 76,
   "metadata": {},
   "outputs": [
    {
     "name": "stdout",
     "output_type": "stream",
     "text": [
      "   temperature gender  heart_rate\n",
      "0         99.3      F        68.0\n",
      "1         98.4      F        81.0\n",
      "2         97.8      M        73.0\n",
      "3         99.2      F        66.0\n",
      "4         98.0      F        73.0\n",
      "<class 'pandas.core.frame.DataFrame'>\n",
      "RangeIndex: 130 entries, 0 to 129\n",
      "Data columns (total 3 columns):\n",
      "temperature    130 non-null float64\n",
      "gender         130 non-null object\n",
      "heart_rate     130 non-null float64\n",
      "dtypes: float64(2), object(1)\n",
      "memory usage: 3.1+ KB\n",
      "None\n",
      "(130, 3)\n"
     ]
    }
   ],
   "source": [
    "#Data Exploration\n",
    "\n",
    "print(df.head())\n",
    "print(df.info())\n",
    "print(df.shape)"
   ]
  },
  {
   "cell_type": "markdown",
   "metadata": {},
   "source": [
    "** 1. Is the distribution of body temperatures normal?**\n",
    "\n",
    "Although this is not a requirement for CLT to hold (read CLT carefully), it gives us some peace of mind that the population may also be normally distributed if we assume that this sample is representative of the population."
   ]
  },
  {
   "cell_type": "code",
   "execution_count": 3,
   "metadata": {
    "collapsed": true
   },
   "outputs": [],
   "source": [
    "# import necessary libraries\n",
    "\n",
    "import matplotlib.pyplot as plt\n",
    "import seaborn as sns\n",
    "import numpy as np"
   ]
  },
  {
   "cell_type": "code",
   "execution_count": 11,
   "metadata": {},
   "outputs": [
    {
     "name": "stdout",
     "output_type": "stream",
     "text": [
      "('Mean Temp F:', 98.24923076923078, 'Standard Deviation:', 0.7303577789050377)\n"
     ]
    }
   ],
   "source": [
    "#Calculate the emperical mean and standard deviation\n",
    "\n",
    "mean = np.mean(df['temperature'])\n",
    "std = np.std(df['temperature'])\n",
    "print('Mean Temp F:', mean, 'Standard Deviation:', std)"
   ]
  },
  {
   "cell_type": "code",
   "execution_count": 12,
   "metadata": {},
   "outputs": [
    {
     "data": {
      "image/png": "[encoded data removed]",
      "text/plain": [
       "<matplotlib.figure.Figure at 0xc142b38>"
      ]
     },
     "metadata": {},
     "output_type": "display_data"
    }
   ],
   "source": [
    "#Calculate the number of bins. n_data should equal 130 as indicated in the .info(), but writing the code will make dynamic\n",
    "\n",
    "n_data = len(df['temperature'])\n",
    "n_bins = int(np.sqrt(n_data))\n",
    "\n",
    "#Create a histogram to visualize the dataset\n",
    "sns.set()\n",
    "_ = plt.hist(df['temperature'], bins= n_bins)\n",
    "_ = plt.xlabel('Temperature')\n",
    "_ = plt.ylabel('Count')\n",
    "\n",
    "plt.show()"
   ]
  },
  {
   "cell_type": "code",
   "execution_count": 36,
   "metadata": {},
   "outputs": [],
   "source": [
    "#Compute ECDF for temperature data: x_temp, y_temp\n",
    "def ecdf(data):\n",
    "    n = len(data)\n",
    "    x = np.sort(data)\n",
    "    y = np.arange(1.0, n+1.0) / n\n",
    "    return x, y"
   ]
  },
  {
   "cell_type": "code",
   "execution_count": 39,
   "metadata": {},
   "outputs": [],
   "source": [
    "#Create the samples\n",
    "samples = np.random.normal(mean, std, size=10000)\n",
    "\n",
    "#Calculate the ECDF of the data and the samples\n",
    "x_temp, y_temp = ecdf(df['temperature'])\n",
    "x_theor, y_theor = ecdf(samples)"
   ]
  },
  {
   "cell_type": "code",
   "execution_count": 43,
   "metadata": {},
   "outputs": [
    {
     "data": {
      "image/png": "[encoded data removed]",
      "text/plain": [
       "<matplotlib.figure.Figure at 0xd25a908>"
      ]
     },
     "metadata": {},
     "output_type": "display_data"
    }
   ],
   "source": [
    "#Graph the ECDF of the data and the samples\n",
    "_ = plt.plot(x_theor, y_theor)\n",
    "_ = plt.plot(x_temp, y_temp, marker ='.', linestyle= 'none')\n",
    "_ = plt.margins(0.02)\n",
    "_ = plt.xlabel('Temperature F')\n",
    "_ = plt.ylabel('CDF')\n",
    "_ = plt.legend(('CDF', 'ECDF'), loc='upper left')\n",
    "plt.show()"
   ]
  },
  {
   "cell_type": "markdown",
   "metadata": {},
   "source": [
    "**2. Is the sample size large? Are the observations independent?**\n",
    "\n",
    "*Remember that this is a condition for the CLT, and hence the statistical tests we are using, to apply.*\n",
    "\n",
    "According to the Central Limit Theorem definition, a \"sufficiently large\" sample size is typically one of 30 or more. The temperature dataset includes 130 samples. Since 130 samples is greater than 30, this sample size is considered large enough. The observations are independent."
   ]
  },
  {
   "cell_type": "markdown",
   "metadata": {},
   "source": [
    "**3. Is the true population mean really 98.6 degrees F? **\n",
    "\n",
    "No, the true population mean was 98.25 F.\n",
    "    \n",
    "*Would you use a one-sample or two-sample test? Why?*\n",
    "\n",
    "A one-sample test. We are comparing the mean of the sample to a known value (98.6). The two sample would be comparing the mean of two different samples.\n",
    "\n",
    "*In this situation, is it appropriate to use the  t or  z  statistic?*\n",
    "It is appropriate to use the t statistic. We do not know the standard deviation of the population, just the mean. Even though the sample size is larger than 30, the Z Test is not the ideal option since we don't have the population's standard deviation. \n",
    "\n",
    "*Now try using the other test. How is the result be different? Why?*"
   ]
  },
  {
   "cell_type": "code",
   "execution_count": 44,
   "metadata": {},
   "outputs": [
    {
     "data": {
      "text/html": [
       "<div>\n",
       "<style>\n",
       "    .dataframe thead tr:only-child th {\n",
       "        text-align: right;\n",
       "    }\n",
       "\n",
       "    .dataframe thead th {\n",
       "        text-align: left;\n",
       "    }\n",
       "\n",
       "    .dataframe tbody tr th {\n",
       "        vertical-align: top;\n",
       "    }\n",
       "</style>\n",
       "<table border=\"1\" class=\"dataframe\">\n",
       "  <thead>\n",
       "    <tr style=\"text-align: right;\">\n",
       "      <th></th>\n",
       "      <th>temperature</th>\n",
       "      <th>heart_rate</th>\n",
       "    </tr>\n",
       "  </thead>\n",
       "  <tbody>\n",
       "    <tr>\n",
       "      <th>count</th>\n",
       "      <td>130.000000</td>\n",
       "      <td>130.000000</td>\n",
       "    </tr>\n",
       "    <tr>\n",
       "      <th>mean</th>\n",
       "      <td>98.249231</td>\n",
       "      <td>73.761538</td>\n",
       "    </tr>\n",
       "    <tr>\n",
       "      <th>std</th>\n",
       "      <td>0.733183</td>\n",
       "      <td>7.062077</td>\n",
       "    </tr>\n",
       "    <tr>\n",
       "      <th>min</th>\n",
       "      <td>96.300000</td>\n",
       "      <td>57.000000</td>\n",
       "    </tr>\n",
       "    <tr>\n",
       "      <th>25%</th>\n",
       "      <td>97.800000</td>\n",
       "      <td>69.000000</td>\n",
       "    </tr>\n",
       "    <tr>\n",
       "      <th>50%</th>\n",
       "      <td>98.300000</td>\n",
       "      <td>74.000000</td>\n",
       "    </tr>\n",
       "    <tr>\n",
       "      <th>75%</th>\n",
       "      <td>98.700000</td>\n",
       "      <td>79.000000</td>\n",
       "    </tr>\n",
       "    <tr>\n",
       "      <th>max</th>\n",
       "      <td>100.800000</td>\n",
       "      <td>89.000000</td>\n",
       "    </tr>\n",
       "  </tbody>\n",
       "</table>\n",
       "</div>"
      ],
      "text/plain": [
       "       temperature  heart_rate\n",
       "count   130.000000  130.000000\n",
       "mean     98.249231   73.761538\n",
       "std       0.733183    7.062077\n",
       "min      96.300000   57.000000\n",
       "25%      97.800000   69.000000\n",
       "50%      98.300000   74.000000\n",
       "75%      98.700000   79.000000\n",
       "max     100.800000   89.000000"
      ]
     },
     "execution_count": 44,
     "metadata": {},
     "output_type": "execute_result"
    }
   ],
   "source": [
    "#Even though it's above, utilize describe to show the mean.\n",
    "df.describe()"
   ]
  },
  {
   "cell_type": "code",
   "execution_count": 45,
   "metadata": {},
   "outputs": [
    {
     "name": "stdout",
     "output_type": "stream",
     "text": [
      "Ttest_1sampResult(statistic=-5.4548232923645195, pvalue=2.4106320415561276e-07)\n"
     ]
    }
   ],
   "source": [
    "#Import library necessary for t-test and z-score\n",
    "\n",
    "from scipy import stats\n",
    "\n",
    "#T-test for one sample\n",
    "one_sample = stats.ttest_1samp(df['temperature'], 98.6)\n",
    "\n",
    "print(one_sample)"
   ]
  },
  {
   "cell_type": "code",
   "execution_count": 47,
   "metadata": {},
   "outputs": [
    {
     "name": "stdout",
     "output_type": "stream",
     "text": [
      "[ 1.43870478  0.20643202 -0.61508316  1.30178559 -0.34124477  1.30178559\n",
      " -0.34124477  0.7541088   0.20643202  0.48027041  0.7541088  -2.12119432\n",
      " -0.06740637  0.61718961 -0.61508316  0.7541088   0.06951282 -0.06740637\n",
      " -1.43659834  1.57562398  0.06951282 -0.06740637  0.48027041  0.20643202\n",
      " -0.61508316 -0.34124477 -0.61508316 -0.06740637  0.20643202 -0.20432557\n",
      "  0.06951282 -0.88892155  0.34335121  0.48027041  1.43870478  1.71254318\n",
      "  1.16486639  0.06951282 -0.47816396 -2.5319519   0.20643202  0.20643202\n",
      " -1.84735592 -1.43659834  1.0279472  -0.47816396 -1.16275994 -1.16275994\n",
      " -0.47816396 -1.57351753  0.891028    0.06951282  0.34335121  0.48027041\n",
      " -0.06740637  0.48027041  0.7541088  -0.06740637 -0.06740637 -0.88892155\n",
      "  1.16486639  0.20643202 -0.06740637  0.48027041  0.61718961 -1.16275994\n",
      " -1.16275994  0.48027041  0.61718961  0.891028   -0.20432557 -0.75200235\n",
      " -0.34124477  0.7541088   1.0279472   0.7541088  -0.34124477  0.20643202\n",
      " -1.16275994 -0.88892155  0.7541088  -0.34124477 -1.02584075  1.30178559\n",
      "  0.48027041 -1.57351753  0.48027041 -0.34124477  0.61718961 -0.20432557\n",
      " -0.61508316  2.39713916  0.7541088  -1.57351753 -0.61508316 -1.98427512\n",
      "  2.26021996  0.61718961  0.7541088  -0.34124477  1.0279472   0.34335121\n",
      " -0.34124477  1.57562398 -0.88892155 -2.12119432 -1.71043673  0.48027041\n",
      "  0.61718961 -1.29967914  0.7541088  -0.34124477 -0.06740637  1.16486639\n",
      "  1.0279472  -0.34124477  3.49249273 -0.61508316  0.61718961  0.20643202\n",
      " -0.75200235 -0.47816396  1.0279472  -1.43659834 -1.02584075 -2.6688711\n",
      " -0.75200235 -0.06740637 -0.47816396  0.61718961]\n"
     ]
    }
   ],
   "source": [
    "#Calculate the z scores\n",
    "zscore = stats.zscore(df['temperature'])\n",
    "print(zscore)"
   ]
  },
  {
   "cell_type": "markdown",
   "metadata": {},
   "source": [
    "**4. Draw a small sample of size 10 from the data and repeat both tests.**\n",
    "\n",
    "*Which one is the correct one to use?* The t-test should be utilized on samples smaller than 30.\n",
    "\n",
    "*What do you notice? What does this tell you about the difference in application of the  t  and  z  statistic?*"
   ]
  },
  {
   "cell_type": "code",
   "execution_count": 50,
   "metadata": {},
   "outputs": [
    {
     "name": "stdout",
     "output_type": "stream",
     "text": [
      "[ 98.   98.6  98.7  99.5  98.8  98.2  98.3  98.2  97.9  98.8]\n"
     ]
    }
   ],
   "source": [
    "random_sample10 = np.random.choice(df['temperature'], size=10)\n",
    "print(random_sample10)"
   ]
  },
  {
   "cell_type": "code",
   "execution_count": 51,
   "metadata": {},
   "outputs": [
    {
     "name": "stdout",
     "output_type": "stream",
     "text": [
      "Ttest_1sampResult(statistic=-0.66097897385890603, pvalue=0.52518258675826179)\n"
     ]
    }
   ],
   "source": [
    "one_sample_v2 = stats.ttest_1samp(random_sample10, 98.6)\n",
    "\n",
    "print(one_sample_v2)"
   ]
  },
  {
   "cell_type": "code",
   "execution_count": 52,
   "metadata": {},
   "outputs": [
    {
     "name": "stdout",
     "output_type": "stream",
     "text": [
      "[-1.10163162  0.22032632  0.44065265  2.20326325  0.66097897 -0.66097897\n",
      " -0.44065265 -0.66097897 -1.32195795  0.66097897]\n"
     ]
    }
   ],
   "source": [
    "zscore = stats.zscore(random_sample10)\n",
    "print(zscore)"
   ]
  },
  {
   "cell_type": "markdown",
   "metadata": {},
   "source": [
    "**5. At what temperature should we consider someone's temperature to be \"abnormal\"?**\n",
    "\n",
    "*Start by computing the margin of error and confidence interval.*"
   ]
  },
  {
   "cell_type": "code",
   "execution_count": 56,
   "metadata": {},
   "outputs": [
    {
     "name": "stdout",
     "output_type": "stream",
     "text": [
      "Margin of Error:  0.125550964803\n"
     ]
    }
   ],
   "source": [
    "#Margin of Error\n",
    "z = 1.96 #score for 95% confidence\n",
    "margin_error = z * (std/np.sqrt(n_data))\n",
    "print'Margin of Error: ',margin_error"
   ]
  },
  {
   "cell_type": "code",
   "execution_count": 60,
   "metadata": {},
   "outputs": [
    {
     "name": "stdout",
     "output_type": "stream",
     "text": [
      "The average human temperature is between:  96.7225 and  99.4775\n",
      "An abnormal human temperature is lower than:  96.7225 F, or higher than:  99.4775  F\n"
     ]
    }
   ],
   "source": [
    "#Confidence Intervals\n",
    "conf_int = np.percentile(df['temperature'], [2.5, 97.5])\n",
    "print'The average human temperature is between: ', conf_int[0], 'and ', conf_int[1]\n",
    "print'An abnormal human temperature is lower than: ', conf_int[0], 'F, or higher than: ', conf_int[1], ' F'"
   ]
  },
  {
   "cell_type": "markdown",
   "metadata": {},
   "source": [
    "**6. Is there a significant difference between males and females in normal temperature?**\n",
    "\n",
    "*What test did you use and why?* I utilized the two sample t-test to obtain the p-value.\n",
    "\n",
    "*Write a story with your conclusion in the context of the original problem.*"
   ]
  },
  {
   "cell_type": "code",
   "execution_count": 67,
   "metadata": {},
   "outputs": [
    {
     "name": "stdout",
     "output_type": "stream",
     "text": [
      "    temperature gender  heart_rate\n",
      "2          97.8      M        73.0\n",
      "5          99.2      M        83.0\n",
      "6          98.0      M        71.0\n",
      "7          98.8      M        78.0\n",
      "12         98.2      M        72.0\n",
      "<class 'pandas.core.frame.DataFrame'>\n",
      "Int64Index: 65 entries, 2 to 128\n",
      "Data columns (total 3 columns):\n",
      "temperature    65 non-null float64\n",
      "gender         65 non-null object\n",
      "heart_rate     65 non-null float64\n",
      "dtypes: float64(2), object(1)\n",
      "memory usage: 2.0+ KB\n",
      "None\n",
      "   temperature gender  heart_rate\n",
      "0         99.3      F        68.0\n",
      "1         98.4      F        81.0\n",
      "3         99.2      F        66.0\n",
      "4         98.0      F        73.0\n",
      "8         98.4      F        84.0\n",
      "<class 'pandas.core.frame.DataFrame'>\n",
      "Int64Index: 65 entries, 0 to 129\n",
      "Data columns (total 3 columns):\n",
      "temperature    65 non-null float64\n",
      "gender         65 non-null object\n",
      "heart_rate     65 non-null float64\n",
      "dtypes: float64(2), object(1)\n",
      "memory usage: 2.0+ KB\n",
      "None\n"
     ]
    }
   ],
   "source": [
    "#Separate the male and female datapoints\n",
    "males = df[df['gender'] == 'M']\n",
    "females = df[df['gender'] == 'F']\n",
    "\n",
    "#Explore the new datasets\n",
    "print(males.head())\n",
    "print(males.info())\n",
    "print(females.head())\n",
    "print(females.info())"
   ]
  },
  {
   "cell_type": "code",
   "execution_count": 69,
   "metadata": {},
   "outputs": [
    {
     "name": "stdout",
     "output_type": "stream",
     "text": [
      "('Mean Temp Males in F:', 98.1046153846154, 'Standard Deviation Males:', 0.6933598841828696)\n",
      "('Mean Temp Females in F:', 98.39384615384613, 'Standard Deviation Females:', 0.7377464486428966)\n"
     ]
    }
   ],
   "source": [
    "#Calculate the mean and standard deviations for the two new datasets.\n",
    "male_mean = np.mean(males['temperature'])\n",
    "male_std = np.std(males['temperature'])\n",
    "female_mean = np.mean(females['temperature'])\n",
    "female_std = np.std(females['temperature'])\n",
    "print('Mean Temp Males in F:', male_mean, 'Standard Deviation Males:', male_std)\n",
    "print('Mean Temp Females in F:', female_mean, 'Standard Deviation Females:', female_std)"
   ]
  },
  {
   "cell_type": "code",
   "execution_count": 70,
   "metadata": {},
   "outputs": [
    {
     "data": {
      "image/png": "[encoded data removed]",
      "text/plain": [
       "<matplotlib.figure.Figure at 0xc4fb9b0>"
      ]
     },
     "metadata": {},
     "output_type": "display_data"
    }
   ],
   "source": [
    "#Create a histogram showing both datasets.\n",
    "sns.set()\n",
    "_ = plt.hist(males['temperature'], bins= n_bins, alpha=0.5, color='b')\n",
    "_ = plt.hist(females['temperature'], bins= n_bins, alpha=0.5, color='r')\n",
    "_ = plt.xlabel('Temperature')\n",
    "_ = plt.ylabel('Count')\n",
    "plt.show()"
   ]
  },
  {
   "cell_type": "markdown",
   "metadata": {},
   "source": [
    "In the overlapped histogram it is easy to see that while there is significant overlap between the male and female temperatures, the females temperatures tend to be a bit higher than the males."
   ]
  },
  {
   "cell_type": "code",
   "execution_count": 71,
   "metadata": {
    "collapsed": true
   },
   "outputs": [],
   "source": [
    "#Calculate the ECDF of the data for males and females\n",
    "x_mtemp, y_mtemp = ecdf(males['temperature'])\n",
    "x_ftemp, y_ftemp = ecdf(females['temperature'])"
   ]
  },
  {
   "cell_type": "code",
   "execution_count": 73,
   "metadata": {},
   "outputs": [
    {
     "data": {
      "image/png": "[encoded data removed]",
      "text/plain": [
       "<matplotlib.figure.Figure at 0xdd56748>"
      ]
     },
     "metadata": {},
     "output_type": "display_data"
    }
   ],
   "source": [
    "#Create an ECDF graph for the two datasets\n",
    "_ = plt.plot(x_mtemp, y_mtemp, marker ='.', linestyle= 'none', color='b')\n",
    "_ = plt.plot(x_ftemp, y_ftemp, marker ='.', linestyle= 'none', color='r')\n",
    "_ = plt.margins(0.02)\n",
    "_ = plt.xlabel('Temperature F')\n",
    "_ = plt.ylabel('CDF')\n",
    "_ = plt.legend(('Males', 'Females'), loc='upper left')\n",
    "plt.show()"
   ]
  },
  {
   "cell_type": "markdown",
   "metadata": {},
   "source": [
    "The ECDF graph also illustrates that there is a difference between the male and female temperatures."
   ]
  },
  {
   "cell_type": "code",
   "execution_count": 77,
   "metadata": {},
   "outputs": [
    {
     "name": "stdout",
     "output_type": "stream",
     "text": [
      "Ttest_indResult(statistic=-2.2854345381656103, pvalue=0.023931883122395609)\n"
     ]
    }
   ],
   "source": [
    "#Calculate the t statistic and p-value for the two sample t-test.\n",
    "\n",
    "two_sample = stats.ttest_ind(males['temperature'], females['temperature'])\n",
    "\n",
    "print(two_sample)"
   ]
  },
  {
   "cell_type": "markdown",
   "metadata": {},
   "source": [
    "The p-value of less than 0.05 indicates that we should reject the hypothesis that there is a significant difference between male and female temperatures."
   ]
  },
  {
   "cell_type": "markdown",
   "metadata": {},
   "source": [
    "**Conclusion**\n",
    "\n",
    "The mean value of human temperature of 98.6 is slightly higher than the mean of this sample. The mean of this data was 98.2 with a margin of error of 0.125. 98.25+0.125 = 98.375 which is still, slightly lower than the 98.6. However, 98.6 is within a 95% confidence interval and should still be considered a \"normal\" temperature.\n",
    "\n",
    "Further analysis indicated that while not statistically significant, females do have a tendancy to have a slightly higher temperature than males (98.39 and 98.10 respectively. \n"
   ]
  },
  {
   "cell_type": "code",
   "execution_count": null,
   "metadata": {
    "collapsed": true
   },
   "outputs": [],
   "source": []
  }
 ],
 "metadata": {
  "kernelspec": {
   "display_name": "Python 2",
   "language": "python",
   "name": "python2"
  },
  "language_info": {
   "codemirror_mode": {
    "name": "ipython",
    "version": 2
   },
   "file_extension": ".py",
   "mimetype": "text/x-python",
   "name": "python",
   "nbconvert_exporter": "python",
   "pygments_lexer": "ipython2",
   "version": "2.7.13"
  }
 },
 "nbformat": 4,
 "nbformat_minor": 1
}
