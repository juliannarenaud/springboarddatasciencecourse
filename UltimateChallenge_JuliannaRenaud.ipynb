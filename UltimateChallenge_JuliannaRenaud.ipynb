{
 "cells": [
  {
   "cell_type": "code",
   "execution_count": 1,
   "metadata": {
    "collapsed": true
   },
   "outputs": [],
   "source": [
    "import pandas as pd\n",
    "import matplotlib.pyplot as plt\n",
    "import numpy as np"
   ]
  },
  {
   "cell_type": "code",
   "execution_count": 2,
   "metadata": {},
   "outputs": [
    {
     "data": {
      "text/html": [
       "<div>\n",
       "<style>\n",
       "    .dataframe thead tr:only-child th {\n",
       "        text-align: right;\n",
       "    }\n",
       "\n",
       "    .dataframe thead th {\n",
       "        text-align: left;\n",
       "    }\n",
       "\n",
       "    .dataframe tbody tr th {\n",
       "        vertical-align: top;\n",
       "    }\n",
       "</style>\n",
       "<table border=\"1\" class=\"dataframe\">\n",
       "  <thead>\n",
       "    <tr style=\"text-align: right;\">\n",
       "      <th></th>\n",
       "      <th>login_time</th>\n",
       "    </tr>\n",
       "  </thead>\n",
       "  <tbody>\n",
       "    <tr>\n",
       "      <th>0</th>\n",
       "      <td>1970-01-01 20:13:18</td>\n",
       "    </tr>\n",
       "    <tr>\n",
       "      <th>1</th>\n",
       "      <td>1970-01-01 20:16:10</td>\n",
       "    </tr>\n",
       "    <tr>\n",
       "      <th>2</th>\n",
       "      <td>1970-01-01 20:16:37</td>\n",
       "    </tr>\n",
       "    <tr>\n",
       "      <th>3</th>\n",
       "      <td>1970-01-01 20:16:36</td>\n",
       "    </tr>\n",
       "    <tr>\n",
       "      <th>4</th>\n",
       "      <td>1970-01-01 20:26:21</td>\n",
       "    </tr>\n",
       "  </tbody>\n",
       "</table>\n",
       "</div>"
      ],
      "text/plain": [
       "           login_time\n",
       "0 1970-01-01 20:13:18\n",
       "1 1970-01-01 20:16:10\n",
       "2 1970-01-01 20:16:37\n",
       "3 1970-01-01 20:16:36\n",
       "4 1970-01-01 20:26:21"
      ]
     },
     "execution_count": 2,
     "metadata": {},
     "output_type": "execute_result"
    }
   ],
   "source": [
    "#Load the data files\n",
    "logins_df = pd.read_json('logins.json')\n",
    "logins_df.head()"
   ]
  },
  {
   "cell_type": "code",
   "execution_count": 3,
   "metadata": {},
   "outputs": [
    {
     "name": "stdout",
     "output_type": "stream",
     "text": [
      "<class 'pandas.core.frame.DataFrame'>\n",
      "RangeIndex: 93142 entries, 0 to 93141\n",
      "Data columns (total 1 columns):\n",
      "login_time    93142 non-null datetime64[ns]\n",
      "dtypes: datetime64[ns](1)\n",
      "memory usage: 727.8 KB\n"
     ]
    }
   ],
   "source": [
    "logins_df.info()"
   ]
  },
  {
   "cell_type": "code",
   "execution_count": 4,
   "metadata": {},
   "outputs": [
    {
     "data": {
      "text/html": [
       "<div>\n",
       "<style>\n",
       "    .dataframe thead tr:only-child th {\n",
       "        text-align: right;\n",
       "    }\n",
       "\n",
       "    .dataframe thead th {\n",
       "        text-align: left;\n",
       "    }\n",
       "\n",
       "    .dataframe tbody tr th {\n",
       "        vertical-align: top;\n",
       "    }\n",
       "</style>\n",
       "<table border=\"1\" class=\"dataframe\">\n",
       "  <thead>\n",
       "    <tr style=\"text-align: right;\">\n",
       "      <th></th>\n",
       "      <th>login_time</th>\n",
       "    </tr>\n",
       "  </thead>\n",
       "  <tbody>\n",
       "    <tr>\n",
       "      <th>count</th>\n",
       "      <td>93142</td>\n",
       "    </tr>\n",
       "    <tr>\n",
       "      <th>unique</th>\n",
       "      <td>92265</td>\n",
       "    </tr>\n",
       "    <tr>\n",
       "      <th>top</th>\n",
       "      <td>1970-02-12 11:16:53</td>\n",
       "    </tr>\n",
       "    <tr>\n",
       "      <th>freq</th>\n",
       "      <td>3</td>\n",
       "    </tr>\n",
       "    <tr>\n",
       "      <th>first</th>\n",
       "      <td>1970-01-01 20:12:16</td>\n",
       "    </tr>\n",
       "    <tr>\n",
       "      <th>last</th>\n",
       "      <td>1970-04-13 18:57:38</td>\n",
       "    </tr>\n",
       "  </tbody>\n",
       "</table>\n",
       "</div>"
      ],
      "text/plain": [
       "                 login_time\n",
       "count                 93142\n",
       "unique                92265\n",
       "top     1970-02-12 11:16:53\n",
       "freq                      3\n",
       "first   1970-01-01 20:12:16\n",
       "last    1970-04-13 18:57:38"
      ]
     },
     "execution_count": 4,
     "metadata": {},
     "output_type": "execute_result"
    }
   ],
   "source": [
    "logins_df.describe()"
   ]
  },
  {
   "cell_type": "markdown",
   "metadata": {},
   "source": [
    "## Part 1: Exploratory data analysis  \n",
    "The attached logins.json file contains (simulated) timestamps of user logins in a particular geographic location. Aggregate  these login counts based on 15 minute time intervals, and visualize and describe the resulting time series of login counts in ways that best characterize the underlying patterns of the demand. Please report/illustrate important features of the demand, such as daily cycles. If there are data quality issues, please report them."
   ]
  },
  {
   "cell_type": "code",
   "execution_count": 5,
   "metadata": {},
   "outputs": [
    {
     "name": "stdout",
     "output_type": "stream",
     "text": [
      "login_time\n",
      "1970-01-01 20:00:00    2\n",
      "1970-01-01 20:15:00    6\n",
      "1970-01-01 20:30:00    9\n",
      "1970-01-01 20:45:00    7\n",
      "1970-01-01 21:00:00    1\n",
      "Freq: 15T, dtype: int64\n",
      "login_time\n",
      "1970-01-01 20:00:00    24\n",
      "1970-01-01 21:00:00     9\n",
      "1970-01-01 22:00:00    21\n",
      "1970-01-01 23:00:00    58\n",
      "1970-01-02 00:00:00    53\n",
      "Freq: 60T, dtype: int64\n",
      "login_time\n",
      "1970-01-01    112\n",
      "1970-01-02    681\n",
      "1970-01-03    793\n",
      "1970-01-04    788\n",
      "1970-01-05    459\n",
      "Freq: D, dtype: int64\n",
      "login_time\n",
      "1970-01-04    2374\n",
      "1970-01-11    5217\n",
      "1970-01-18    5023\n",
      "1970-01-25    4751\n",
      "1970-02-01    4744\n",
      "Freq: W-SUN, dtype: int64\n",
      "login_time\n",
      "1970-01-31    21239\n",
      "1970-02-28    24673\n",
      "1970-03-31    33723\n",
      "1970-04-30    13507\n",
      "Freq: M, dtype: int64\n"
     ]
    }
   ],
   "source": [
    "#Aggregate based on 15 minute time intervals\n",
    "logins_df = pd.Series(logins_df, index=logins_df.login_time)\n",
    "\n",
    "\n",
    "fifteen_min = logins_df.resample('15T').count()\n",
    "sixty_min = logins_df.resample('60T').count()\n",
    "daily =  logins_df.resample('D').count()\n",
    "weekly = logins_df.resample('W').count()\n",
    "monthly =  logins_df.resample('M').count()\n",
    "\n",
    "\n",
    "print (fifteen_min.head())\n",
    "print (sixty_min.head())\n",
    "print (daily.head())\n",
    "print (weekly.head())\n",
    "print (monthly.head())"
   ]
  },
  {
   "cell_type": "code",
   "execution_count": 6,
   "metadata": {},
   "outputs": [
    {
     "data": {
      "image/png": "[encoded data removed]",
      "text/plain": [
       "<matplotlib.figure.Figure at 0x258e07f5e10>"
      ]
     },
     "metadata": {},
     "output_type": "display_data"
    }
   ],
   "source": [
    "#Plot login times\n",
    "y_label = 'Frequency'\n",
    "\n",
    "_ = plt.subplot(321)\n",
    "_ = plt.plot(fifteen_min)\n",
    "_ = plt.ylabel(y_label)\n",
    "_ = plt.title('Frequency of logins 15 min time interval')\n",
    "_ = plt.xticks(rotation=90)\n",
    "\n",
    "_ = plt.subplot(322)\n",
    "_ = plt.plot(sixty_min)\n",
    "_ = plt.ylabel(y_label)\n",
    "_ = plt.title('Frequency of logins 60 min time interval')\n",
    "_ = plt.xticks(rotation=90)\n",
    "\n",
    "_ = plt.subplot(323)\n",
    "_ = plt.plot(daily)\n",
    "_ = plt.ylabel(y_label)\n",
    "_ = plt.title('Frequency of logins daily time interval')\n",
    "_ = plt.xticks(rotation=90)\n",
    "\n",
    "_ = plt.subplot(324)\n",
    "_ = plt.plot(weekly)\n",
    "_ = plt.ylabel(y_label)\n",
    "_ = plt.title('Frequency of logins weekly time interval')\n",
    "_ = plt.xticks(rotation=90)\n",
    "\n",
    "_ = plt.subplot(325)\n",
    "_ = plt.plot(monthly)\n",
    "_ = plt.ylabel(y_label)\n",
    "_ = plt.title('Frequency of logins monthly time interval')\n",
    "_ = plt.xticks(rotation=90)\n",
    "\n",
    "plt.subplots_adjust(top=3.0, bottom=0.50, left=0.50, right=2.0, hspace=1.0, wspace=1.0)\n",
    "plt.show()"
   ]
  },
  {
   "cell_type": "markdown",
   "metadata": {},
   "source": [
    "## Part    2 : Experiment and metrics design  \n",
    "The neighboring cities of Gotham and Metropolis have complementary circadian rhythms: on weekdays, Ultimate Gotham is most  active at night, and Ultimate Metropolis is most active during the day. On weekends, there is reasonable activity in both cities.\n",
    "\n",
    "However, a toll bridge, with a two way toll, between the two cities causes driver partners to tend to be exclusive to each city. The Ultimate managers of city operations for the two cities have proposed an experiment to encourage driver partners to be available in both cities, by reimbursing all toll costs.\n",
    "\n",
    "*1. What would you choose as the key measure of success of this experiment in encouraging driver partners to serve both cities, and why would you choose this metric?*\n",
    "\n",
    "I would consider the following metrics as KPIs for this experiment:\n",
    "* Volume of trips- is there an increase in the number of pickups because drivers are more willing to cross the toll for a fare? \n",
    "* Revenue- is there an increase in revenue and if so, does the revenue generated exceed the reimbursed toll expenses?\n",
    "* Wait time between request and pick up- does reimbursing the toll help to decrease the rider wait time and create a better customer experience. A simplified explanation of this, if there were 10 drivers in each city prior to this, but Gotham had higher demand than Metropolis resulting in an average wait time of 20 min in Gotham compared to 10 min in Metropolis this does reimbursing the toll encourage more drivers to help with demand where needed, when needed and thus shorten the wait time.\n",
    "* The number of new signups- does the reimbursed toll expense cause more people to begin using the service? And does the LTV of those new signups justify the expense?\n",
    "* The number of miles driven- are the drivers driving more and/or taking longer trips?\n",
    "* The number of pickups in each city- does the number of trips taken increase, decrease or stay relatively the same compared to before the experiment.\n",
    "\n",
    "\n",
    "\n",
    "*2. Describe a practical experiment you would design to compare the effectiveness of the proposed change in relation to the key measure of success. Please provide details on:*\n",
    "\n",
    "    a. how you will implement the experiment\n",
    "    \n",
    "> If the primary KPI is volume. I would analyze a period of time pre experiment compared to post experiment. Ideally, I'd love to analyze the same month YoY to account for any seasonal factors that may influence ridership, so if the experiment is done in February, compare this to the previous February. \n",
    "    \n",
    "> Secondarily, I would want to analyze net revenue (revenue minus the expenses which in this case would be the toll reimbursement) to determine if the increase in volume (assuming there's an increase) generated more net revenue for the month than the control month. \n",
    "    \n",
    "    b. what statistical test(s) you will conduct to verify the significance of the observation\n",
    "\n",
    "> A two sample t-test to determine if the volume in ridership is statistically greater for the experiment month versus the control month.\n",
    "\n",
    "    c. how you would interpret the results and provide recommendations to the city operations team along with any caveats.\n",
    "\n",
    "> Depending upon the results of the t-test, if results of the t-test for volume are determined to show with statistical significance that the volumne of ridership is greater during the experiment period, then I would want to dig deeper into the net revenue. I would run a two sample t-test on the revenue for each of the months to determine if the experiment not only generated more volume, but also more revenue.  \n"
   ]
  },
  {
   "cell_type": "markdown",
   "metadata": {},
   "source": [
    "## Part    3    ‑    Predictive     modeling    \n",
    "Ultimate is interested in predicting rider retention. To help explore this question, we have provided a sample dataset of a cohort of users who signed up for an Ultimate account in January 2014. The data was pulled several months later; we consider a user retained if they were \"active\" (i.e. took a trip) in the preceding 30 days.\n",
    "\n",
    "We would like you to use this data set to help understand what factors are the best predictors for retention, and offer suggestions to operationalize those insights to help Ultimate.\n",
    "\n",
    "The data is in the attached file ultimate_data_challenge.json. See below for a detailed description of the dataset. Please include any code you wrote for the analysis and delete the dataset when you have finished with the challenge.\n",
    "\n",
    "1. Perform any cleaning, exploratory analysis, and/or visualizations to use the provided data for this analysis (a few sentences/plots describing your approach will suffice). What fraction of the observed users were retained?\n",
    "2. Build a predictive model to help Ultimate determine whether or not a user will be active in their 6th month on the system. Discuss why you chose your approach, what alternatives you considered, and any concerns you have. How valid is your model? Include any key indicators of model performance.\n",
    "3. Briefly discuss how Ultimate might leverage the insights gained from the model to improve its long term rider retention (again, a few sentences will suffice)."
   ]
  },
  {
   "cell_type": "code",
   "execution_count": 7,
   "metadata": {},
   "outputs": [
    {
     "data": {
      "text/html": [
       "<div>\n",
       "<style>\n",
       "    .dataframe thead tr:only-child th {\n",
       "        text-align: right;\n",
       "    }\n",
       "\n",
       "    .dataframe thead th {\n",
       "        text-align: left;\n",
       "    }\n",
       "\n",
       "    .dataframe tbody tr th {\n",
       "        vertical-align: top;\n",
       "    }\n",
       "</style>\n",
       "<table border=\"1\" class=\"dataframe\">\n",
       "  <thead>\n",
       "    <tr style=\"text-align: right;\">\n",
       "      <th></th>\n",
       "      <th>avg_dist</th>\n",
       "      <th>avg_rating_by_driver</th>\n",
       "      <th>avg_rating_of_driver</th>\n",
       "      <th>avg_surge</th>\n",
       "      <th>city</th>\n",
       "      <th>last_trip_date</th>\n",
       "      <th>phone</th>\n",
       "      <th>signup_date</th>\n",
       "      <th>surge_pct</th>\n",
       "      <th>trips_in_first_30_days</th>\n",
       "      <th>ultimate_black_user</th>\n",
       "      <th>weekday_pct</th>\n",
       "    </tr>\n",
       "  </thead>\n",
       "  <tbody>\n",
       "    <tr>\n",
       "      <th>0</th>\n",
       "      <td>3.67</td>\n",
       "      <td>5.0</td>\n",
       "      <td>4.7</td>\n",
       "      <td>1.10</td>\n",
       "      <td>King's Landing</td>\n",
       "      <td>2014-06-17</td>\n",
       "      <td>iPhone</td>\n",
       "      <td>2014-01-25</td>\n",
       "      <td>15.4</td>\n",
       "      <td>4</td>\n",
       "      <td>True</td>\n",
       "      <td>46.2</td>\n",
       "    </tr>\n",
       "    <tr>\n",
       "      <th>1</th>\n",
       "      <td>8.26</td>\n",
       "      <td>5.0</td>\n",
       "      <td>5.0</td>\n",
       "      <td>1.00</td>\n",
       "      <td>Astapor</td>\n",
       "      <td>2014-05-05</td>\n",
       "      <td>Android</td>\n",
       "      <td>2014-01-29</td>\n",
       "      <td>0.0</td>\n",
       "      <td>0</td>\n",
       "      <td>False</td>\n",
       "      <td>50.0</td>\n",
       "    </tr>\n",
       "    <tr>\n",
       "      <th>2</th>\n",
       "      <td>0.77</td>\n",
       "      <td>5.0</td>\n",
       "      <td>4.3</td>\n",
       "      <td>1.00</td>\n",
       "      <td>Astapor</td>\n",
       "      <td>2014-01-07</td>\n",
       "      <td>iPhone</td>\n",
       "      <td>2014-01-06</td>\n",
       "      <td>0.0</td>\n",
       "      <td>3</td>\n",
       "      <td>False</td>\n",
       "      <td>100.0</td>\n",
       "    </tr>\n",
       "    <tr>\n",
       "      <th>3</th>\n",
       "      <td>2.36</td>\n",
       "      <td>4.9</td>\n",
       "      <td>4.6</td>\n",
       "      <td>1.14</td>\n",
       "      <td>King's Landing</td>\n",
       "      <td>2014-06-29</td>\n",
       "      <td>iPhone</td>\n",
       "      <td>2014-01-10</td>\n",
       "      <td>20.0</td>\n",
       "      <td>9</td>\n",
       "      <td>True</td>\n",
       "      <td>80.0</td>\n",
       "    </tr>\n",
       "    <tr>\n",
       "      <th>4</th>\n",
       "      <td>3.13</td>\n",
       "      <td>4.9</td>\n",
       "      <td>4.4</td>\n",
       "      <td>1.19</td>\n",
       "      <td>Winterfell</td>\n",
       "      <td>2014-03-15</td>\n",
       "      <td>Android</td>\n",
       "      <td>2014-01-27</td>\n",
       "      <td>11.8</td>\n",
       "      <td>14</td>\n",
       "      <td>False</td>\n",
       "      <td>82.4</td>\n",
       "    </tr>\n",
       "  </tbody>\n",
       "</table>\n",
       "</div>"
      ],
      "text/plain": [
       "   avg_dist  avg_rating_by_driver  avg_rating_of_driver  avg_surge  \\\n",
       "0      3.67                   5.0                   4.7       1.10   \n",
       "1      8.26                   5.0                   5.0       1.00   \n",
       "2      0.77                   5.0                   4.3       1.00   \n",
       "3      2.36                   4.9                   4.6       1.14   \n",
       "4      3.13                   4.9                   4.4       1.19   \n",
       "\n",
       "             city last_trip_date    phone signup_date  surge_pct  \\\n",
       "0  King's Landing     2014-06-17   iPhone  2014-01-25       15.4   \n",
       "1         Astapor     2014-05-05  Android  2014-01-29        0.0   \n",
       "2         Astapor     2014-01-07   iPhone  2014-01-06        0.0   \n",
       "3  King's Landing     2014-06-29   iPhone  2014-01-10       20.0   \n",
       "4      Winterfell     2014-03-15  Android  2014-01-27       11.8   \n",
       "\n",
       "   trips_in_first_30_days  ultimate_black_user  weekday_pct  \n",
       "0                       4                 True         46.2  \n",
       "1                       0                False         50.0  \n",
       "2                       3                False        100.0  \n",
       "3                       9                 True         80.0  \n",
       "4                      14                False         82.4  "
      ]
     },
     "execution_count": 7,
     "metadata": {},
     "output_type": "execute_result"
    }
   ],
   "source": [
    "import json\n",
    "\n",
    "with open('./ultimate_data_challenge.json') as file:\n",
    "    data = json.load(file)\n",
    "\n",
    "df = pd.DataFrame(data)\n",
    "df.head()"
   ]
  },
  {
   "cell_type": "code",
   "execution_count": 8,
   "metadata": {},
   "outputs": [
    {
     "name": "stdout",
     "output_type": "stream",
     "text": [
      "<class 'pandas.core.frame.DataFrame'>\n",
      "RangeIndex: 50000 entries, 0 to 49999\n",
      "Data columns (total 12 columns):\n",
      "avg_dist                  50000 non-null float64\n",
      "avg_rating_by_driver      49799 non-null float64\n",
      "avg_rating_of_driver      41878 non-null float64\n",
      "avg_surge                 50000 non-null float64\n",
      "city                      50000 non-null object\n",
      "last_trip_date            50000 non-null object\n",
      "phone                     49604 non-null object\n",
      "signup_date               50000 non-null object\n",
      "surge_pct                 50000 non-null float64\n",
      "trips_in_first_30_days    50000 non-null int64\n",
      "ultimate_black_user       50000 non-null bool\n",
      "weekday_pct               50000 non-null float64\n",
      "dtypes: bool(1), float64(6), int64(1), object(4)\n",
      "memory usage: 4.2+ MB\n"
     ]
    }
   ],
   "source": [
    "df.info()"
   ]
  },
  {
   "cell_type": "code",
   "execution_count": 9,
   "metadata": {},
   "outputs": [
    {
     "name": "stdout",
     "output_type": "stream",
     "text": [
      "<class 'pandas.core.frame.DataFrame'>\n",
      "RangeIndex: 50000 entries, 0 to 49999\n",
      "Data columns (total 12 columns):\n",
      "avg_dist                  50000 non-null float64\n",
      "avg_rating_by_driver      50000 non-null float64\n",
      "avg_rating_of_driver      50000 non-null float64\n",
      "avg_surge                 50000 non-null float64\n",
      "city                      50000 non-null object\n",
      "last_trip_date            50000 non-null object\n",
      "phone                     49604 non-null object\n",
      "signup_date               50000 non-null object\n",
      "surge_pct                 50000 non-null float64\n",
      "trips_in_first_30_days    50000 non-null int64\n",
      "ultimate_black_user       50000 non-null bool\n",
      "weekday_pct               50000 non-null float64\n",
      "dtypes: bool(1), float64(6), int64(1), object(4)\n",
      "memory usage: 4.2+ MB\n"
     ]
    }
   ],
   "source": [
    "#Replace missing values for avg_rating_by_driver and avg_rating_of_driver with the mean\n",
    "\n",
    "\n",
    "df.avg_rating_by_driver.fillna(df.avg_rating_by_driver.mean(), inplace=True)\n",
    "df.avg_rating_of_driver.fillna(df.avg_rating_of_driver.mean(), inplace=True)\n",
    "\n",
    "df.info()"
   ]
  },
  {
   "cell_type": "code",
   "execution_count": 10,
   "metadata": {},
   "outputs": [
    {
     "data": {
      "text/plain": [
       "iPhone     34582\n",
       "Android    15022\n",
       "Name: phone, dtype: int64"
      ]
     },
     "execution_count": 10,
     "metadata": {},
     "output_type": "execute_result"
    }
   ],
   "source": [
    "#Explore the phone data since it's the only other column that's missing values.\n",
    "\n",
    "df.phone.value_counts()"
   ]
  },
  {
   "cell_type": "code",
   "execution_count": 11,
   "metadata": {},
   "outputs": [
    {
     "name": "stdout",
     "output_type": "stream",
     "text": [
      "<class 'pandas.core.frame.DataFrame'>\n",
      "RangeIndex: 50000 entries, 0 to 49999\n",
      "Data columns (total 12 columns):\n",
      "avg_dist                  50000 non-null float64\n",
      "avg_rating_by_driver      50000 non-null float64\n",
      "avg_rating_of_driver      50000 non-null float64\n",
      "avg_surge                 50000 non-null float64\n",
      "city                      50000 non-null object\n",
      "last_trip_date            50000 non-null object\n",
      "phone                     50000 non-null object\n",
      "signup_date               50000 non-null object\n",
      "surge_pct                 50000 non-null float64\n",
      "trips_in_first_30_days    50000 non-null int64\n",
      "ultimate_black_user       50000 non-null bool\n",
      "weekday_pct               50000 non-null float64\n",
      "dtypes: bool(1), float64(6), int64(1), object(4)\n",
      "memory usage: 4.2+ MB\n"
     ]
    }
   ],
   "source": [
    "#Since nearly 70% of the phones are iPhones, replace missing values with iPhone\n",
    "\n",
    "df.phone.fillna('iPhone', inplace=True)\n",
    "\n",
    "df.info()"
   ]
  },
  {
   "cell_type": "code",
   "execution_count": 12,
   "metadata": {},
   "outputs": [
    {
     "name": "stdout",
     "output_type": "stream",
     "text": [
      "       avg_dist  avg_rating_by_driver  avg_rating_of_driver  avg_surge  \\\n",
      "4486      11.94                   5.0                   5.0       1.00   \n",
      "43047      5.49                   4.7                   5.0       1.01   \n",
      "24059      8.62                   4.9                   4.3       1.11   \n",
      "40290      7.51                   4.8                   4.9       1.02   \n",
      "28689     16.32                   5.0                   5.0       1.00   \n",
      "\n",
      "                 city last_trip_date    phone signup_date  surge_pct  \\\n",
      "4486       Winterfell     2014-07-01  Android  2014-01-25        0.0   \n",
      "43047  King's Landing     2014-07-01   iPhone  2014-01-15        0.8   \n",
      "24059         Astapor     2014-07-01   iPhone  2014-01-24       14.3   \n",
      "40290  King's Landing     2014-07-01   iPhone  2014-01-07        1.6   \n",
      "28689  King's Landing     2014-07-01   iPhone  2014-01-16        0.0   \n",
      "\n",
      "       trips_in_first_30_days  ultimate_black_user  weekday_pct  \n",
      "4486                        4                 True         25.0  \n",
      "43047                       1                 True         89.3  \n",
      "24059                       1                False         71.4  \n",
      "40290                       2                 True         95.2  \n",
      "28689                       5                False         75.0  \n"
     ]
    }
   ],
   "source": [
    "df2 = df.sort_values('last_trip_date', ascending=False)\n",
    "\n",
    "print(df2.head())"
   ]
  },
  {
   "cell_type": "code",
   "execution_count": 13,
   "metadata": {},
   "outputs": [
    {
     "data": {
      "text/html": [
       "<div>\n",
       "<style>\n",
       "    .dataframe thead tr:only-child th {\n",
       "        text-align: right;\n",
       "    }\n",
       "\n",
       "    .dataframe thead th {\n",
       "        text-align: left;\n",
       "    }\n",
       "\n",
       "    .dataframe tbody tr th {\n",
       "        vertical-align: top;\n",
       "    }\n",
       "</style>\n",
       "<table border=\"1\" class=\"dataframe\">\n",
       "  <thead>\n",
       "    <tr style=\"text-align: right;\">\n",
       "      <th></th>\n",
       "      <th>avg_dist</th>\n",
       "      <th>avg_rating_by_driver</th>\n",
       "      <th>avg_rating_of_driver</th>\n",
       "      <th>avg_surge</th>\n",
       "      <th>city</th>\n",
       "      <th>last_trip_date</th>\n",
       "      <th>phone</th>\n",
       "      <th>signup_date</th>\n",
       "      <th>surge_pct</th>\n",
       "      <th>trips_in_first_30_days</th>\n",
       "      <th>ultimate_black_user</th>\n",
       "      <th>weekday_pct</th>\n",
       "      <th>retained</th>\n",
       "    </tr>\n",
       "  </thead>\n",
       "  <tbody>\n",
       "    <tr>\n",
       "      <th>0</th>\n",
       "      <td>3.67</td>\n",
       "      <td>5.0</td>\n",
       "      <td>4.7</td>\n",
       "      <td>1.10</td>\n",
       "      <td>King's Landing</td>\n",
       "      <td>2014-06-17</td>\n",
       "      <td>iPhone</td>\n",
       "      <td>2014-01-25</td>\n",
       "      <td>15.4</td>\n",
       "      <td>4</td>\n",
       "      <td>True</td>\n",
       "      <td>46.2</td>\n",
       "      <td>1</td>\n",
       "    </tr>\n",
       "    <tr>\n",
       "      <th>1</th>\n",
       "      <td>8.26</td>\n",
       "      <td>5.0</td>\n",
       "      <td>5.0</td>\n",
       "      <td>1.00</td>\n",
       "      <td>Astapor</td>\n",
       "      <td>2014-05-05</td>\n",
       "      <td>Android</td>\n",
       "      <td>2014-01-29</td>\n",
       "      <td>0.0</td>\n",
       "      <td>0</td>\n",
       "      <td>False</td>\n",
       "      <td>50.0</td>\n",
       "      <td>0</td>\n",
       "    </tr>\n",
       "    <tr>\n",
       "      <th>2</th>\n",
       "      <td>0.77</td>\n",
       "      <td>5.0</td>\n",
       "      <td>4.3</td>\n",
       "      <td>1.00</td>\n",
       "      <td>Astapor</td>\n",
       "      <td>2014-01-07</td>\n",
       "      <td>iPhone</td>\n",
       "      <td>2014-01-06</td>\n",
       "      <td>0.0</td>\n",
       "      <td>3</td>\n",
       "      <td>False</td>\n",
       "      <td>100.0</td>\n",
       "      <td>0</td>\n",
       "    </tr>\n",
       "    <tr>\n",
       "      <th>3</th>\n",
       "      <td>2.36</td>\n",
       "      <td>4.9</td>\n",
       "      <td>4.6</td>\n",
       "      <td>1.14</td>\n",
       "      <td>King's Landing</td>\n",
       "      <td>2014-06-29</td>\n",
       "      <td>iPhone</td>\n",
       "      <td>2014-01-10</td>\n",
       "      <td>20.0</td>\n",
       "      <td>9</td>\n",
       "      <td>True</td>\n",
       "      <td>80.0</td>\n",
       "      <td>1</td>\n",
       "    </tr>\n",
       "    <tr>\n",
       "      <th>4</th>\n",
       "      <td>3.13</td>\n",
       "      <td>4.9</td>\n",
       "      <td>4.4</td>\n",
       "      <td>1.19</td>\n",
       "      <td>Winterfell</td>\n",
       "      <td>2014-03-15</td>\n",
       "      <td>Android</td>\n",
       "      <td>2014-01-27</td>\n",
       "      <td>11.8</td>\n",
       "      <td>14</td>\n",
       "      <td>False</td>\n",
       "      <td>82.4</td>\n",
       "      <td>0</td>\n",
       "    </tr>\n",
       "  </tbody>\n",
       "</table>\n",
       "</div>"
      ],
      "text/plain": [
       "   avg_dist  avg_rating_by_driver  avg_rating_of_driver  avg_surge  \\\n",
       "0      3.67                   5.0                   4.7       1.10   \n",
       "1      8.26                   5.0                   5.0       1.00   \n",
       "2      0.77                   5.0                   4.3       1.00   \n",
       "3      2.36                   4.9                   4.6       1.14   \n",
       "4      3.13                   4.9                   4.4       1.19   \n",
       "\n",
       "             city last_trip_date    phone signup_date  surge_pct  \\\n",
       "0  King's Landing     2014-06-17   iPhone  2014-01-25       15.4   \n",
       "1         Astapor     2014-05-05  Android  2014-01-29        0.0   \n",
       "2         Astapor     2014-01-07   iPhone  2014-01-06        0.0   \n",
       "3  King's Landing     2014-06-29   iPhone  2014-01-10       20.0   \n",
       "4      Winterfell     2014-03-15  Android  2014-01-27       11.8   \n",
       "\n",
       "   trips_in_first_30_days  ultimate_black_user  weekday_pct  retained  \n",
       "0                       4                 True         46.2         1  \n",
       "1                       0                False         50.0         0  \n",
       "2                       3                False        100.0         0  \n",
       "3                       9                 True         80.0         1  \n",
       "4                      14                False         82.4         0  "
      ]
     },
     "execution_count": 13,
     "metadata": {},
     "output_type": "execute_result"
    }
   ],
   "source": [
    "#Create a new column that identifies \"retained\" customers if they've taken a trip within the preceding 30 days (last date on file is 7/1/14).\n",
    "\n",
    "df['retained'] = [1 if ele >= '2014-06-01' else 0 for ele in df['last_trip_date']]\n",
    "\n",
    "df.head()"
   ]
  },
  {
   "cell_type": "code",
   "execution_count": 14,
   "metadata": {},
   "outputs": [
    {
     "data": {
      "text/plain": [
       "0    31196\n",
       "1    18804\n",
       "Name: retained, dtype: int64"
      ]
     },
     "execution_count": 14,
     "metadata": {},
     "output_type": "execute_result"
    }
   ],
   "source": [
    "df.retained.value_counts()"
   ]
  },
  {
   "cell_type": "code",
   "execution_count": 15,
   "metadata": {},
   "outputs": [
    {
     "name": "stdout",
     "output_type": "stream",
     "text": [
      "Number of Subscribers Not Retained: 31,196\n",
      "Number of Subscribers Retained: 18,804\n",
      "Percentage of Subscribers Not Retained: 62.39%\n",
      "Percentage of Subscribers Retained: 37.61%\n"
     ]
    }
   ],
   "source": [
    "#Count the number of customers considered retained (took more than 1 trip within 30 days of signup)\n",
    "ret_status = df['retained'].value_counts()\n",
    "notret = float(ret_status[0])\n",
    "retained = float(ret_status[1])\n",
    "total_subs = float(len(df))\n",
    "per_not_ret = float(notret/total_subs)\n",
    "per_retained = float(retained/total_subs)\n",
    "\n",
    "print('Number of Subscribers Not Retained:',\"{0:,.0f}\".format(notret))\n",
    "print('Number of Subscribers Retained:', \"{0:,.0f}\".format(retained))\n",
    "print('Percentage of Subscribers Not Retained:', \"{:.2%}\".format(per_not_ret))\n",
    "print('Percentage of Subscribers Retained:', \"{:.2%}\".format(per_retained))"
   ]
  },
  {
   "cell_type": "code",
   "execution_count": 16,
   "metadata": {},
   "outputs": [
    {
     "data": {
      "text/plain": [
       "False    31146\n",
       "True     18854\n",
       "Name: ultimate_black_user, dtype: int64"
      ]
     },
     "execution_count": 16,
     "metadata": {},
     "output_type": "execute_result"
    }
   ],
   "source": [
    "#Count of Ultimate Black Users\n",
    "df.ultimate_black_user.value_counts()"
   ]
  },
  {
   "cell_type": "code",
   "execution_count": 17,
   "metadata": {},
   "outputs": [
    {
     "data": {
      "text/plain": [
       "Winterfell        23336\n",
       "Astapor           16534\n",
       "King's Landing    10130\n",
       "Name: city, dtype: int64"
      ]
     },
     "execution_count": 17,
     "metadata": {},
     "output_type": "execute_result"
    }
   ],
   "source": [
    "#Count of City\n",
    "df.city.value_counts()"
   ]
  },
  {
   "cell_type": "code",
   "execution_count": 18,
   "metadata": {},
   "outputs": [
    {
     "data": {
      "image/png": "[encoded data removed]",
      "text/plain": [
       "<matplotlib.figure.Figure at 0x258e573c208>"
      ]
     },
     "metadata": {},
     "output_type": "display_data"
    },
    {
     "data": {
      "image/png": "[encoded data removed]",
      "text/plain": [
       "<matplotlib.figure.Figure at 0x258e573c198>"
      ]
     },
     "metadata": {},
     "output_type": "display_data"
    },
    {
     "data": {
      "image/png": "[encoded data removed]",
      "text/plain": [
       "<matplotlib.figure.Figure at 0x258e2a0fa58>"
      ]
     },
     "metadata": {},
     "output_type": "display_data"
    },
    {
     "data": {
      "image/png": "[encoded data removed]",
      "text/plain": [
       "<matplotlib.figure.Figure at 0x258e327f860>"
      ]
     },
     "metadata": {},
     "output_type": "display_data"
    }
   ],
   "source": [
    "#Create histograms for avg. distance, avg. rating by driver, avg. rating for driver\n",
    "\n",
    "#Calculate the bin number\n",
    "n_data = len(df['avg_dist'])\n",
    "n_bins = int(np.sqrt(n_data))\n",
    "\n",
    "#Create a histogram to visualize Avg. Distance\n",
    "_ = plt.hist(df['avg_dist'], bins=n_bins, color='b')\n",
    "_ = plt.xlabel('Avg. Distance')\n",
    "_ = plt.ylabel('Count of Trips')\n",
    "\n",
    "plt.show()\n",
    "\n",
    "#Create a histogram to visualize Avg. Rating by Driver\n",
    "_ = plt.hist(df['avg_rating_by_driver'], bins= n_bins, color='r')\n",
    "_ = plt.xlabel('Avg. Rating by Driver')\n",
    "_ = plt.ylabel('Count of Trips')\n",
    "\n",
    "plt.show()\n",
    "\n",
    "#Create a histogram to visualize Avg. Rating of Driver\n",
    "_ = plt.hist(df['avg_rating_of_driver'], bins= n_bins, color='r')\n",
    "_ = plt.xlabel('Avg. Rating of Driver')\n",
    "_ = plt.ylabel('Count of Trips')\n",
    "\n",
    "plt.show()\n",
    "\n",
    "#Create a histogram to visualize Number of Trips in first 30 Days\n",
    "_ = plt.hist(df['trips_in_first_30_days'], bins= n_bins, color='r')\n",
    "_ = plt.xlabel('Trips in First 30 Days')\n",
    "_ = plt.ylabel('Count of Users')\n",
    "\n",
    "plt.show()"
   ]
  },
  {
   "cell_type": "code",
   "execution_count": 19,
   "metadata": {},
   "outputs": [
    {
     "data": {
      "image/png": "[encoded data removed]",
      "text/plain": [
       "<matplotlib.figure.Figure at 0x258e2eebbe0>"
      ]
     },
     "metadata": {},
     "output_type": "display_data"
    }
   ],
   "source": [
    "#Create boxplot of Trips in First 30 Days to see why it's going out to 120 above\n",
    "import seaborn as sns\n",
    "\n",
    "_ = sns.boxplot(y='trips_in_first_30_days', data=df)\n",
    "_ = plt.xlabel('Trips in First 30 Days')\n",
    "plt.show()"
   ]
  },
  {
   "cell_type": "code",
   "execution_count": 20,
   "metadata": {},
   "outputs": [
    {
     "name": "stdout",
     "output_type": "stream",
     "text": [
      "       avg_dist  avg_rating_by_driver  avg_rating_of_driver  avg_surge  \\\n",
      "18514      2.02                   4.8                   5.0       1.12   \n",
      "99         2.86                   4.9                   4.9       1.00   \n",
      "3030       2.32                   4.8                   4.9       1.06   \n",
      "29070      1.45                   4.6                   4.0       1.07   \n",
      "48804      2.30                   4.7                   4.4       1.04   \n",
      "\n",
      "                 city last_trip_date    phone signup_date  surge_pct  \\\n",
      "18514  King's Landing     2014-06-30   iPhone  2014-01-02       14.4   \n",
      "99            Astapor     2014-03-05  Android  2014-01-27        0.0   \n",
      "3030       Winterfell     2014-06-28   iPhone  2014-01-06        2.9   \n",
      "29070         Astapor     2014-06-29   iPhone  2014-01-10        7.3   \n",
      "48804         Astapor     2014-06-05   iPhone  2014-01-24        3.1   \n",
      "\n",
      "       trips_in_first_30_days  ultimate_black_user  weekday_pct  retained  \n",
      "18514                     125                 True         72.0         1  \n",
      "99                         73                 True         89.7         0  \n",
      "3030                       71                 True         85.9         1  \n",
      "29070                      63                 True         83.3         1  \n",
      "48804                      58                 True         77.6         1  \n"
     ]
    },
    {
     "data": {
      "image/png": "[encoded data removed]",
      "text/plain": [
       "<matplotlib.figure.Figure at 0x258e580e358>"
      ]
     },
     "metadata": {},
     "output_type": "display_data"
    }
   ],
   "source": [
    "#Drop the outlier for trips in first 30 days\n",
    "df1 = df.sort_values('trips_in_first_30_days', ascending=False)\n",
    "print(df1.head())\n",
    "\n",
    "#Using the sorted Dataframe to identify the exact value to drop\n",
    "df = df[df.trips_in_first_30_days != 125]\n",
    "\n",
    "_ = sns.boxplot(y='trips_in_first_30_days', data=df)\n",
    "_ = plt.xlabel('Trips in First 30 Days')\n",
    "plt.show()"
   ]
  },
  {
   "cell_type": "code",
   "execution_count": 21,
   "metadata": {},
   "outputs": [
    {
     "name": "stdout",
     "output_type": "stream",
     "text": [
      "   avg_dist  avg_rating_by_driver  avg_rating_of_driver  avg_surge  \\\n",
      "0      3.67                   5.0                   4.7       1.10   \n",
      "1      8.26                   5.0                   5.0       1.00   \n",
      "2      0.77                   5.0                   4.3       1.00   \n",
      "3      2.36                   4.9                   4.6       1.14   \n",
      "4      3.13                   4.9                   4.4       1.19   \n",
      "\n",
      "  last_trip_date signup_date  surge_pct  trips_in_first_30_days  \\\n",
      "0     2014-06-17  2014-01-25       15.4                       4   \n",
      "1     2014-05-05  2014-01-29        0.0                       0   \n",
      "2     2014-01-07  2014-01-06        0.0                       3   \n",
      "3     2014-06-29  2014-01-10       20.0                       9   \n",
      "4     2014-03-15  2014-01-27       11.8                      14   \n",
      "\n",
      "   ultimate_black_user  weekday_pct  retained  iphone  android  winterfell  \\\n",
      "0                    1         46.2         1       1        0           0   \n",
      "1                    0         50.0         0       0        1           0   \n",
      "2                    0        100.0         0       1        0           0   \n",
      "3                    1         80.0         1       1        0           0   \n",
      "4                    0         82.4         0       0        1           1   \n",
      "\n",
      "   astapor  kings_landing  \n",
      "0        0              1  \n",
      "1        1              0  \n",
      "2        1              0  \n",
      "3        0              1  \n",
      "4        0              0  \n"
     ]
    }
   ],
   "source": [
    "#Turn Ultimate black users True/False into 1, 0 format\n",
    "\n",
    "df['ultimate_black_user'] = [1 if ele == True else 0 for ele in df['ultimate_black_user']]\n",
    "\n",
    "#Create categorical columns for iPhone and Android\n",
    "df['iphone'] = [1 if ele == \"iPhone\" else 0 for ele in df['phone']]\n",
    "df['android'] = [1 if ele == \"Android\" else 0 for ele in df['phone']]\n",
    "\n",
    "#Create columns for city data\n",
    "df['winterfell'] = [1 if ele == \"Winterfell\" else 0 for ele in df['city']]\n",
    "df['astapor'] = [1 if ele == \"Astapor\" else 0 for ele in df['city']]\n",
    "df['kings_landing'] = [1 if ele == \"King's Landing\" else 0 for ele in df['city']]\n",
    "\n",
    "#Drop the original string columns\n",
    "df = df.drop(['city', 'phone'], axis=1)\n",
    "\n",
    "print(df.head())"
   ]
  },
  {
   "cell_type": "code",
   "execution_count": 22,
   "metadata": {},
   "outputs": [
    {
     "name": "stdout",
     "output_type": "stream",
     "text": [
      "<class 'pandas.core.frame.DataFrame'>\n",
      "Int64Index: 49999 entries, 0 to 49999\n",
      "Data columns (total 16 columns):\n",
      "avg_dist                  49999 non-null float64\n",
      "avg_rating_by_driver      49999 non-null float64\n",
      "avg_rating_of_driver      49999 non-null float64\n",
      "avg_surge                 49999 non-null float64\n",
      "last_trip_date            49999 non-null datetime64[ns]\n",
      "signup_date               49999 non-null datetime64[ns]\n",
      "surge_pct                 49999 non-null float64\n",
      "trips_in_first_30_days    49999 non-null int64\n",
      "ultimate_black_user       49999 non-null int64\n",
      "weekday_pct               49999 non-null float64\n",
      "retained                  49999 non-null int64\n",
      "iphone                    49999 non-null int64\n",
      "android                   49999 non-null int64\n",
      "winterfell                49999 non-null int64\n",
      "astapor                   49999 non-null int64\n",
      "kings_landing             49999 non-null int64\n",
      "dtypes: datetime64[ns](2), float64(6), int64(8)\n",
      "memory usage: 6.5 MB\n",
      "None\n",
      "   avg_dist  avg_rating_by_driver  avg_rating_of_driver  avg_surge  \\\n",
      "0      3.67                   5.0                   4.7       1.10   \n",
      "1      8.26                   5.0                   5.0       1.00   \n",
      "2      0.77                   5.0                   4.3       1.00   \n",
      "3      2.36                   4.9                   4.6       1.14   \n",
      "4      3.13                   4.9                   4.4       1.19   \n",
      "\n",
      "  last_trip_date signup_date  surge_pct  trips_in_first_30_days  \\\n",
      "0     2014-06-17  2014-01-25       15.4                       4   \n",
      "1     2014-05-05  2014-01-29        0.0                       0   \n",
      "2     2014-01-07  2014-01-06        0.0                       3   \n",
      "3     2014-06-29  2014-01-10       20.0                       9   \n",
      "4     2014-03-15  2014-01-27       11.8                      14   \n",
      "\n",
      "   ultimate_black_user  weekday_pct  retained  iphone  android  winterfell  \\\n",
      "0                    1         46.2         1       1        0           0   \n",
      "1                    0         50.0         0       0        1           0   \n",
      "2                    0        100.0         0       1        0           0   \n",
      "3                    1         80.0         1       1        0           0   \n",
      "4                    0         82.4         0       0        1           1   \n",
      "\n",
      "   astapor  kings_landing daysbtwn_lastride_&_signup  \n",
      "0        0              1                   143 days  \n",
      "1        1              0                    96 days  \n",
      "2        1              0                     1 days  \n",
      "3        0              1                   170 days  \n",
      "4        0              0                    47 days  \n"
     ]
    }
   ],
   "source": [
    "from datetime import date\n",
    "import dateutil\n",
    "\n",
    "df['signup_date'] = [dateutil.parser.parse(x) for x in df['signup_date']]\n",
    "df['last_trip_date'] = [dateutil.parser.parse(x) for x in df['last_trip_date']]\n",
    "\n",
    "print(df.info())\n",
    "\n",
    "df['daysbtwn_lastride_&_signup'] = df['last_trip_date'] - df['signup_date']\n",
    "\n",
    "print(df.head())"
   ]
  },
  {
   "cell_type": "code",
   "execution_count": 23,
   "metadata": {},
   "outputs": [
    {
     "data": {
      "text/html": [
       "<div>\n",
       "<style>\n",
       "    .dataframe thead tr:only-child th {\n",
       "        text-align: right;\n",
       "    }\n",
       "\n",
       "    .dataframe thead th {\n",
       "        text-align: left;\n",
       "    }\n",
       "\n",
       "    .dataframe tbody tr th {\n",
       "        vertical-align: top;\n",
       "    }\n",
       "</style>\n",
       "<table border=\"1\" class=\"dataframe\">\n",
       "  <thead>\n",
       "    <tr style=\"text-align: right;\">\n",
       "      <th></th>\n",
       "      <th>avg_dist</th>\n",
       "      <th>avg_rating_by_driver</th>\n",
       "      <th>avg_rating_of_driver</th>\n",
       "      <th>avg_surge</th>\n",
       "      <th>surge_pct</th>\n",
       "      <th>trips_in_first_30_days</th>\n",
       "      <th>ultimate_black_user</th>\n",
       "      <th>weekday_pct</th>\n",
       "      <th>retained</th>\n",
       "      <th>iphone</th>\n",
       "      <th>android</th>\n",
       "      <th>winterfell</th>\n",
       "      <th>astapor</th>\n",
       "      <th>kings_landing</th>\n",
       "      <th>daysbtwn_lastride_&amp;_signup</th>\n",
       "    </tr>\n",
       "  </thead>\n",
       "  <tbody>\n",
       "    <tr>\n",
       "      <th>0</th>\n",
       "      <td>3.67</td>\n",
       "      <td>5.0</td>\n",
       "      <td>4.7</td>\n",
       "      <td>1.10</td>\n",
       "      <td>15.4</td>\n",
       "      <td>4</td>\n",
       "      <td>1</td>\n",
       "      <td>46.2</td>\n",
       "      <td>1</td>\n",
       "      <td>1</td>\n",
       "      <td>0</td>\n",
       "      <td>0</td>\n",
       "      <td>0</td>\n",
       "      <td>1</td>\n",
       "      <td>143</td>\n",
       "    </tr>\n",
       "    <tr>\n",
       "      <th>1</th>\n",
       "      <td>8.26</td>\n",
       "      <td>5.0</td>\n",
       "      <td>5.0</td>\n",
       "      <td>1.00</td>\n",
       "      <td>0.0</td>\n",
       "      <td>0</td>\n",
       "      <td>0</td>\n",
       "      <td>50.0</td>\n",
       "      <td>0</td>\n",
       "      <td>0</td>\n",
       "      <td>1</td>\n",
       "      <td>0</td>\n",
       "      <td>1</td>\n",
       "      <td>0</td>\n",
       "      <td>96</td>\n",
       "    </tr>\n",
       "    <tr>\n",
       "      <th>2</th>\n",
       "      <td>0.77</td>\n",
       "      <td>5.0</td>\n",
       "      <td>4.3</td>\n",
       "      <td>1.00</td>\n",
       "      <td>0.0</td>\n",
       "      <td>3</td>\n",
       "      <td>0</td>\n",
       "      <td>100.0</td>\n",
       "      <td>0</td>\n",
       "      <td>1</td>\n",
       "      <td>0</td>\n",
       "      <td>0</td>\n",
       "      <td>1</td>\n",
       "      <td>0</td>\n",
       "      <td>1</td>\n",
       "    </tr>\n",
       "    <tr>\n",
       "      <th>3</th>\n",
       "      <td>2.36</td>\n",
       "      <td>4.9</td>\n",
       "      <td>4.6</td>\n",
       "      <td>1.14</td>\n",
       "      <td>20.0</td>\n",
       "      <td>9</td>\n",
       "      <td>1</td>\n",
       "      <td>80.0</td>\n",
       "      <td>1</td>\n",
       "      <td>1</td>\n",
       "      <td>0</td>\n",
       "      <td>0</td>\n",
       "      <td>0</td>\n",
       "      <td>1</td>\n",
       "      <td>170</td>\n",
       "    </tr>\n",
       "    <tr>\n",
       "      <th>4</th>\n",
       "      <td>3.13</td>\n",
       "      <td>4.9</td>\n",
       "      <td>4.4</td>\n",
       "      <td>1.19</td>\n",
       "      <td>11.8</td>\n",
       "      <td>14</td>\n",
       "      <td>0</td>\n",
       "      <td>82.4</td>\n",
       "      <td>0</td>\n",
       "      <td>0</td>\n",
       "      <td>1</td>\n",
       "      <td>1</td>\n",
       "      <td>0</td>\n",
       "      <td>0</td>\n",
       "      <td>47</td>\n",
       "    </tr>\n",
       "  </tbody>\n",
       "</table>\n",
       "</div>"
      ],
      "text/plain": [
       "   avg_dist  avg_rating_by_driver  avg_rating_of_driver  avg_surge  surge_pct  \\\n",
       "0      3.67                   5.0                   4.7       1.10       15.4   \n",
       "1      8.26                   5.0                   5.0       1.00        0.0   \n",
       "2      0.77                   5.0                   4.3       1.00        0.0   \n",
       "3      2.36                   4.9                   4.6       1.14       20.0   \n",
       "4      3.13                   4.9                   4.4       1.19       11.8   \n",
       "\n",
       "   trips_in_first_30_days  ultimate_black_user  weekday_pct  retained  iphone  \\\n",
       "0                       4                    1         46.2         1       1   \n",
       "1                       0                    0         50.0         0       0   \n",
       "2                       3                    0        100.0         0       1   \n",
       "3                       9                    1         80.0         1       1   \n",
       "4                      14                    0         82.4         0       0   \n",
       "\n",
       "   android  winterfell  astapor  kings_landing  daysbtwn_lastride_&_signup  \n",
       "0        0           0        0              1                         143  \n",
       "1        1           0        1              0                          96  \n",
       "2        0           0        1              0                           1  \n",
       "3        0           0        0              1                         170  \n",
       "4        1           1        0              0                          47  "
      ]
     },
     "execution_count": 23,
     "metadata": {},
     "output_type": "execute_result"
    }
   ],
   "source": [
    "#Convert the days between column to a float\n",
    "df['daysbtwn_lastride_&_signup'] = df['daysbtwn_lastride_&_signup'].dt.days\n",
    "\n",
    "#Drop the date columns\n",
    "df = df.drop(['signup_date', 'last_trip_date'], axis=1)\n",
    "df.head()\n"
   ]
  },
  {
   "cell_type": "code",
   "execution_count": 50,
   "metadata": {},
   "outputs": [
    {
     "name": "stdout",
     "output_type": "stream",
     "text": [
      "[[   3.67          5.            4.7        ...,    0.            1.          143.        ]\n",
      " [   8.26          5.            5.         ...,    1.            0.           96.        ]\n",
      " [   0.77          5.            4.3        ...,    1.            0.            1.        ]\n",
      " ..., \n",
      " [   3.86          5.            5.         ...,    0.            0.          111.        ]\n",
      " [   4.58          3.5           3.         ...,    1.            0.            1.        ]\n",
      " [   3.49          5.            4.60155929 ...,    1.            0.           92.        ]]\n"
     ]
    }
   ],
   "source": [
    "y = df['retained'].values\n",
    "X = df.drop('retained', axis = 1).values\n",
    "\n",
    "print(X)"
   ]
  },
  {
   "cell_type": "code",
   "execution_count": 25,
   "metadata": {},
   "outputs": [
    {
     "name": "stdout",
     "output_type": "stream",
     "text": [
      "Train shape: (39999, 14)(39999,)\n",
      "Test shape: (10000, 14)(10000,)\n"
     ]
    }
   ],
   "source": [
    "#Split the data into training and test set\n",
    "from sklearn.model_selection import train_test_split\n",
    "X_train, X_test, y_train, y_test = train_test_split(X, y, test_size = 0.2, random_state = 21, stratify=y)\n",
    "\n",
    "print ('Train shape: '+ str(X_train.shape)+str(y_train.shape))\n",
    "print ('Test shape: ' +str(X_test.shape)+str( y_test.shape))"
   ]
  },
  {
   "cell_type": "code",
   "execution_count": 26,
   "metadata": {},
   "outputs": [
    {
     "name": "stdout",
     "output_type": "stream",
     "text": [
      "Accuracy Score: 0.9586\n",
      "ROC Score: 0.994478982824\n",
      "[[6007  232]\n",
      " [ 182 3579]]\n",
      "             precision    recall  f1-score   support\n",
      "\n",
      "          0       0.97      0.96      0.97      6239\n",
      "          1       0.94      0.95      0.95      3761\n",
      "\n",
      "avg / total       0.96      0.96      0.96     10000\n",
      "\n"
     ]
    }
   ],
   "source": [
    "#Logistic Regression\n",
    "from sklearn.linear_model import LogisticRegression\n",
    "from sklearn import metrics\n",
    "from sklearn.model_selection import cross_val_score\n",
    "from sklearn.metrics import classification_report\n",
    "from sklearn.metrics import confusion_matrix\n",
    "\n",
    "model = LogisticRegression()\n",
    "\n",
    "model.fit(X_train, y_train)\n",
    "\n",
    "predicted = model.predict(X_test)\n",
    "probs = model.predict_proba(X_test)\n",
    "\n",
    "print ('Accuracy Score:', metrics.accuracy_score(y_test, predicted))\n",
    "print ('ROC Score:', metrics.roc_auc_score(y_test, probs[:, 1]))\n",
    "\n",
    "print(confusion_matrix(y_test, predicted))\n",
    "print(classification_report(y_test, predicted))"
   ]
  },
  {
   "cell_type": "code",
   "execution_count": 27,
   "metadata": {},
   "outputs": [
    {
     "name": "stdout",
     "output_type": "stream",
     "text": [
      "[ 0.95660868  0.95840832  0.95880824  0.9592      0.962       0.9586\n",
      "  0.95939188  0.96159232  0.96079216  0.95779156]\n",
      "0.959319314854\n"
     ]
    }
   ],
   "source": [
    "scores = cross_val_score(LogisticRegression(), X, y, scoring='accuracy', cv=10)\n",
    "\n",
    "print (scores)\n",
    "print (scores.mean())"
   ]
  },
  {
   "cell_type": "code",
   "execution_count": 28,
   "metadata": {},
   "outputs": [
    {
     "name": "stdout",
     "output_type": "stream",
     "text": [
      "\n",
      "\n",
      "Confusion Matrix for Classification Model:\n",
      "\n",
      " [[6007  232]\n",
      " [ 182 3579]]\n"
     ]
    },
    {
     "data": {
      "image/png": "[encoded data removed]",
      "text/plain": [
       "<matplotlib.figure.Figure at 0x258e596d978>"
      ]
     },
     "metadata": {},
     "output_type": "display_data"
    }
   ],
   "source": [
    "#Printing confusion Matrix\n",
    "logreg_confusion_matrix = confusion_matrix(y_test, predicted, labels=[0,1])\n",
    "print(\"\\n\\nConfusion Matrix for Classification Model:\\n\\n\",logreg_confusion_matrix)\n",
    "\n",
    "plt.figure()\n",
    "sns.heatmap(logreg_confusion_matrix, annot=True, cbar=False, cmap=\"Blues\", fmt=\"d\") \n",
    "#string formatting 'd' gives decimal integer\n",
    "plt.xlabel(\"Predicted Labels\")\n",
    "plt.ylabel(\"True Labels\")\n",
    "plt.title(\"Confusion Matrix\\nLogistic Regression\")\n",
    "\n",
    "plt.show()"
   ]
  },
  {
   "cell_type": "code",
   "execution_count": 29,
   "metadata": {},
   "outputs": [
    {
     "data": {
      "image/png": "[encoded data removed]",
      "text/plain": [
       "<matplotlib.figure.Figure at 0x258e30cbc88>"
      ]
     },
     "metadata": {},
     "output_type": "display_data"
    }
   ],
   "source": [
    "#Printing ROC Curve\n",
    "from sklearn.metrics import roc_curve\n",
    "y_pred_prob = model.predict_proba(X_test)[:,1]\n",
    "\n",
    "fpr, tpr, thresholds = roc_curve(y_test, y_pred_prob)\n",
    "\n",
    "plt.plot([0, 1], [0, 1], 'k--')\n",
    "plt.plot(fpr, tpr, label= 'Logistic Regression')\n",
    "plt.xlabel('False Positive Rate')\n",
    "plt.ylabel('True Positive Rate')\n",
    "plt.title('Logistic Regression ROC Curve')\n",
    "\n",
    "plt.show();"
   ]
  },
  {
   "cell_type": "markdown",
   "metadata": {
    "collapsed": true
   },
   "source": [
    "Those results are so strong, second approach:"
   ]
  },
  {
   "cell_type": "code",
   "execution_count": 30,
   "metadata": {},
   "outputs": [
    {
     "name": "stdout",
     "output_type": "stream",
     "text": [
      "<class 'pandas.core.frame.DataFrame'>\n",
      "RangeIndex: 50000 entries, 0 to 49999\n",
      "Data columns (total 16 columns):\n",
      "avg_dist                  50000 non-null float64\n",
      "avg_rating_by_driver      50000 non-null float64\n",
      "avg_rating_of_driver      50000 non-null float64\n",
      "avg_surge                 50000 non-null float64\n",
      "city                      50000 non-null object\n",
      "last_trip_date            50000 non-null object\n",
      "phone                     49604 non-null object\n",
      "signup_date               50000 non-null object\n",
      "surge_pct                 50000 non-null float64\n",
      "trips_in_first_30_days    50000 non-null int64\n",
      "ultimate_black_user       50000 non-null bool\n",
      "weekday_pct               50000 non-null float64\n",
      "recent                    50000 non-null int64\n",
      "frequent                  50000 non-null int64\n",
      "sum                       50000 non-null int64\n",
      "retained                  50000 non-null int64\n",
      "dtypes: bool(1), float64(6), int64(5), object(4)\n",
      "memory usage: 5.8+ MB\n",
      "None\n",
      "   avg_dist  avg_rating_by_driver  avg_rating_of_driver  avg_surge  \\\n",
      "0      3.67                   5.0                   4.7       1.10   \n",
      "1      8.26                   5.0                   5.0       1.00   \n",
      "2      0.77                   5.0                   4.3       1.00   \n",
      "3      2.36                   4.9                   4.6       1.14   \n",
      "4      3.13                   4.9                   4.4       1.19   \n",
      "\n",
      "             city last_trip_date    phone signup_date  surge_pct  \\\n",
      "0  King's Landing     2014-06-17   iPhone  2014-01-25       15.4   \n",
      "1         Astapor     2014-05-05  Android  2014-01-29        0.0   \n",
      "2         Astapor     2014-01-07   iPhone  2014-01-06        0.0   \n",
      "3  King's Landing     2014-06-29   iPhone  2014-01-10       20.0   \n",
      "4      Winterfell     2014-03-15  Android  2014-01-27       11.8   \n",
      "\n",
      "   trips_in_first_30_days  ultimate_black_user  weekday_pct  recent  frequent  \\\n",
      "0                       4                 True         46.2       1         1   \n",
      "1                       0                False         50.0       0         0   \n",
      "2                       3                False        100.0       0         1   \n",
      "3                       9                 True         80.0       1         1   \n",
      "4                      14                False         82.4       0         1   \n",
      "\n",
      "   sum  retained  \n",
      "0    2         1  \n",
      "1    0         0  \n",
      "2    1         0  \n",
      "3    2         1  \n",
      "4    1         0  \n"
     ]
    }
   ],
   "source": [
    "#Create a new column that identifies \"retained\" customers if they've taken a trip within the preceding 30 days\n",
    "#(last date on file is 7/1/14) and they took more than 1 trip in their first 30 days.\n",
    "with open('./ultimate_data_challenge.json') as file:\n",
    "    data = json.load(file)\n",
    "\n",
    "df_new = pd.DataFrame(data)\n",
    "df_new.head()\n",
    "\n",
    "df_new['recent'] = [1 if ele >= '2014-06-01' else 0 for ele in df_new['last_trip_date']]\n",
    "df_new['frequent'] = [1 if ele > 1 else 0 for ele in df_new['trips_in_first_30_days']]\n",
    "df_new['sum'] = df_new['recent'] + df_new['frequent']\n",
    "df_new['retained'] = [1 if ele == 2 else 0 for ele in df_new['sum']]\n",
    "\n",
    "#Replace missing values for avg_rating_by_driver and avg_rating_of_driver with the mean\n",
    "\n",
    "df_new.avg_rating_by_driver.fillna(df_new.avg_rating_by_driver.mean(), inplace=True)\n",
    "df_new.avg_rating_of_driver.fillna(df_new.avg_rating_of_driver.mean(), inplace=True)\n",
    "\n",
    "print(df_new.info())\n",
    "\n",
    "print(df_new.head())"
   ]
  },
  {
   "cell_type": "code",
   "execution_count": 31,
   "metadata": {},
   "outputs": [
    {
     "data": {
      "text/plain": [
       "0    39901\n",
       "1    10099\n",
       "Name: retained, dtype: int64"
      ]
     },
     "execution_count": 31,
     "metadata": {},
     "output_type": "execute_result"
    }
   ],
   "source": [
    "df_new.retained.value_counts()"
   ]
  },
  {
   "cell_type": "code",
   "execution_count": 32,
   "metadata": {},
   "outputs": [
    {
     "name": "stdout",
     "output_type": "stream",
     "text": [
      "Number of Subscribers Not Retained: 39,901\n",
      "Number of Subscribers Retained: 10,099\n",
      "Percentage of Subscribers Not Retained: 79.80%\n",
      "Percentage of Subscribers Retained: 20.20%\n"
     ]
    }
   ],
   "source": [
    "#Count the number of customers considered retained (took more than 1 trip within 30 days of signup)\n",
    "ret_status = df_new['retained'].value_counts()\n",
    "notret = float(ret_status[0])\n",
    "retained = float(ret_status[1])\n",
    "total_subs = float(len(df2))\n",
    "per_not_ret = float(notret/total_subs)\n",
    "per_retained = float(retained/total_subs)\n",
    "\n",
    "print('Number of Subscribers Not Retained:',\"{0:,.0f}\".format(notret))\n",
    "print('Number of Subscribers Retained:', \"{0:,.0f}\".format(retained))\n",
    "print('Percentage of Subscribers Not Retained:', \"{:.2%}\".format(per_not_ret))\n",
    "print('Percentage of Subscribers Retained:', \"{:.2%}\".format(per_retained))"
   ]
  },
  {
   "cell_type": "code",
   "execution_count": 33,
   "metadata": {},
   "outputs": [
    {
     "name": "stdout",
     "output_type": "stream",
     "text": [
      "   avg_dist  avg_rating_by_driver  avg_rating_of_driver  avg_surge  city  \\\n",
      "0      3.67                   5.0                   4.7       1.10     3   \n",
      "1      8.26                   5.0                   5.0       1.00     2   \n",
      "2      0.77                   5.0                   4.3       1.00     2   \n",
      "3      2.36                   4.9                   4.6       1.14     3   \n",
      "4      3.13                   4.9                   4.4       1.19     1   \n",
      "\n",
      "  last_trip_date  phone signup_date  surge_pct  trips_in_first_30_days  \\\n",
      "0     2014-06-17      1  2014-01-25       15.4                       4   \n",
      "1     2014-05-05      2  2014-01-29        0.0                       0   \n",
      "2     2014-01-07      1  2014-01-06        0.0                       3   \n",
      "3     2014-06-29      1  2014-01-10       20.0                       9   \n",
      "4     2014-03-15      2  2014-01-27       11.8                      14   \n",
      "\n",
      "   ultimate_black_user  weekday_pct  recent  frequent  sum  retained  \n",
      "0                    1         46.2       1         1    2         1  \n",
      "1                    0         50.0       0         0    0         0  \n",
      "2                    0        100.0       0         1    1         0  \n",
      "3                    1         80.0       1         1    2         1  \n",
      "4                    0         82.4       0         1    1         0  \n"
     ]
    }
   ],
   "source": [
    "#Drop the outlier\n",
    "df_new = df_new[df_new.trips_in_first_30_days != 125]\n",
    "\n",
    "#Turn Ultimate black users True/False into 1, 0 format\n",
    "\n",
    "df_new['ultimate_black_user'] = [1 if ele == True else 0 for ele in df_new['ultimate_black_user']]\n",
    "\n",
    "#Create categorical columns for iPhone and Android\n",
    "df_new['phone'] = [1 if ele == \"iPhone\" else 2 for ele in df_new['phone']]\n",
    "\n",
    "#Create columns for city data\n",
    "df_new['city'] = [1 if ele == \"Winterfell\" else 2 if ele == \"Astapor\" else 3 for ele in df_new['city']]\n",
    "\n",
    "print(df_new.head())"
   ]
  },
  {
   "cell_type": "code",
   "execution_count": 34,
   "metadata": {},
   "outputs": [
    {
     "name": "stdout",
     "output_type": "stream",
     "text": [
      "<class 'pandas.core.frame.DataFrame'>\n",
      "Int64Index: 49999 entries, 0 to 49999\n",
      "Data columns (total 11 columns):\n",
      "avg_dist                  49999 non-null float64\n",
      "avg_rating_by_driver      49999 non-null float64\n",
      "avg_rating_of_driver      49999 non-null float64\n",
      "avg_surge                 49999 non-null float64\n",
      "city                      49999 non-null int64\n",
      "phone                     49999 non-null int64\n",
      "surge_pct                 49999 non-null float64\n",
      "trips_in_first_30_days    49999 non-null int64\n",
      "ultimate_black_user       49999 non-null int64\n",
      "weekday_pct               49999 non-null float64\n",
      "retained                  49999 non-null int64\n",
      "dtypes: float64(6), int64(5)\n",
      "memory usage: 4.6 MB\n"
     ]
    }
   ],
   "source": [
    "#Drop the date columns\n",
    "df_new = df_new.drop(['signup_date', 'last_trip_date', 'recent', 'frequent', 'sum'], axis=1)\n",
    "df_new.info()"
   ]
  },
  {
   "cell_type": "code",
   "execution_count": 35,
   "metadata": {},
   "outputs": [
    {
     "name": "stdout",
     "output_type": "stream",
     "text": [
      "[1 0 0 ..., 0 0 0]\n"
     ]
    }
   ],
   "source": [
    "y1 = df_new['retained'].values\n",
    "X1 = df_new.drop('retained', axis = 1).values\n",
    "\n",
    "print(y1)"
   ]
  },
  {
   "cell_type": "code",
   "execution_count": 36,
   "metadata": {},
   "outputs": [
    {
     "name": "stdout",
     "output_type": "stream",
     "text": [
      "Train shape: (39999, 10)(39999,)\n",
      "Test shape: (10000, 10)(10000,)\n"
     ]
    }
   ],
   "source": [
    "#Split the data into training and test set\n",
    "from sklearn.model_selection import train_test_split\n",
    "X_train1, X_test1, y_train1, y_test1 = train_test_split(X1, y1, test_size = 0.2, random_state = 21, stratify=y)\n",
    "\n",
    "print ('Train shape: '+ str(X_train1.shape)+str(y_train1.shape))\n",
    "print ('Test shape: ' +str(X_test1.shape)+str( y_test1.shape))"
   ]
  },
  {
   "cell_type": "code",
   "execution_count": 37,
   "metadata": {},
   "outputs": [
    {
     "name": "stdout",
     "output_type": "stream",
     "text": [
      "Accuracy Score: 0.8435\n",
      "ROC Score: 0.887759787937\n",
      "[[7722  272]\n",
      " [1293  713]]\n",
      "             precision    recall  f1-score   support\n",
      "\n",
      "          0       0.86      0.97      0.91      7994\n",
      "          1       0.72      0.36      0.48      2006\n",
      "\n",
      "avg / total       0.83      0.84      0.82     10000\n",
      "\n"
     ]
    }
   ],
   "source": [
    "#Logistic Regression\n",
    "model1 = LogisticRegression()\n",
    "\n",
    "model1.fit(X_train1, y_train1)\n",
    "\n",
    "predicted1 = model1.predict(X_test1)\n",
    "probs1 = model1.predict_proba(X_test1)\n",
    "\n",
    "print ('Accuracy Score:', metrics.accuracy_score(y_test1, predicted1))\n",
    "print ('ROC Score:', metrics.roc_auc_score(y_test1, probs1[:, 1]))\n",
    "\n",
    "print(confusion_matrix(y_test1, predicted1))\n",
    "print(classification_report(y_test1, predicted1))"
   ]
  },
  {
   "cell_type": "code",
   "execution_count": 38,
   "metadata": {},
   "outputs": [
    {
     "name": "stdout",
     "output_type": "stream",
     "text": [
      "[ 0.84163167  0.8412      0.84        0.8496      0.8414      0.8418\n",
      "  0.8408      0.8412      0.84876975  0.84176835]\n",
      "0.842816978129\n"
     ]
    }
   ],
   "source": [
    "scores1 = cross_val_score(LogisticRegression(), X1, y1, scoring='accuracy', cv=10)\n",
    "\n",
    "print (scores1)\n",
    "print (scores1.mean())"
   ]
  },
  {
   "cell_type": "code",
   "execution_count": 39,
   "metadata": {},
   "outputs": [
    {
     "name": "stdout",
     "output_type": "stream",
     "text": [
      "\n",
      "\n",
      "Confusion Matrix for Classification Model:\n",
      "\n",
      " [[7722  272]\n",
      " [1293  713]]\n"
     ]
    },
    {
     "data": {
      "image/png": "[encoded data removed]",
      "text/plain": [
       "<matplotlib.figure.Figure at 0x258e30bcba8>"
      ]
     },
     "metadata": {},
     "output_type": "display_data"
    }
   ],
   "source": [
    "#Printing confusion Matrix\n",
    "logreg_confusion_matrix1 = confusion_matrix(y_test1, predicted1, labels=[0,1])\n",
    "print(\"\\n\\nConfusion Matrix for Classification Model:\\n\\n\",logreg_confusion_matrix1)\n",
    "\n",
    "plt.figure()\n",
    "sns.heatmap(logreg_confusion_matrix1, annot=True, cbar=False, cmap=\"Blues\", fmt=\"d\") \n",
    "#string formatting 'd' gives decimal integer\n",
    "plt.xlabel(\"Predicted Labels\")\n",
    "plt.ylabel(\"True Labels\")\n",
    "plt.title(\"Confusion Matrix\\nLogistic Regression\")\n",
    "\n",
    "plt.show()"
   ]
  },
  {
   "cell_type": "code",
   "execution_count": 41,
   "metadata": {},
   "outputs": [
    {
     "data": {
      "image/png": "[encoded data removed]",
      "text/plain": [
       "<matplotlib.figure.Figure at 0x258e5a0f908>"
      ]
     },
     "metadata": {},
     "output_type": "display_data"
    }
   ],
   "source": [
    "#Printing ROC Curve\n",
    "y_pred_prob1 = model1.predict_proba(X_test1)[:,1]\n",
    "\n",
    "fpr1, tpr1, thresholds1 = roc_curve(y_test1, y_pred_prob1)\n",
    "\n",
    "plt.plot([0, 1], [0, 1], 'k--')\n",
    "plt.plot(fpr1, tpr1, label= 'Logistic Regression')\n",
    "plt.xlabel('False Positive Rate')\n",
    "plt.ylabel('True Positive Rate')\n",
    "plt.title('Logistic Regression ROC Curve')\n",
    "\n",
    "plt.show()"
   ]
  },
  {
   "cell_type": "code",
   "execution_count": 42,
   "metadata": {},
   "outputs": [
    {
     "name": "stderr",
     "output_type": "stream",
     "text": [
      "C:\\Users\\jrenaud\\AppData\\Local\\Continuum\\anaconda3\\lib\\site-packages\\statsmodels\\compat\\pandas.py:56: FutureWarning: The pandas.core.datetools module is deprecated and will be removed in a future version. Please use the pandas.tseries module instead.\n",
      "  from pandas.core import datetools\n"
     ]
    }
   ],
   "source": [
    "#Random Forest on first X, y values\n",
    "import statsmodels.api as sm\n",
    "import matplotlib as mpl\n",
    "import pylab\n",
    "import scipy.stats as stats\n",
    "from patsy import dmatrices\n",
    "from sklearn.ensemble import RandomForestClassifier\n",
    "from sklearn.tree import DecisionTreeRegressor\n",
    "\n",
    "%matplotlib inline \n",
    "mpl.style.available\n",
    "mpl.style.use('ggplot') "
   ]
  },
  {
   "cell_type": "code",
   "execution_count": 43,
   "metadata": {},
   "outputs": [
    {
     "name": "stdout",
     "output_type": "stream",
     "text": [
      "0.9537\n",
      "0.981695963572\n",
      "             precision    recall  f1-score   support\n",
      "\n",
      "          0       0.97      0.96      0.96      6239\n",
      "          1       0.93      0.95      0.94      3761\n",
      "\n",
      "avg / total       0.95      0.95      0.95     10000\n",
      "\n"
     ]
    }
   ],
   "source": [
    "model3 = RandomForestClassifier(n_estimators=5)\n",
    "model3.fit(X_train, y_train)\n",
    "\n",
    "predicted3 = model3.predict(X_test)\n",
    "probs3 = model3.predict_proba(X_test)\n",
    "\n",
    "print (metrics.accuracy_score(y_test, predicted3))\n",
    "print (metrics.roc_auc_score(y_test, probs3[:, 1]))\n",
    "print (classification_report(y_test, predicted3))"
   ]
  },
  {
   "cell_type": "code",
   "execution_count": 45,
   "metadata": {},
   "outputs": [
    {
     "name": "stdout",
     "output_type": "stream",
     "text": [
      "62.3932478649573\n"
     ]
    }
   ],
   "source": [
    "# percentage tells you how much predicition you would get if you always predict a zero outcome (i.e. the division of 0 versus 1 outcomes)\n",
    "\n",
    "len_y=len(y)\n",
    "temp=[i for i in y if i==0]\n",
    "temp_1=temp.count(0)\n",
    "\n",
    "percentage = float(temp_1)/float(len_y)\n",
    "print (percentage *100)"
   ]
  },
  {
   "cell_type": "code",
   "execution_count": 46,
   "metadata": {},
   "outputs": [
    {
     "data": {
      "image/png": "[encoded data removed]",
      "text/plain": [
       "<matplotlib.figure.Figure at 0x258e23ac860>"
      ]
     },
     "metadata": {},
     "output_type": "display_data"
    }
   ],
   "source": [
    "scores=[]\n",
    "for val in range (1,40):\n",
    "    clf=RandomForestClassifier(n_estimators=val)\n",
    "    validated=cross_val_score(clf, X, y, cv=10, scoring='accuracy')\n",
    "    scores.append(validated)\n",
    "\n",
    "fig, axes = plt.subplots(figsize=(16,6))\n",
    "bp = plt.boxplot(scores)\n",
    "plt.setp(bp['boxes'], color='black')\n",
    "plt.setp(bp['whiskers'], color='black')\n",
    "plt.setp(bp['fliers'], color='red', marker='o')\n",
    "plt.axhline(y=percentage, ls='--')\n",
    "plt.xlabel('number of trees')\n",
    "plt.ylabel('classification score')\n",
    "plt.grid()"
   ]
  },
  {
   "cell_type": "code",
   "execution_count": 51,
   "metadata": {},
   "outputs": [
    {
     "name": "stdout",
     "output_type": "stream",
     "text": [
      "0.888\n",
      "0.92103608489\n",
      "             precision    recall  f1-score   support\n",
      "\n",
      "          0       0.93      0.93      0.93      7994\n",
      "          1       0.72      0.72      0.72      2006\n",
      "\n",
      "avg / total       0.89      0.89      0.89     10000\n",
      "\n"
     ]
    }
   ],
   "source": [
    "#Repeat on 2nd dataset\n",
    "model4 = RandomForestClassifier(n_estimators=5)\n",
    "model4.fit(X_train1, y_train1)\n",
    "\n",
    "predicted4 = model4.predict(X_test1)\n",
    "probs4 = model4.predict_proba(X_test1)\n",
    "\n",
    "print (metrics.accuracy_score(y_test1, predicted4))\n",
    "print (metrics.roc_auc_score(y_test1, probs4[:, 1]))\n",
    "print (classification_report(y_test1, predicted4))"
   ]
  },
  {
   "cell_type": "code",
   "execution_count": 52,
   "metadata": {},
   "outputs": [
    {
     "name": "stdout",
     "output_type": "stream",
     "text": [
      "79.80359607192143\n"
     ]
    }
   ],
   "source": [
    "# percentage tells you how much predicition you would get if you always predict a zero outcome (i.e. the division of 0 versus 1 outcomes)\n",
    "\n",
    "len_y1=len(y1)\n",
    "temp1=[i for i in y1 if i==0]\n",
    "temp_2=temp1.count(0)\n",
    "\n",
    "percentage1 = float(temp_2)/float(len_y1)\n",
    "print (percentage1 *100)"
   ]
  },
  {
   "cell_type": "code",
   "execution_count": 53,
   "metadata": {},
   "outputs": [
    {
     "data": {
      "image/png": "[encoded data removed]",
      "text/plain": [
       "<matplotlib.figure.Figure at 0x258ea40cc88>"
      ]
     },
     "metadata": {},
     "output_type": "display_data"
    }
   ],
   "source": [
    "scores=[]\n",
    "for val in range (1,40):\n",
    "    clf1=RandomForestClassifier(n_estimators=val)\n",
    "    validated1=cross_val_score(clf, X1, y1, cv=10, scoring='accuracy')\n",
    "    scores.append(validated1)\n",
    "\n",
    "fig, axes = plt.subplots(figsize=(16,6))\n",
    "bp = plt.boxplot(scores)\n",
    "plt.setp(bp['boxes'], color='black')\n",
    "plt.setp(bp['whiskers'], color='black')\n",
    "plt.setp(bp['fliers'], color='red', marker='o')\n",
    "plt.axhline(y=percentage, ls='--')\n",
    "plt.xlabel('number of trees')\n",
    "plt.ylabel('classification score')\n",
    "plt.grid()"
   ]
  },
  {
   "cell_type": "code",
   "execution_count": null,
   "metadata": {
    "collapsed": true
   },
   "outputs": [],
   "source": []
  }
 ],
 "metadata": {
  "kernelspec": {
   "display_name": "Python 3",
   "language": "python",
   "name": "python3"
  },
  "language_info": {
   "codemirror_mode": {
    "name": "ipython",
    "version": 3
   },
   "file_extension": ".py",
   "mimetype": "text/x-python",
   "name": "python",
   "nbconvert_exporter": "python",
   "pygments_lexer": "ipython3",
   "version": "3.6.3"
  }
 },
 "nbformat": 4,
 "nbformat_minor": 2
}
