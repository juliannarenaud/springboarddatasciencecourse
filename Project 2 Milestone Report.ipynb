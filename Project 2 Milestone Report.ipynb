{
 "cells": [
  {
   "cell_type": "markdown",
   "metadata": {},
   "source": [
    "# Customer Segmentation Using Machine Learning\n",
    "\n",
    "Capstone Project for Springboard Intensive Data Science Course\n",
    "\n",
    "Julianna Renaud\n",
    "\n",
    "## The Project\n",
    "\n",
    "According to an article published by Joshua Saxon on the American Marketing Association (AMA) website, in 2017, \"the average consumer is exposed to up to 10,000 brand messages a day.\" Brands and marketers are challenged more than ever before to have their message break through the clutter, resonate and initiate a response for their brand. Marketers are challenged with achieving their KPIs such as increasing their Return on Ad Spend (ROAS), increasing Conversion Rate (CVR), in a world where they have to fight even harder than ever before for the consumer's attention.\n",
    "\n",
    "By understanding who their customers are and the behavior of those customers, marketers have a better chance of breaking through the clutter with their message. Additionally, marketers can begin to have increased success with acquisition campaigns through more targeted look-a-like campaigns when they leverage data from their best customers. \n",
    "\n",
    "This project utilizes machine learning to create customer segments based on historical purchase data.\n",
    "\n",
    "\n",
    "## The Client\n",
    "\n",
    "*For confidentiality purposes, the name of this client will remain anonymous. The client will be referred to as “the Client” throughout.*\n",
    "\n",
    "\n",
    "The client for this project is a fashion retailer selling selling men's, women's and kids clothing and accessories. This project utilizes data from the client's eCommerce customers.\n",
    "\n",
    "\n",
    "## The Data\n",
    "\n",
    "The client imports purchase data into their Email Service Provider (ESP). For the sake of anonymity, data was pulled using a unique Subscriber ID assigned by the ESP. No Personally Identifiable Information (PII) was utilized. The purchase data is from 12/29/2011 through 2/2/2018. \n",
    "\n",
    "The following files were pulled using SQL queries from the ESP:\n",
    "* Account Master for: Subscriber ID, First Purchase Date, Last Purchase Date (Dates: 12/29/2011 through 1/20/2018)\n",
    "* Products File for:  Product details such as category, sub-category, etc.\n",
    "* Purchase File for: Purchase details such as Order ID, Product ID (SKU), Subscriber ID (purchaser)\n",
    "* Subscriber Status for: Determining if the Subscriber is subscribed to the client's email program\n",
    "* Sent Count for: The total number of emails sent to the subscriber in the last six months\n",
    "* Open Count for: The total number of email opens (a measure of engagement with email program) in the last six months (max open date 1/24/2018)\n",
    "* Click Count for: The total number of email clicks (a measure of engagement with email content) in the last six months (max click date 1/24/2018)\n",
    "\n",
    "\n",
    "## Methodology\n",
    "\n",
    "This project was treated as an unsupervised learning clustering problem.\n",
    "\n",
    "### Libraries:\n",
    "\n",
    "* pandas for: data loading, wrangling, cleaning and manipulation, descriptive statistics\n",
    "* datetime for: converting date columns into the appropriate format\n",
    "* numpy for: array data structure, mathmatical/statistical analysis\n",
    "* scikit-learn for: data preprocessing\n",
    "* matplotlib for: data visualization\n",
    "* seaborn for: data visualization\n",
    "\n",
    "* scipy for: statistical analysis\n",
    "\n",
    "### Data Wrangling and Cleaning\n",
    "\n",
    "The data came in the form of CSV files which were loaded into pandas dataframes. High level details of data wrangling/cleaning steps are below with additional file specific data wrangling/cleaning details following:\n",
    "\n",
    "* Date fields required proper formatting.\n",
    "* Missing data was handled in a variety of different ways depending upon the field (specifics are included within the file specific details below).\n",
    "* Create numeric categorical columns from text columns\n",
    "* Pivoting was necessary to create a master file that contained only one row for each Subscriber ID. Some of the data needed to be pivoted and summed (i.e. quantity of products orders, order value). Some of the data needed to be pivoted and the max value taken (i.e. order date)\n",
    "\n",
    "\n",
    "#### Account Master: This file originally contained 20 columns.\n",
    "* Only six of the 20 columns did not contain null data. After analyzing columns with null data, it was determined that most of the columns contained in this file were not indicators of the customer's shopping behavior. All but three columns were dropped from this file. \n",
    "* The few fields that were binary indicators of self-selected preferences only contained \"True\" values for approximately 4% of all Subscriber IDs. These columns were removed due to their uneven distribution of T/F entries.\n",
    "* From this file, Subscriber ID, First and Last Purchase Dates are the three columns that remained.\n",
    "\n",
    "#### Email Data Files (Subscriber Status, Sent Count, Open Count, Click Count)\n",
    "* None of these individual files contained any missing data. Data cleaning was minimal for these files.\n",
    "* The Subscriber Status file only contained one record with an \"Unsubscribed\" status. This one record was removed. If the Subscriber ID turns out to match with a Subscriber ID on the Purchase File, then it will be classified as \"Not an Email Subscriber\" in a subsequent step.\n",
    "* These four files were joined (outer join) to create a wholistic email view of the Subscriber ID.\n",
    "* Engagement metrics were calculated (Open Rate, Click Rate, Click to Open Rate) since the counts are only relative when compared to the number of campaigns received (i.e. a subscriber whose opened 10 emails, but has received 20 is very different than one whose opened 10 emails, but has received 100).\n",
    "* The original columns for Sent Count, Open Count and Click Count were then subsequently dropped.\n",
    "* Missing data was replaced with \"0\".\n",
    "\n",
    "#### Email Data Files Combined with Account Master\n",
    "* The Account Master and combined email file were joined (outer join).\n",
    "* There were some records that were not on the Account Master file and therefore did not have a First or Last Purchase Date. Those columns with missing data were filled with \"0\".\n",
    "\n",
    "#### Products File: This file originally contained 24 columns.\n",
    "* Only four of the 24 columns did not contain null data. All but five columns were dropped from this file. Four columns did not contain any data and were immediately dropped altogether. With the exception of the five columns, it was determined that the remaining columns contained product details that were too granular for use in clustering.\n",
    "* From this file, Product ID, Product Department, Product Department Size (i.e. Regular, Plus, Toddler, etc), Product Category, and Product Brand are the five columns that remained. Product ID was kept, because it was the necessary field for joining the Product File the Purchase File.\n",
    "\n",
    "#### Purchase File: This file originally contained 19 columns.\n",
    "* Only three of the 19 columns contained null data. \n",
    "* Zip Code column contained missing data and was determined to be too granular for customer clustering and was dropped altogether.\n",
    "* Product Quantity was missing from 1,364 rows. After running the mean, median and mode for this column, it was determined to replace missing values with 1. The mean was 1.48, the mode was 1.0 and the Median was 1.0 and since someone can only purchase products in whole numbers, 1 was determined to be the best fit for missing data.\n",
    "* State was the other column with missing data. Since the brand only promotes US shipping on the website, and 99.82% of the rows contained \"US\" in the country field, I dropped all rows that did not contain \"US\" with the country column. Since all of the rows that were missing state date had something other than \"US\" in the country column this resolved the missing data issue for state.\n",
    "* Upon further investigation into the state column, there was six state codes that I did decide to drop (AA, AP, MP, PR, VI, and AE). The majority of these are overseas military addresses. While valid state codes, I determined that there were not enough rows from these military \"states\" and that it would be more insightful to analyze customers from within the traditional 50 states.\n",
    "* In addition to dropping zip code (noted above), other columns were determined to either contain data too granular for clustering or to contain data irrelevant to consumer behavior (such as shipping charge and insert date).\n",
    "* Eleven of the 19 columns were maintained from this file.\n",
    "\n",
    "#### Products File Combined With Purchase File\n",
    "* The Product File and Purchase files were joined based on the Product ID\n",
    "* After joining the files, it was determined that there were some product that were on the Purchase File that were missing Product Size and Product Brand data. Through further analysis of products with null values, it was determined that the best way to handle these missing values was to replace them with a \"No Size\" and \"No Brand\". The majority of these products were items such as accessories where size is not applicable.\n",
    "\n",
    "#### Combined Product & Purchase File was Joined to the Combined Email & Account Master File\n",
    "After joining all of the files together into one large dataframe, some additional cleanup was necessary:\n",
    "* Filled any null values with \"0\"\n",
    "* Created a binary \"PromoUsed\" column populated with a 1 if either a Product or Shipping promo was used in the purchase\n",
    "* Created numeric categorical columns from text columns. Consolidated some of the categories when appropriate. For example, Department Category of \"Jackets\" was consolidated with \"Jackets & Outerwear\".\n",
    "* Multiplied the categorical columns by the product quantity purchased in that row for the category (this is necessary for rows with multiples of the same product were purchased in the same order in order to have an accurate sum of products purchased by category when pivoting the data).\n",
    "\n",
    "#### Pivot the Data to Create a DataFrame with a single row by SubscriberID\n",
    "* Create recency by number of days columns. Convert data columns into relevant number of days columns that provide indication of how recently the subscriber performed the activity (i.e. number of days since most recent purchase)\n",
    "* Create a DataFrame with one row per Order ID\n",
    "* Utilize the new DataFrame to calculate the total number of orders the Subscriber ID has made in their lifetime\n",
    "* Create a DataFrame that calculates number of products purchased, LTV, number of products purchased in each category, number of orders a promo code was used, number of orders made for each state, etc. by SubscriberID.\n",
    "* Calculate AOV, UPT and Promo Use Percentage (percentage of total orders a promo code was used, i.e. how much of a promotional shopper are they) by SubscriberID\n",
    "* Rejoin the files to create a DataFrame with a single row for each subscriber\n",
    "\n",
    "### EDA\n",
    "\n",
    "Purpose: Gain insight into the final dataset and begin to understand the following:\n",
    "* Uncover the underlying structure of the data\n",
    "* Identify if there are any features that may be imbalanced\n",
    "\n",
    "Overview of Tasks Performed:\n",
    "* Identified the percentage of SubscriberIDs that have never made a purchase \n",
    "* Split the data into two DataFrames, purchasers and non purchasers (for the purposes of this project we will cluster purchasers) \n",
    "* Identified and removed SubscriberIDs that are outliers based on their LTV\n",
    "* Analyzed the LTV, Purchase Frequency, Recency, Subscriber AOV (LTV/Frequency), Subscriber UPT (Units Purchased/Frequency), Email Status, Product Category, Product Brand, Product Size and Product Department Data\n",
    "\n",
    "\n",
    "## Initial Findings\n",
    "\n",
    "* Just under half of the entire list (45%) of SubscriberIDs that the client has within their ESP have ever made a purchase\n",
    "\n",
    "Purchaser Findings:\n",
    "* Recency: 28% of buyers have made their most recent purchase within the last 365 days\n",
    "* Frequency: 64% have only made a single purchase in their lifetime with the brand; of this group, 25% of them made thier purchase within the last 365 days\n",
    "* Frequency: 21% have made only two purchases in their lifetime with the brand\n",
    "* Frequency: That means that 85% of all customers have made two or fewer purchases with the brand\n",
    "* Monetary Value: 95% have a Lifetime Value (LTV) between \\$20 and \\$520\n",
    "* Monetary Value: Without the outliers removed, the average LTV is \\$127.99; after remove the top and bottom outliers and keeping 95% of the customers, the LTV drops to $110.83\n",
    "* Monetary Value: 75% of customers have an LTV of \\$143.84 or less\n",
    "* Monetary Value: 50% of customers have an LTV of \\$78.98 or less\n",
    "* Monetary Value: The bottom 25% of customers have an LTV of \\$44.97 or less\n",
    "* Monetary Value: The top customer has an LTV of \\$51,496.07\n",
    "* On average, a customer will spend \\$69.96 per purchase (subscriber AOV)\n",
    "* On average, a customer will purchase 2.33 items per order\n",
    "\n",
    "Product Findings:\n",
    "* 72.82% of products purchased were from the Mens Regular size group\n",
    "* 90.80% of products purchased were from the Mens Department\n",
    "* 87.76% of products purchases were jeans/pants/overalls/shorts\n",
    "* Western accounts for 37% of products sold and has the highest quantity of products sold is western"
   ]
  },
  {
   "cell_type": "markdown",
   "metadata": {},
   "source": [
    "# Code\n",
    "*For confidentiality purposes, some of the originally printed items have been commented out to keep data as annonymous as possible.*"
   ]
  },
  {
   "cell_type": "code",
   "execution_count": 1,
   "metadata": {
    "collapsed": true
   },
   "outputs": [],
   "source": [
    "#Import Modules Necessary\n",
    "import pandas as pd\n",
    "from datetime import datetime\n",
    "import numpy as np\n",
    "from sklearn.preprocessing import LabelBinarizer\n",
    "import matplotlib.pyplot as plt\n",
    "import seaborn as sns\n"
   ]
  },
  {
   "cell_type": "markdown",
   "metadata": {
    "collapsed": true
   },
   "source": [
    "# Initial Data Import, Wrangling and Cleaning"
   ]
  },
  {
   "cell_type": "code",
   "execution_count": 2,
   "metadata": {
    "collapsed": true
   },
   "outputs": [],
   "source": [
    "#Assign each file a variable name\n",
    "file1 = 'Account_Master_CRM20180124_v2.csv'\n",
    "file2 = 'ClickCount20180124.csv'\n",
    "file3 = 'OpenCount20180124.csv'\n",
    "file4 = 'Product_staging20180124.csv'\n",
    "file5 = 'Purchase_Purchase_NoEmail20180206.csv'\n",
    "file6 = 'SentCount20180124.csv'\n",
    "file7 = 'Subscriber_Status20180124.csv'"
   ]
  },
  {
   "cell_type": "code",
   "execution_count": 3,
   "metadata": {
    "collapsed": true
   },
   "outputs": [],
   "source": [
    "#Import Account Master file\n",
    "AccountMaster_df = pd.read_csv(file1, header = 0,  dtype = {'ZIPCODE': str,'VENDORSOURCE': str,'INSERT_DATE': str, \n",
    "                                                            'First_PURCH_DATE': str, 'Last_PURCH_DATE': str, 'Source': str,\n",
    "                                                            'SubTypeSignup': str, 'EcomSegment': str, 'Gender': str,\n",
    "                                                            'ACTIVITIES': str, 'BRAND_W': bool, 'BRAND_F': bool,\n",
    "                                                            'BRAND_WW': bool, 'BRAND_O': bool,'EVENTS': str,\n",
    "                                                            'OCCUPATION': str, 'STORENUMBER': str, 'CUSTOMER_NO': float,\n",
    "                                                            'SUBSCRIBERID': float,'OPTIN_STATUS': str}, engine = 'c', encoding= \"ISO-8859-1\")\n",
    "\n",
    "#Check the fields for each\n",
    "#print(AccountMaster_df.info())\n",
    "#print(AccountMaster_df.head())"
   ]
  },
  {
   "cell_type": "code",
   "execution_count": 4,
   "metadata": {},
   "outputs": [
    {
     "name": "stdout",
     "output_type": "stream",
     "text": [
      "Brand_W:\n",
      " False    966577\n",
      "True      95118\n",
      "Name: BRAND_W, dtype: int64\n",
      "\n",
      "Brand_F:\n",
      " False    979814\n",
      "True      81881\n",
      "Name: BRAND_F, dtype: int64\n",
      "\n",
      "Brand_WW:\n",
      " False    1027740\n",
      "True       33955\n",
      "Name: BRAND_WW, dtype: int64\n",
      "\n",
      "Brand_O:\n",
      " False    1023546\n",
      "True       38149\n",
      "Name: BRAND_O, dtype: int64\n"
     ]
    }
   ],
   "source": [
    "#Determine the number of subscribers that have indicated interest in particular brands through the email preference center\n",
    "print('Brand_W:\\n', AccountMaster_df.BRAND_W.value_counts())\n",
    "print('\\nBrand_F:\\n', AccountMaster_df.BRAND_F.value_counts())\n",
    "print('\\nBrand_WW:\\n', AccountMaster_df.BRAND_WW.value_counts())\n",
    "print('\\nBrand_O:\\n', AccountMaster_df.BRAND_O.value_counts())"
   ]
  },
  {
   "cell_type": "code",
   "execution_count": 5,
   "metadata": {
    "collapsed": true
   },
   "outputs": [],
   "source": [
    "#Clean the Account Master file\n",
    "\n",
    "#Drop columns that have no data or significant amounts of missing data, or in the case of the BRAND_[] columns, small percentages of True values\n",
    "AccountMaster_df = AccountMaster_df.drop(['INSERT_DATE','BRAND_W','BRAND_F','BRAND_WW','BRAND_O','ZIPCODE','VENDORSOURCE', 'Source', 'SubTypeSignup', 'EcomSegment', 'Gender', 'ACTIVITIES', 'EVENTS', 'OCCUPATION', 'STORENUMBER', 'CUSTOMER_NO', 'OPTIN_STATUS'], axis=1)\n",
    "\n",
    "#Update the Date columns to correct format\n",
    "#AccountMaster_df['INSERT_DATE'] = pd.to_datetime(AccountMaster_df['INSERT_DATE'], format='%m/%d/%Y %H:%M:%S %p')\n",
    "AccountMaster_df['First_PURCH_DATE'] = pd.to_datetime(AccountMaster_df['First_PURCH_DATE'], format='%m/%d/%Y %H:%M:%S %p')\n",
    "AccountMaster_df['Last_PURCH_DATE'] = pd.to_datetime(AccountMaster_df['Last_PURCH_DATE'], format='%m/%d/%Y %H:%M:%S %p')\n",
    "\n",
    "#Fill missing values with 0\n",
    "AccountMaster_df = AccountMaster_df.fillna(0)\n",
    "\n",
    "#print(AccountMaster_df.info())\n",
    "#print(AccountMaster_df.head())"
   ]
  },
  {
   "cell_type": "code",
   "execution_count": 6,
   "metadata": {},
   "outputs": [
    {
     "name": "stdout",
     "output_type": "stream",
     "text": [
      "<class 'pandas.core.frame.DataFrame'>\n",
      "RangeIndex: 1088103 entries, 0 to 1088102\n",
      "Data columns (total 2 columns):\n",
      "SubscriberID    1088103 non-null int64\n",
      "Status          1088103 non-null object\n",
      "dtypes: int64(1), object(1)\n",
      "memory usage: 16.6+ MB\n",
      "None\n",
      "   SubscriberID  Status\n",
      "0      97474651  active\n",
      "1      97474672  active\n",
      "2      97474830    held\n",
      "3      97474831  active\n",
      "4      97474908  active\n"
     ]
    }
   ],
   "source": [
    "#Import Subscriber Status File\n",
    "SubStatus_df = pd.read_csv(file7)\n",
    "\n",
    "print(SubStatus_df.info())\n",
    "print(SubStatus_df.head())\n",
    "#print(SubStatus_df['Status'].value_counts())"
   ]
  },
  {
   "cell_type": "code",
   "execution_count": 7,
   "metadata": {
    "collapsed": true
   },
   "outputs": [],
   "source": [
    "#Remove the single instance of \"unsubscribed\"\n",
    "SubStatus_df = SubStatus_df[SubStatus_df.Status !='unsubscribed']\n",
    "#print(SubStatus_df['Status'].value_counts())"
   ]
  },
  {
   "cell_type": "code",
   "execution_count": 8,
   "metadata": {},
   "outputs": [
    {
     "name": "stdout",
     "output_type": "stream",
     "text": [
      "<class 'pandas.core.frame.DataFrame'>\n",
      "RangeIndex: 458998 entries, 0 to 458997\n",
      "Data columns (total 2 columns):\n",
      "JobCount        458998 non-null int64\n",
      "SubscriberID    458998 non-null int64\n",
      "dtypes: int64(2)\n",
      "memory usage: 7.0 MB\n",
      "None\n",
      "   JobCount  SubscriberID\n",
      "0         6      35850121\n",
      "1        92     153637247\n",
      "2         6      84049057\n",
      "3        94     174621922\n",
      "4        93      38539690\n"
     ]
    }
   ],
   "source": [
    "#Import Sent file\n",
    "Sent_df = pd.read_csv(file6)\n",
    "\n",
    "print(Sent_df.info())\n",
    "print(Sent_df.head())"
   ]
  },
  {
   "cell_type": "code",
   "execution_count": 9,
   "metadata": {},
   "outputs": [
    {
     "name": "stdout",
     "output_type": "stream",
     "text": [
      "<class 'pandas.core.frame.DataFrame'>\n",
      "RangeIndex: 250291 entries, 0 to 250290\n",
      "Data columns (total 3 columns):\n",
      "SubscriberID    250291 non-null int64\n",
      "OpenCount       250291 non-null int64\n",
      "MaxOpenDate     250291 non-null object\n",
      "dtypes: int64(2), object(1)\n",
      "memory usage: 5.7+ MB\n",
      "None\n",
      "   SubscriberID  OpenCount            MaxOpenDate\n",
      "0     179144194         39   1/21/2018 9:25:15 AM\n",
      "1     179144201         10   1/16/2018 9:12:28 AM\n",
      "2     179144203         17  12/18/2017 7:43:20 PM\n",
      "3     179144210          9   8/10/2017 7:40:01 AM\n",
      "4     179144217          1   7/25/2017 9:32:29 AM\n",
      "<class 'pandas.core.frame.DataFrame'>\n",
      "RangeIndex: 250291 entries, 0 to 250290\n",
      "Data columns (total 3 columns):\n",
      "SubscriberID    250291 non-null int64\n",
      "OpenCount       250291 non-null int64\n",
      "MaxOpenDate     250291 non-null datetime64[ns]\n",
      "dtypes: datetime64[ns](1), int64(2)\n",
      "memory usage: 5.7 MB\n",
      "None\n",
      "   SubscriberID  OpenCount         MaxOpenDate\n",
      "0     179144194         39 2018-01-21 09:25:15\n",
      "1     179144201         10 2018-01-16 09:12:28\n",
      "2     179144203         17 2017-12-18 07:43:20\n",
      "3     179144210          9 2017-08-10 07:40:01\n",
      "4     179144217          1 2017-07-25 09:32:29\n"
     ]
    }
   ],
   "source": [
    "#Import the Open Count File\n",
    "OpenCount_df = pd.read_csv(file3)\n",
    "\n",
    "print(OpenCount_df.info())\n",
    "print(OpenCount_df.head())\n",
    "\n",
    "#Update the date column to the appropriate format\n",
    "OpenCount_df['MaxOpenDate'] = pd.to_datetime(OpenCount_df['MaxOpenDate'], format='%m/%d/%Y %H:%M:%S %p')\n",
    "\n",
    "print(OpenCount_df.info())\n",
    "print(OpenCount_df.head())"
   ]
  },
  {
   "cell_type": "code",
   "execution_count": 10,
   "metadata": {},
   "outputs": [
    {
     "name": "stdout",
     "output_type": "stream",
     "text": [
      "<class 'pandas.core.frame.DataFrame'>\n",
      "RangeIndex: 125129 entries, 0 to 125128\n",
      "Data columns (total 3 columns):\n",
      "SubscriberID    125129 non-null int64\n",
      "MaxClickDate    125129 non-null object\n",
      "ClickCount      125129 non-null int64\n",
      "dtypes: int64(2), object(1)\n",
      "memory usage: 2.9+ MB\n",
      "None\n",
      "   SubscriberID            MaxClickDate  ClickCount\n",
      "0      36119882   11/5/2017 12:44:09 PM           1\n",
      "1      36119986    1/21/2018 3:39:18 PM           2\n",
      "2      36120217  12/21/2017 10:40:57 AM          15\n",
      "3      36120351    12/2/2017 7:58:16 AM           1\n",
      "4      36120970    8/20/2017 6:34:34 AM           4\n",
      "<class 'pandas.core.frame.DataFrame'>\n",
      "RangeIndex: 125129 entries, 0 to 125128\n",
      "Data columns (total 3 columns):\n",
      "SubscriberID    125129 non-null int64\n",
      "MaxClickDate    125129 non-null datetime64[ns]\n",
      "ClickCount      125129 non-null int64\n",
      "dtypes: datetime64[ns](1), int64(2)\n",
      "memory usage: 2.9 MB\n",
      "None\n",
      "   SubscriberID        MaxClickDate  ClickCount\n",
      "0      36119882 2017-11-05 12:44:09           1\n",
      "1      36119986 2018-01-21 03:39:18           2\n",
      "2      36120217 2017-12-21 10:40:57          15\n",
      "3      36120351 2017-12-02 07:58:16           1\n",
      "4      36120970 2017-08-20 06:34:34           4\n"
     ]
    }
   ],
   "source": [
    "#Import Click Count file\n",
    "ClickCount_df = pd.read_csv(file2)\n",
    "\n",
    "print(ClickCount_df.info())\n",
    "print(ClickCount_df.head())\n",
    "\n",
    "#Update the date column to the appropriate format\n",
    "ClickCount_df['MaxClickDate'] = pd.to_datetime(ClickCount_df['MaxClickDate'], format='%m/%d/%Y %H:%M:%S %p')\n",
    "\n",
    "print(ClickCount_df.info())\n",
    "print(ClickCount_df.head())"
   ]
  },
  {
   "cell_type": "code",
   "execution_count": 11,
   "metadata": {},
   "outputs": [
    {
     "name": "stdout",
     "output_type": "stream",
     "text": [
      "<class 'pandas.core.frame.DataFrame'>\n",
      "Int64Index: 1088102 entries, 0 to 1088101\n",
      "Data columns (total 7 columns):\n",
      "SubscriberID    1088102 non-null int64\n",
      "Status          1088102 non-null object\n",
      "JobCount        458998 non-null float64\n",
      "OpenCount       250291 non-null float64\n",
      "MaxOpenDate     250291 non-null datetime64[ns]\n",
      "MaxClickDate    125129 non-null datetime64[ns]\n",
      "ClickCount      125129 non-null float64\n",
      "dtypes: datetime64[ns](2), float64(3), int64(1), object(1)\n",
      "memory usage: 66.4+ MB\n",
      "None\n",
      "   SubscriberID  Status  JobCount  OpenCount         MaxOpenDate MaxClickDate  \\\n",
      "0      97474651  active      93.0        6.0 2017-12-16 11:35:34          NaT   \n",
      "1      97474672  active      99.0       50.0 2018-01-20 09:45:07          NaT   \n",
      "2      97474830    held       NaN        NaN                 NaT          NaT   \n",
      "3      97474831  active       NaN        NaN                 NaT          NaT   \n",
      "4      97474908  active       NaN        NaN                 NaT          NaT   \n",
      "\n",
      "   ClickCount  \n",
      "0         NaN  \n",
      "1         NaN  \n",
      "2         NaN  \n",
      "3         NaN  \n",
      "4         NaN  \n"
     ]
    }
   ],
   "source": [
    "#Create 1 DataFrame for all 4 email behavior/data files\n",
    "Status_Sent_joined_df = SubStatus_df.merge(Sent_df, how='outer', on='SubscriberID')\n",
    "Open_Click_joined_df = OpenCount_df.merge(ClickCount_df, how='outer', on='SubscriberID')\n",
    "all_Email_df = Status_Sent_joined_df.merge(Open_Click_joined_df, how='outer', on='SubscriberID')\n",
    "print(all_Email_df.info())\n",
    "print(all_Email_df.head())"
   ]
  },
  {
   "cell_type": "code",
   "execution_count": 12,
   "metadata": {},
   "outputs": [
    {
     "name": "stdout",
     "output_type": "stream",
     "text": [
      "<class 'pandas.core.frame.DataFrame'>\n",
      "Int64Index: 1088102 entries, 0 to 1088101\n",
      "Data columns (total 7 columns):\n",
      "SubscriberID       1088102 non-null int64\n",
      "Status             1088102 non-null object\n",
      "MaxOpenDate        1088102 non-null datetime64[ns]\n",
      "MaxClickDate       1088102 non-null datetime64[ns]\n",
      "OpenRate           1088102 non-null float64\n",
      "ClickToOpenRate    1088102 non-null float64\n",
      "ClickRate          1088102 non-null float64\n",
      "dtypes: datetime64[ns](2), float64(3), int64(1), object(1)\n",
      "memory usage: 66.4+ MB\n",
      "None\n"
     ]
    }
   ],
   "source": [
    "#Create columns for email engagement metrics\n",
    "all_Email_df['OpenRate'] = all_Email_df['OpenCount']/all_Email_df['JobCount']\n",
    "all_Email_df['ClickToOpenRate'] = all_Email_df['ClickCount']/all_Email_df['OpenCount']\n",
    "all_Email_df['ClickRate'] = all_Email_df['ClickCount']/all_Email_df['JobCount']\n",
    "all_Email_df = all_Email_df.drop(['JobCount', 'OpenCount', 'ClickCount'], axis = 1)\n",
    "\n",
    "#Fill NaN values with 0\n",
    "all_Email_df = all_Email_df.fillna(0)\n",
    "print(all_Email_df.info())\n",
    "#print(all_Email_df.head())"
   ]
  },
  {
   "cell_type": "code",
   "execution_count": 13,
   "metadata": {},
   "outputs": [
    {
     "name": "stdout",
     "output_type": "stream",
     "text": [
      "<class 'pandas.core.frame.DataFrame'>\n",
      "Int64Index: 1088103 entries, 0 to 1088102\n",
      "Data columns (total 11 columns):\n",
      "Unnamed: 0          1061695 non-null float64\n",
      "First_PURCH_DATE    1061695 non-null datetime64[ns]\n",
      "Last_PURCH_DATE     1061695 non-null datetime64[ns]\n",
      "SUBSCRIBERID        1061695 non-null object\n",
      "SubscriberID        1088102 non-null float64\n",
      "Status              1088102 non-null object\n",
      "MaxOpenDate         1088102 non-null datetime64[ns]\n",
      "MaxClickDate        1088102 non-null datetime64[ns]\n",
      "OpenRate            1088102 non-null float64\n",
      "ClickToOpenRate     1088102 non-null float64\n",
      "ClickRate           1088102 non-null float64\n",
      "dtypes: datetime64[ns](4), float64(5), object(2)\n",
      "memory usage: 99.6+ MB\n",
      "None\n"
     ]
    }
   ],
   "source": [
    "#Join All Email file to the Account Master File\n",
    "AM_Email_df = AccountMaster_df.merge(all_Email_df, how='outer', left_on= 'SUBSCRIBERID', right_on='SubscriberID')\n",
    "#print(AM_Email_df.head())\n",
    "print(AM_Email_df.info())"
   ]
  },
  {
   "cell_type": "code",
   "execution_count": 14,
   "metadata": {},
   "outputs": [
    {
     "name": "stdout",
     "output_type": "stream",
     "text": [
      "<class 'pandas.core.frame.DataFrame'>\n",
      "Int64Index: 1088103 entries, 0 to 1088102\n",
      "Data columns (total 10 columns):\n",
      "Unnamed: 0          1088103 non-null float64\n",
      "First_PURCH_DATE    1088103 non-null datetime64[ns]\n",
      "Last_PURCH_DATE     1088103 non-null datetime64[ns]\n",
      "SubscriberID        1088103 non-null float64\n",
      "Status              1088103 non-null object\n",
      "MaxOpenDate         1088103 non-null datetime64[ns]\n",
      "MaxClickDate        1088103 non-null datetime64[ns]\n",
      "OpenRate            1088103 non-null float64\n",
      "ClickToOpenRate     1088103 non-null float64\n",
      "ClickRate           1088103 non-null float64\n",
      "dtypes: datetime64[ns](4), float64(5), object(1)\n",
      "memory usage: 91.3+ MB\n",
      "None\n"
     ]
    }
   ],
   "source": [
    "#Drop the SUBSCRIBERID column\n",
    "AM_Email_df = AM_Email_df.drop(['SUBSCRIBERID'], axis=1)\n",
    "\n",
    "#Fill in the missing values\n",
    "AM_Email_df = AM_Email_df.fillna(0)\n",
    "print(AM_Email_df.info())"
   ]
  },
  {
   "cell_type": "code",
   "execution_count": 15,
   "metadata": {
    "collapsed": true
   },
   "outputs": [],
   "source": [
    "#Import Product file\n",
    "Product_df = pd.read_csv(file4, header = 0,  dtype = {'Product_Department': str, 'Product_Department_Size': str, 'Product_Category': str, 'Product_Name': str,'Product_Parent_Name': str,'Product_Parent_ID': str, 'Product_Style_Number': str,'Product_Style_Color_Number': str, 'Product_Size_Waist': str, 'Product_Size_Inseam': str, 'Product_Color_Family': str, 'Product_Color': str, 'Product_Profit_Center': str, 'Product_Brand': str, 'Product_Collection': str, 'Product_Worn_By': str, 'Product_Style': str, 'Product_Body_Type': str, 'Product_Feature': str, 'Product_Back_Pocket_Style': str, 'Product_PDP_URL': str, 'Product_Image_URL': str, 'Product_Active': str}, engine = 'c')\n",
    "\n",
    "#print(Product_df.info())\n",
    "#print(Product_df.head())"
   ]
  },
  {
   "cell_type": "code",
   "execution_count": 16,
   "metadata": {
    "collapsed": true
   },
   "outputs": [],
   "source": [
    "#Drop columns with no data and Product Feature with only 15 rows of data\n",
    "Product_df = Product_df.drop(['Product_Color', 'Product_Style', 'Product_Collection','Product_Color_Family','Product_Parent_ID','Product_Profit_Center','Product_Style_Color_Number','Product_Parent_Name','Product_Style_Number', 'Product_Size_Waist','Product_Name','Product_Size_Inseam','Product_Worn_By', 'Product_Body_Type', 'Product_Back_Pocket_Style', 'Product_Feature', 'Product_PDP_URL','Product_Image_URL','Product_Active'], axis=1)\n",
    "#print(Product_df.info())\n",
    "#print(Product_df.head())"
   ]
  },
  {
   "cell_type": "code",
   "execution_count": 17,
   "metadata": {},
   "outputs": [
    {
     "name": "stdout",
     "output_type": "stream",
     "text": [
      "<class 'pandas.core.frame.DataFrame'>\n",
      "RangeIndex: 1426768 entries, 0 to 1426767\n",
      "Data columns (total 19 columns):\n",
      "ORDER_ID                   1426768 non-null int64\n",
      "ORDER_PURCH_DATE           1426768 non-null object\n",
      "ORDER_CHANNEL_ID           1426768 non-null int64\n",
      "ORDER_PROFITCENTER         1426768 non-null object\n",
      "ORDER_VALUE                1426768 non-null float64\n",
      "ORDER_SHIP_CHARGE          1426768 non-null float64\n",
      "ORDER_PRODPROMO_FLAG       1426768 non-null bool\n",
      "ORDER_SHIPPROMO_FLAG       1426768 non-null bool\n",
      "CONSUMER_CITY              1426768 non-null object\n",
      "CONSUMER_STATE             1426755 non-null object\n",
      "CONSUMER_POSTALCD          1426763 non-null object\n",
      "CONSUMER_COUNTRYCD         1426768 non-null object\n",
      "ORDER_PRODUCT_ID           1426768 non-null object\n",
      "ORDER_PRODUCT_LISTPRICE    1426768 non-null float64\n",
      "ORDER_PRODUCT_QTY          1425404 non-null float64\n",
      "InsertDate                 1426768 non-null object\n",
      "ORDER_PRODUCT_PRICE        1426768 non-null float64\n",
      "ORDER_ORDERITEM_ID         1426768 non-null int64\n",
      "SubscriberID               1426768 non-null int64\n",
      "dtypes: bool(2), float64(5), int64(4), object(8)\n",
      "memory usage: 187.8+ MB\n",
      "None\n"
     ]
    }
   ],
   "source": [
    "#Import Purchase file\n",
    "Purchase_df = pd.read_csv(file5)\n",
    "\n",
    "print(Purchase_df.info())\n",
    "#print(Purchase_df.head())"
   ]
  },
  {
   "cell_type": "code",
   "execution_count": 18,
   "metadata": {},
   "outputs": [
    {
     "data": {
      "text/plain": [
       "['CONSUMER_STATE', 'CONSUMER_POSTALCD', 'ORDER_PRODUCT_QTY']"
      ]
     },
     "execution_count": 18,
     "metadata": {},
     "output_type": "execute_result"
    }
   ],
   "source": [
    "#Dive Deeper into the Purchase file and columns with missing values\n",
    "[col for col in Purchase_df.columns if Purchase_df[col].isnull().any()]"
   ]
  },
  {
   "cell_type": "code",
   "execution_count": 19,
   "metadata": {},
   "outputs": [
    {
     "name": "stdout",
     "output_type": "stream",
     "text": [
      "count    1.425404e+06\n",
      "mean     1.485582e+00\n",
      "std      1.028199e+00\n",
      "min      1.000000e+00\n",
      "25%      1.000000e+00\n",
      "50%      1.000000e+00\n",
      "75%      2.000000e+00\n",
      "max      9.500000e+01\n",
      "Name: ORDER_PRODUCT_QTY, dtype: float64\n",
      "Mode: 0    1.0\n",
      "dtype: float64\n",
      "Median: 1.0\n"
     ]
    }
   ],
   "source": [
    "#Dig into the Product QTY column and how to replace null values\n",
    "print(Purchase_df.ORDER_PRODUCT_QTY.describe())\n",
    "print('Mode:', Purchase_df.ORDER_PRODUCT_QTY.mode())\n",
    "print('Median:', Purchase_df.ORDER_PRODUCT_QTY.median())"
   ]
  },
  {
   "cell_type": "code",
   "execution_count": 20,
   "metadata": {},
   "outputs": [
    {
     "name": "stdout",
     "output_type": "stream",
     "text": [
      "<class 'pandas.core.frame.DataFrame'>\n",
      "RangeIndex: 1426768 entries, 0 to 1426767\n",
      "Data columns (total 19 columns):\n",
      "ORDER_ID                   1426768 non-null int64\n",
      "ORDER_PURCH_DATE           1426768 non-null object\n",
      "ORDER_CHANNEL_ID           1426768 non-null int64\n",
      "ORDER_PROFITCENTER         1426768 non-null object\n",
      "ORDER_VALUE                1426768 non-null float64\n",
      "ORDER_SHIP_CHARGE          1426768 non-null float64\n",
      "ORDER_PRODPROMO_FLAG       1426768 non-null bool\n",
      "ORDER_SHIPPROMO_FLAG       1426768 non-null bool\n",
      "CONSUMER_CITY              1426768 non-null object\n",
      "CONSUMER_STATE             1426755 non-null object\n",
      "CONSUMER_POSTALCD          1426763 non-null object\n",
      "CONSUMER_COUNTRYCD         1426768 non-null object\n",
      "ORDER_PRODUCT_ID           1426768 non-null object\n",
      "ORDER_PRODUCT_LISTPRICE    1426768 non-null float64\n",
      "ORDER_PRODUCT_QTY          1426768 non-null float64\n",
      "InsertDate                 1426768 non-null object\n",
      "ORDER_PRODUCT_PRICE        1426768 non-null float64\n",
      "ORDER_ORDERITEM_ID         1426768 non-null int64\n",
      "SubscriberID               1426768 non-null int64\n",
      "dtypes: bool(2), float64(5), int64(4), object(8)\n",
      "memory usage: 187.8+ MB\n",
      "None\n"
     ]
    }
   ],
   "source": [
    "#Replace Missing Order Product Qty with 1 (the mode, the median the 25% and 50% value)\n",
    "Purchase_df['ORDER_PRODUCT_QTY'] = Purchase_df['ORDER_PRODUCT_QTY'].fillna(1)\n",
    "print(Purchase_df.info())"
   ]
  },
  {
   "cell_type": "code",
   "execution_count": 21,
   "metadata": {},
   "outputs": [
    {
     "data": {
      "text/plain": [
       "US    1424288\n",
       "Name: CONSUMER_COUNTRYCD, dtype: int64"
      ]
     },
     "execution_count": 21,
     "metadata": {},
     "output_type": "execute_result"
    }
   ],
   "source": [
    "#Currently the website only ships within the US (all 50 states), so dropping all foreign orders\n",
    "Purchase_df = Purchase_df[Purchase_df.CONSUMER_COUNTRYCD == 'US'].reset_index(drop=True)\n",
    "Purchase_df.CONSUMER_COUNTRYCD.value_counts()   "
   ]
  },
  {
   "cell_type": "code",
   "execution_count": 22,
   "metadata": {
    "collapsed": true
   },
   "outputs": [],
   "source": [
    "#Drop columns that have valid state information, but are not one of the 50 states + DC\n",
    "Purchase_df = Purchase_df[Purchase_df.CONSUMER_STATE !='AA']\n",
    "Purchase_df = Purchase_df[Purchase_df.CONSUMER_STATE !='AP']\n",
    "Purchase_df = Purchase_df[Purchase_df.CONSUMER_STATE !='MP']\n",
    "Purchase_df = Purchase_df[Purchase_df.CONSUMER_STATE !='PR']\n",
    "Purchase_df = Purchase_df[Purchase_df.CONSUMER_STATE !='VI']\n",
    "Purchase_df = Purchase_df[Purchase_df.CONSUMER_STATE !='AE']"
   ]
  },
  {
   "cell_type": "code",
   "execution_count": 23,
   "metadata": {
    "scrolled": true
   },
   "outputs": [
    {
     "name": "stdout",
     "output_type": "stream",
     "text": [
      "<class 'pandas.core.frame.DataFrame'>\n",
      "Int64Index: 1422963 entries, 0 to 1424287\n",
      "Data columns (total 9 columns):\n",
      "ORDER_ID                1422963 non-null int64\n",
      "ORDER_PURCH_DATE        1422963 non-null object\n",
      "ORDER_VALUE             1422963 non-null float64\n",
      "ORDER_PRODPROMO_FLAG    1422963 non-null bool\n",
      "ORDER_SHIPPROMO_FLAG    1422963 non-null bool\n",
      "CONSUMER_STATE          1422963 non-null object\n",
      "ORDER_PRODUCT_ID        1422963 non-null object\n",
      "ORDER_PRODUCT_QTY       1422963 non-null float64\n",
      "SubscriberID            1422963 non-null int64\n",
      "dtypes: bool(2), float64(2), int64(2), object(3)\n",
      "memory usage: 89.6+ MB\n",
      "None\n"
     ]
    }
   ],
   "source": [
    "#Drop unneccessary columns since they don't represent consumer behavior\n",
    "Purchase_df = Purchase_df.drop(['InsertDate','ORDER_CHANNEL_ID', 'ORDER_PRODUCT_LISTPRICE','ORDER_PRODUCT_PRICE','ORDER_SHIP_CHARGE','CONSUMER_POSTALCD','CONSUMER_CITY','ORDER_ORDERITEM_ID','ORDER_PROFITCENTER', 'CONSUMER_COUNTRYCD'], axis=1)\n",
    "print(Purchase_df.info())\n",
    "#print(Purchase_df.head())"
   ]
  },
  {
   "cell_type": "code",
   "execution_count": 24,
   "metadata": {},
   "outputs": [
    {
     "name": "stdout",
     "output_type": "stream",
     "text": [
      "<class 'pandas.core.frame.DataFrame'>\n",
      "Int64Index: 1420593 entries, 0 to 1420592\n",
      "Data columns (total 14 columns):\n",
      "ORDER_ID                   1420593 non-null int64\n",
      "ORDER_PURCH_DATE           1420593 non-null object\n",
      "ORDER_VALUE                1420593 non-null float64\n",
      "ORDER_PRODPROMO_FLAG       1420593 non-null bool\n",
      "ORDER_SHIPPROMO_FLAG       1420593 non-null bool\n",
      "CONSUMER_STATE             1420593 non-null object\n",
      "ORDER_PRODUCT_ID           1420593 non-null object\n",
      "ORDER_PRODUCT_QTY          1420593 non-null float64\n",
      "SubscriberID               1420593 non-null int64\n",
      "Product_ID                 1420593 non-null object\n",
      "Product_Department         1420593 non-null object\n",
      "Product_Department_Size    1418304 non-null object\n",
      "Product_Category           1420593 non-null object\n",
      "Product_Brand              1304144 non-null object\n",
      "dtypes: bool(2), float64(2), int64(2), object(8)\n",
      "memory usage: 143.6+ MB\n",
      "None\n"
     ]
    }
   ],
   "source": [
    "#Join the Purchase file with the Product file\n",
    "Purchase_Product_joined_df = pd.merge(Purchase_df, Product_df, how='inner', left_on=['ORDER_PRODUCT_ID'], right_on=['Product_ID'])\n",
    "\n",
    "#print(Purchase_Product_joined_df.head())\n",
    "print(Purchase_Product_joined_df.info())"
   ]
  },
  {
   "cell_type": "code",
   "execution_count": 25,
   "metadata": {},
   "outputs": [
    {
     "name": "stdout",
     "output_type": "stream",
     "text": [
      "<class 'pandas.core.frame.DataFrame'>\n",
      "Int64Index: 1420593 entries, 0 to 1420592\n",
      "Data columns (total 14 columns):\n",
      "ORDER_ID                   1420593 non-null int64\n",
      "ORDER_PURCH_DATE           1420593 non-null object\n",
      "ORDER_VALUE                1420593 non-null float64\n",
      "ORDER_PRODPROMO_FLAG       1420593 non-null bool\n",
      "ORDER_SHIPPROMO_FLAG       1420593 non-null bool\n",
      "CONSUMER_STATE             1420593 non-null object\n",
      "ORDER_PRODUCT_ID           1420593 non-null object\n",
      "ORDER_PRODUCT_QTY          1420593 non-null float64\n",
      "SubscriberID               1420593 non-null int64\n",
      "Product_ID                 1420593 non-null object\n",
      "Product_Department         1420593 non-null object\n",
      "Product_Department_Size    1418304 non-null object\n",
      "Product_Category           1420593 non-null object\n",
      "Product_Brand              1304144 non-null object\n",
      "dtypes: bool(2), float64(2), int64(2), object(8)\n",
      "memory usage: 143.6+ MB\n",
      "None\n"
     ]
    }
   ],
   "source": [
    "#Drop extra Product ID column\n",
    "Purchase_Product_joined_df.drop(['Product_ID'], axis=1)\n",
    "print(Purchase_Product_joined_df.info())"
   ]
  },
  {
   "cell_type": "code",
   "execution_count": 26,
   "metadata": {
    "collapsed": true
   },
   "outputs": [],
   "source": [
    "#Explore columns with missing data\n",
    "Product_df1 = Purchase_Product_joined_df[Purchase_Product_joined_df['Product_Department_Size'].isnull()]\n",
    "#print(Product_df1)"
   ]
  },
  {
   "cell_type": "code",
   "execution_count": 27,
   "metadata": {},
   "outputs": [
    {
     "data": {
      "text/plain": [
       "Accessories           870\n",
       "Shirts                662\n",
       "Infants & Toddlers    619\n",
       "Jeans                 131\n",
       "Dresses & Skirts        4\n",
       "Jackets                 3\n",
       "Name: Product_Category, dtype: int64"
      ]
     },
     "execution_count": 27,
     "metadata": {},
     "output_type": "execute_result"
    }
   ],
   "source": [
    "#Explore the Product Department Size Column to determine how to fix missing values\n",
    "Product_df1.Product_Category.value_counts()"
   ]
  },
  {
   "cell_type": "code",
   "execution_count": 28,
   "metadata": {
    "collapsed": true
   },
   "outputs": [],
   "source": [
    "#Replace missing Department Size with \"No Size\" since a lot of the products are Accessories and the rest are accross product categories\n",
    "Purchase_Product_joined_df['Product_Department_Size'] = Purchase_Product_joined_df['Product_Department_Size'].fillna('No Size')\n",
    "#Purchase_Product_joined_df.Product_Department_Size.value_counts()"
   ]
  },
  {
   "cell_type": "code",
   "execution_count": 29,
   "metadata": {},
   "outputs": [
    {
     "name": "stdout",
     "output_type": "stream",
     "text": [
      "<class 'pandas.core.frame.DataFrame'>\n",
      "Int64Index: 116449 entries, 8208 to 1420587\n",
      "Data columns (total 14 columns):\n",
      "ORDER_ID                   116449 non-null int64\n",
      "ORDER_PURCH_DATE           116449 non-null object\n",
      "ORDER_VALUE                116449 non-null float64\n",
      "ORDER_PRODPROMO_FLAG       116449 non-null bool\n",
      "ORDER_SHIPPROMO_FLAG       116449 non-null bool\n",
      "CONSUMER_STATE             116449 non-null object\n",
      "ORDER_PRODUCT_ID           116449 non-null object\n",
      "ORDER_PRODUCT_QTY          116449 non-null float64\n",
      "SubscriberID               116449 non-null int64\n",
      "Product_ID                 116449 non-null object\n",
      "Product_Department         116449 non-null object\n",
      "Product_Department_Size    116449 non-null object\n",
      "Product_Category           116449 non-null object\n",
      "Product_Brand              0 non-null object\n",
      "dtypes: bool(2), float64(2), int64(2), object(8)\n",
      "memory usage: 11.8+ MB\n",
      "None\n"
     ]
    }
   ],
   "source": [
    "#Create a new dataframe with only rows where Product Brand is null to explore the data\n",
    "Product_df1 = Purchase_Product_joined_df[Purchase_Product_joined_df['Product_Brand'].isnull()]\n",
    "#print(Product_df1)\n",
    "print(Product_df1.info())"
   ]
  },
  {
   "cell_type": "code",
   "execution_count": 30,
   "metadata": {},
   "outputs": [
    {
     "data": {
      "text/plain": [
       "Shorts                 40533\n",
       "Shirts                 37762\n",
       "Jeans                  24707\n",
       "Pants                   4342\n",
       "Accessories             2730\n",
       "Jeans & Pants           2463\n",
       "Infants & Toddlers      1595\n",
       "Dresses & Skirts         753\n",
       "Jackets                  518\n",
       "Jackets & Outerwear      468\n",
       "Overalls                 387\n",
       "Pants & Capris           167\n",
       "Bodysuits & Rompers       24\n",
       "Name: Product_Category, dtype: int64"
      ]
     },
     "execution_count": 30,
     "metadata": {},
     "output_type": "execute_result"
    }
   ],
   "source": [
    "#Explore the product details for products missing brand\n",
    "Product_df1.Product_Category.value_counts()"
   ]
  },
  {
   "cell_type": "code",
   "execution_count": 31,
   "metadata": {
    "collapsed": true
   },
   "outputs": [],
   "source": [
    "#Replace missing Brand with \"No Brand\"\n",
    "Purchase_Product_joined_df['Product_Brand'] = Purchase_Product_joined_df['Product_Brand'].fillna('No Brand')\n",
    "#Purchase_Product_joined_df.Product_Brand.value_counts()"
   ]
  },
  {
   "cell_type": "code",
   "execution_count": 32,
   "metadata": {},
   "outputs": [
    {
     "name": "stdout",
     "output_type": "stream",
     "text": [
      "<class 'pandas.core.frame.DataFrame'>\n",
      "Int64Index: 1420593 entries, 0 to 1420592\n",
      "Data columns (total 14 columns):\n",
      "ORDER_ID                   1420593 non-null int64\n",
      "ORDER_PURCH_DATE           1420593 non-null object\n",
      "ORDER_VALUE                1420593 non-null float64\n",
      "ORDER_PRODPROMO_FLAG       1420593 non-null bool\n",
      "ORDER_SHIPPROMO_FLAG       1420593 non-null bool\n",
      "CONSUMER_STATE             1420593 non-null object\n",
      "ORDER_PRODUCT_ID           1420593 non-null object\n",
      "ORDER_PRODUCT_QTY          1420593 non-null float64\n",
      "SubscriberID               1420593 non-null int64\n",
      "Product_ID                 1420593 non-null object\n",
      "Product_Department         1420593 non-null object\n",
      "Product_Department_Size    1420593 non-null object\n",
      "Product_Category           1420593 non-null object\n",
      "Product_Brand              1420593 non-null object\n",
      "dtypes: bool(2), float64(2), int64(2), object(8)\n",
      "memory usage: 143.6+ MB\n"
     ]
    }
   ],
   "source": [
    "Purchase_Product_joined_df.info()"
   ]
  },
  {
   "cell_type": "code",
   "execution_count": 33,
   "metadata": {},
   "outputs": [
    {
     "name": "stdout",
     "output_type": "stream",
     "text": [
      "<class 'pandas.core.frame.DataFrame'>\n",
      "Int64Index: 2018697 entries, 0 to 2018696\n",
      "Data columns (total 23 columns):\n",
      "ORDER_ID                   float64\n",
      "ORDER_PURCH_DATE           object\n",
      "ORDER_VALUE                float64\n",
      "ORDER_PRODPROMO_FLAG       object\n",
      "ORDER_SHIPPROMO_FLAG       object\n",
      "CONSUMER_STATE             object\n",
      "ORDER_PRODUCT_ID           object\n",
      "ORDER_PRODUCT_QTY          float64\n",
      "SubscriberID               float64\n",
      "Product_ID                 object\n",
      "Product_Department         object\n",
      "Product_Department_Size    object\n",
      "Product_Category           object\n",
      "Product_Brand              object\n",
      "Unnamed: 0                 float64\n",
      "First_PURCH_DATE           datetime64[ns]\n",
      "Last_PURCH_DATE            datetime64[ns]\n",
      "Status                     object\n",
      "MaxOpenDate                datetime64[ns]\n",
      "MaxClickDate               datetime64[ns]\n",
      "OpenRate                   float64\n",
      "ClickToOpenRate            float64\n",
      "ClickRate                  float64\n",
      "dtypes: datetime64[ns](4), float64(8), object(11)\n",
      "memory usage: 369.6+ MB\n"
     ]
    }
   ],
   "source": [
    "#Join the Purchase_Product dataframe with the AM_Email Dataframe\n",
    "all_df = Purchase_Product_joined_df.merge(AM_Email_df, how='outer', left_on= 'SubscriberID', right_on='SubscriberID')\n",
    "all_df.info()"
   ]
  },
  {
   "cell_type": "code",
   "execution_count": 34,
   "metadata": {},
   "outputs": [
    {
     "name": "stdout",
     "output_type": "stream",
     "text": [
      "[]\n",
      "<class 'pandas.core.frame.DataFrame'>\n",
      "Int64Index: 2018697 entries, 0 to 2018696\n",
      "Data columns (total 22 columns):\n",
      "ORDER_ID                   float64\n",
      "ORDER_PURCH_DATE           datetime64[ns]\n",
      "ORDER_VALUE                float64\n",
      "CONSUMER_STATE             object\n",
      "ORDER_PRODUCT_ID           object\n",
      "ORDER_PRODUCT_QTY          float64\n",
      "SubscriberID               float64\n",
      "Product_ID                 object\n",
      "Product_Department         object\n",
      "Product_Department_Size    object\n",
      "Product_Category           object\n",
      "Product_Brand              object\n",
      "Unnamed: 0                 float64\n",
      "First_PURCH_DATE           datetime64[ns]\n",
      "Last_PURCH_DATE            datetime64[ns]\n",
      "Status                     object\n",
      "MaxOpenDate                datetime64[ns]\n",
      "MaxClickDate               datetime64[ns]\n",
      "OpenRate                   float64\n",
      "ClickToOpenRate            float64\n",
      "ClickRate                  float64\n",
      "PromoUsed                  bool\n",
      "dtypes: bool(1), datetime64[ns](5), float64(8), object(8)\n",
      "memory usage: 340.8+ MB\n"
     ]
    }
   ],
   "source": [
    "#Clean up the all_df dataframe\n",
    "\n",
    "#Convert the Order Purchase Date field into Datetime format\n",
    "all_df['ORDER_PURCH_DATE'] = pd.to_datetime(all_df['ORDER_PURCH_DATE'], format='%m/%d/%Y %H:%M:%S %p')\n",
    "\n",
    "#Since there are purchasers with no email data and email subscribers with no purchases, fill all NaNs with 0\n",
    "all_df = all_df.fillna(0)\n",
    "print([col for col in all_df.columns if all_df[col].isnull().any()])\n",
    "\n",
    "#Clean the joined file- clean True/False to 1/0, create a new column for promo used if 1 exists in either field\n",
    "all_df['ORDER_PRODPROMO_FLAG'] = [1 if ele == True else 0 for ele in all_df['ORDER_PRODPROMO_FLAG']]\n",
    "all_df['ORDER_SHIPPROMO_FLAG'] = [1 if ele == True else 0 for ele in all_df['ORDER_SHIPPROMO_FLAG']]\n",
    "\n",
    "all_df['PromoUsed'] = all_df['ORDER_PRODPROMO_FLAG'] + all_df['ORDER_SHIPPROMO_FLAG']\n",
    "all_df['PromoUsed'] = [1 if ele >= 1 else 0 for ele in all_df['PromoUsed']]\n",
    "\n",
    "all_df = all_df.drop(['ORDER_PRODPROMO_FLAG', 'ORDER_SHIPPROMO_FLAG'], axis=1)\n",
    "\n",
    "#Update data type to boolean\n",
    "all_df[['PromoUsed']] = all_df[['PromoUsed']].astype('bool')\n",
    "\n",
    "all_df.info()"
   ]
  },
  {
   "cell_type": "code",
   "execution_count": 35,
   "metadata": {},
   "outputs": [
    {
     "data": {
      "text/plain": [
       "False    1606863\n",
       "True      411834\n",
       "Name: PromoUsed, dtype: int64"
      ]
     },
     "execution_count": 35,
     "metadata": {},
     "output_type": "execute_result"
    }
   ],
   "source": [
    "all_df.PromoUsed.value_counts()"
   ]
  },
  {
   "cell_type": "markdown",
   "metadata": {},
   "source": [
    "## Create Numeric Categorical Columns from Text Columns"
   ]
  },
  {
   "cell_type": "code",
   "execution_count": 36,
   "metadata": {},
   "outputs": [
    {
     "name": "stdout",
     "output_type": "stream",
     "text": [
      "   Email Not Subscribed  Email Active  Email Bounced  Email Held\n",
      "0                     0             1              0           0\n",
      "1                     0             1              0           0\n",
      "2                     0             1              0           0\n",
      "3                     0             1              0           0\n",
      "4                     0             1              0           0\n",
      "<class 'pandas.core.frame.DataFrame'>\n",
      "RangeIndex: 2018697 entries, 0 to 2018696\n",
      "Data columns (total 4 columns):\n",
      "Email Not Subscribed    int32\n",
      "Email Active            int32\n",
      "Email Bounced           int32\n",
      "Email Held              int32\n",
      "dtypes: int32(4)\n",
      "memory usage: 30.8 MB\n",
      "None\n"
     ]
    }
   ],
   "source": [
    "#Create new dataframe with categorical Status details as columns\n",
    "\n",
    "all_df['Status'] = all_df['Status'].replace(0, \"Not Subscribed\")\n",
    "\n",
    "status = LabelBinarizer()\n",
    "status_results = status.fit_transform(all_df['Status'])\n",
    "status_df = pd.DataFrame(status_results, columns= status.classes_)\n",
    "\n",
    "#Rename columns\n",
    "status_df.rename(columns = {'Not Subscribed': 'Email Not Subscribed', 'active': 'Email Active', 'bounced': 'Email Bounced', 'held': 'Email Held'}, inplace =True)\n",
    "\n",
    "print(status_df.head())\n",
    "print(status_df.info())"
   ]
  },
  {
   "cell_type": "code",
   "execution_count": 37,
   "metadata": {},
   "outputs": [
    {
     "name": "stdout",
     "output_type": "stream",
     "text": [
      "   AK  AL  AR  AZ  CA  CO  CT  DC  DE  FL ...  SD  TN  TX  UT  VA  VT  WA  WI  \\\n",
      "0   0   0   0   0   0   0   0   0   0   0 ...   0   0   0   0   0   0   0   0   \n",
      "1   0   0   0   0   0   0   0   0   0   0 ...   0   0   0   0   0   0   0   0   \n",
      "2   0   0   0   0   0   0   0   0   0   0 ...   0   0   0   0   0   0   0   0   \n",
      "3   0   0   0   0   0   0   0   0   0   0 ...   0   0   0   0   0   0   0   0   \n",
      "4   0   0   0   0   0   0   0   0   0   0 ...   0   0   0   0   0   0   0   0   \n",
      "\n",
      "   WV  WY  \n",
      "0   0   0  \n",
      "1   0   0  \n",
      "2   0   0  \n",
      "3   0   0  \n",
      "4   0   0  \n",
      "\n",
      "[5 rows x 52 columns]\n"
     ]
    }
   ],
   "source": [
    "#Create new dataframe with categorical Status details as columns\n",
    "\n",
    "all_df['CONSUMER_STATE'] = all_df['CONSUMER_STATE'].replace(0, \"No State\")\n",
    "\n",
    "state = LabelBinarizer()\n",
    "state_results = state.fit_transform(all_df['CONSUMER_STATE'])\n",
    "state_df = pd.DataFrame(state_results, columns= state.classes_)\n",
    "\n",
    "#Create single column for OH\n",
    "state_df['OH'] = state_df['OH'] + state_df['Oh']\n",
    "state_df = state_df.drop(['Oh'], axis = 1)\n",
    "\n",
    "print(state_df.head())\n",
    "#print(state_df.info())"
   ]
  },
  {
   "cell_type": "code",
   "execution_count": 38,
   "metadata": {},
   "outputs": [
    {
     "name": "stdout",
     "output_type": "stream",
     "text": [
      "   PD Boys  PD Girls  PD Men  No Dept  PD Unisex  PD Women\n",
      "0        0         0       1        0          0         0\n",
      "1        0         0       1        0          0         0\n",
      "2        0         0       1        0          0         0\n",
      "3        0         0       1        0          0         0\n",
      "4        0         0       1        0          0         0\n",
      "<class 'pandas.core.frame.DataFrame'>\n",
      "RangeIndex: 2018697 entries, 0 to 2018696\n",
      "Data columns (total 6 columns):\n",
      "PD Boys      int32\n",
      "PD Girls     int32\n",
      "PD Men       int32\n",
      "No Dept      int32\n",
      "PD Unisex    int32\n",
      "PD Women     int32\n",
      "dtypes: int32(6)\n",
      "memory usage: 46.2 MB\n",
      "None\n"
     ]
    }
   ],
   "source": [
    "#Create new dataframe with categorical Product Dept details as columns\n",
    "\n",
    "all_df['Product_Department'] = all_df['Product_Department'].replace(0, \"No Dept\")\n",
    "\n",
    "dept = LabelBinarizer()\n",
    "dept_results = dept.fit_transform(all_df['Product_Department'])\n",
    "DeptCat_df = pd.DataFrame(dept_results, columns= dept.classes_)\n",
    "\n",
    "#Rename columns\n",
    "DeptCat_df.rename(columns = {'Boys': 'PD Boys', 'Girls': 'PD Girls', 'Men': 'PD Men', 'Unisex': 'PD Unisex', 'Women': 'PD Women'}, inplace =True)\n",
    "\n",
    "print(DeptCat_df.head())\n",
    "print(DeptCat_df.info())"
   ]
  },
  {
   "cell_type": "code",
   "execution_count": 39,
   "metadata": {},
   "outputs": [
    {
     "name": "stdout",
     "output_type": "stream",
     "text": [
      "   Category: Accessories  Category: Infants & Toddlers  No Category  \\\n",
      "0                      0                             0            0   \n",
      "1                      0                             0            0   \n",
      "2                      0                             0            0   \n",
      "3                      0                             0            0   \n",
      "4                      0                             0            0   \n",
      "\n",
      "   Category: Shirts  Category: Jackets/Outerwear  \\\n",
      "0                 0                            0   \n",
      "1                 0                            0   \n",
      "2                 0                            0   \n",
      "3                 0                            0   \n",
      "4                 0                            0   \n",
      "\n",
      "   Category: Dresses/Skirts/Bodysuits/Rompers  \\\n",
      "0                                           0   \n",
      "1                                           0   \n",
      "2                                           0   \n",
      "3                                           0   \n",
      "4                                           0   \n",
      "\n",
      "   Category: Jeans/Pants/Overalls/Shorts  \n",
      "0                                      1  \n",
      "1                                      1  \n",
      "2                                      1  \n",
      "3                                      1  \n",
      "4                                      1  \n",
      "<class 'pandas.core.frame.DataFrame'>\n",
      "RangeIndex: 2018697 entries, 0 to 2018696\n",
      "Data columns (total 7 columns):\n",
      "Category: Accessories                         int32\n",
      "Category: Infants & Toddlers                  int32\n",
      "No Category                                   int32\n",
      "Category: Shirts                              int32\n",
      "Category: Jackets/Outerwear                   int32\n",
      "Category: Dresses/Skirts/Bodysuits/Rompers    int32\n",
      "Category: Jeans/Pants/Overalls/Shorts         int32\n",
      "dtypes: int32(7)\n",
      "memory usage: 53.9 MB\n",
      "None\n"
     ]
    }
   ],
   "source": [
    "#Create new dataframe with categorical Product Cateogry details as columns\n",
    "all_df['Product_Category'] = all_df['Product_Category'].replace(0, \"No Category\")\n",
    "\n",
    "cat = LabelBinarizer()\n",
    "cat_results = cat.fit_transform(all_df['Product_Category'])\n",
    "DeptCat2_df = pd.DataFrame(cat_results, columns= cat.classes_)\n",
    "\n",
    "#Create single columns for jackets, jeans/pants\n",
    "DeptCat2_df['Category: Jackets/Outerwear'] = DeptCat2_df['Jackets'] + DeptCat2_df['Jackets & Outerwear']\n",
    "DeptCat2_df['Category: Dresses/Skirts/Bodysuits/Rompers'] = DeptCat2_df['Dresses & Skirts'] + DeptCat2_df['Bodysuits & Rompers']\n",
    "DeptCat2_df['Category: Jeans/Pants/Overalls/Shorts'] = DeptCat2_df['Shorts'] + DeptCat2_df['Jeans'] + DeptCat2_df['Jeans & Pants'] + DeptCat2_df['Overalls'] + DeptCat2_df['Pants'] + DeptCat2_df['Pants & Capris']\n",
    "DeptCat2_df = DeptCat2_df.drop(['Dresses & Skirts', 'Bodysuits & Rompers','Jackets', 'Shorts','Jackets & Outerwear', 'Jeans', 'Jeans & Pants', 'Overalls', 'Pants', 'Pants & Capris'], axis=1)\n",
    "\n",
    "#Rename columns\n",
    "DeptCat2_df.rename(columns = {'Infants & Toddlers': 'Category: Infants & Toddlers', 'Shirts': 'Category: Shirts', 'Accessories': 'Category: Accessories'}, inplace =True)\n",
    "\n",
    "print(DeptCat2_df.head())\n",
    "print(DeptCat2_df.info())"
   ]
  },
  {
   "cell_type": "code",
   "execution_count": 40,
   "metadata": {
    "collapsed": true
   },
   "outputs": [],
   "source": [
    "all_df['Product_Brand'] = all_df['Product_Brand'].replace(0, \"No Brand\")\n",
    "\n",
    "brand = LabelBinarizer()\n",
    "brand_results = brand.fit_transform(all_df['Product_Brand'])\n",
    "brand_df = pd.DataFrame(brand_results, columns= brand.classes_)\n",
    "\n",
    "#Create single columns for jackets, jeans/pants\n",
    "brand_df['Brand W'] = brand_df['Brand&reg; W'] + brand_df['Brand� W']\n",
    "brand_df = brand_df.drop(['Brand&reg; W', 'Brand� W'], axis=1)\n",
    "\n",
    "#Rename columns\n",
    "brand_df.rename(columns = {'Brand&reg;': 'Brand Reg', 'Brand&reg; FS': 'Brand FS', 'Brand&reg; R WORKWEAR&reg;': 'Brand R', 'Brand RW&reg;': 'Brand RW','Brand&reg; AC&trade;': 'Brand AC', 'TC by Brand&reg;': 'Brand TC','Brand JC&reg;':'Brand JC', 'Gen Brand&reg;':'Brand Gen', 'Brand PG&reg;': 'Brand PG','Brand&reg; OW': 'Brand OW'}, inplace =True)\n",
    "\n",
    "#print(brand_df.head())\n",
    "#print(brand_df.info())"
   ]
  },
  {
   "cell_type": "code",
   "execution_count": 41,
   "metadata": {},
   "outputs": [
    {
     "name": "stdout",
     "output_type": "stream",
     "text": [
      "   Adult  Mens Big & Tall  Mens Regular  Misses  No Size  Plus  Regular  Kids\n",
      "0      0                0             1       0        0     0        0     0\n",
      "1      0                0             1       0        0     0        0     0\n",
      "2      0                0             1       0        0     0        0     0\n",
      "3      0                0             1       0        0     0        0     0\n",
      "4      0                0             1       0        0     0        0     0\n",
      "<class 'pandas.core.frame.DataFrame'>\n",
      "RangeIndex: 2018697 entries, 0 to 2018696\n",
      "Data columns (total 8 columns):\n",
      "Adult              int32\n",
      "Mens Big & Tall    int32\n",
      "Mens Regular       int32\n",
      "Misses             int32\n",
      "No Size            int32\n",
      "Plus               int32\n",
      "Regular            int32\n",
      "Kids               int32\n",
      "dtypes: int32(8)\n",
      "memory usage: 61.6 MB\n",
      "None\n"
     ]
    }
   ],
   "source": [
    "#Create new dataframe with categorical Product Cateogry details as columns\n",
    "all_df['Product_Department_Size'] = all_df['Product_Department_Size'].replace(0, \"No Size\")\n",
    "\n",
    "prod_size = LabelBinarizer()\n",
    "prod_size_results = prod_size.fit_transform(all_df['Product_Department_Size'])\n",
    "prod_size_df = pd.DataFrame(prod_size_results, columns= prod_size.classes_)\n",
    "\n",
    "#Consolidate columns\n",
    "prod_size_df['Kids'] = prod_size_df['Big Boys (8+)'] + prod_size_df['Little Boys (4-7)'] + prod_size_df['Husky Boys'] + prod_size_df['Boys'] + prod_size_df['Toddler'] + prod_size_df['Big Girls (7-16)'] + prod_size_df['Baby'] + prod_size_df['Student'] + prod_size_df['Infant'] + prod_size_df['Girls'] + prod_size_df['Little Girls (4-6X)'] + prod_size_df['Infant & Toddler'] + prod_size_df['Plus Girls']\n",
    "prod_size_df = prod_size_df.drop(['Big Boys (8+)','Little Boys (4-7)','Husky Boys','Boys','Toddler','Big Girls (7-16)','Baby','Student','Infant','Girls','Little Girls (4-6X)','Infant & Toddler','Plus Girls'], axis=1)\n",
    "\n",
    "print(prod_size_df.head())\n",
    "print(prod_size_df.info())"
   ]
  },
  {
   "cell_type": "code",
   "execution_count": 42,
   "metadata": {
    "collapsed": true
   },
   "outputs": [],
   "source": [
    "#Join all of the new categorical dataframes\n",
    "all_df = all_df.join(DeptCat_df, how='inner')\n",
    "all_df = all_df.join(DeptCat2_df, how='inner')\n",
    "all_df = all_df.join(status_df, how='inner')\n",
    "all_df = all_df.join(state_df, how='inner')\n",
    "all_df = all_df.join(prod_size_df, how='inner')\n",
    "all_df = all_df.join(brand_df, how='inner')\n",
    "#all_df.head()"
   ]
  },
  {
   "cell_type": "code",
   "execution_count": 43,
   "metadata": {
    "collapsed": true
   },
   "outputs": [],
   "source": [
    "#Multiply the categorical columns by the product qty purchased\n",
    "all_df['PD Boys'] = all_df['PD Boys'] * all_df['ORDER_PRODUCT_QTY']\n",
    "all_df['PD Girls'] = all_df['PD Girls'] * all_df['ORDER_PRODUCT_QTY']\n",
    "all_df['PD Men'] = all_df['PD Men'] * all_df['ORDER_PRODUCT_QTY']\n",
    "all_df['No Dept'] = all_df['No Dept'] * all_df['ORDER_PRODUCT_QTY']\n",
    "all_df['PD Unisex'] = all_df['PD Unisex'] * all_df['ORDER_PRODUCT_QTY']\n",
    "all_df['PD Women'] = all_df['PD Women'] * all_df['ORDER_PRODUCT_QTY']\n",
    "all_df['Category: Accessories'] = all_df['Category: Accessories'] * all_df['ORDER_PRODUCT_QTY']\n",
    "all_df['Category: Infants & Toddlers'] = all_df['Category: Infants & Toddlers'] * all_df['ORDER_PRODUCT_QTY']\n",
    "all_df['No Category'] = all_df['No Category'] * all_df['ORDER_PRODUCT_QTY']\n",
    "all_df['Category: Shirts'] = all_df['Category: Shirts'] * all_df['ORDER_PRODUCT_QTY']\n",
    "all_df['Category: Jackets/Outerwear'] = all_df['Category: Jackets/Outerwear'] * all_df['ORDER_PRODUCT_QTY']\n",
    "all_df['Category: Dresses/Skirts/Bodysuits/Rompers'] = all_df['Category: Dresses/Skirts/Bodysuits/Rompers'] * all_df['ORDER_PRODUCT_QTY']\n",
    "all_df['Category: Jeans/Pants/Overalls/Shorts'] = all_df['Category: Jeans/Pants/Overalls/Shorts'] * all_df['ORDER_PRODUCT_QTY']\n",
    "all_df['Adult'] = all_df['Adult'] * all_df['ORDER_PRODUCT_QTY']\n",
    "all_df['Mens Big & Tall'] = all_df['Mens Big & Tall'] * all_df['ORDER_PRODUCT_QTY']\n",
    "all_df['Mens Regular'] = all_df['Mens Regular'] * all_df['ORDER_PRODUCT_QTY']\n",
    "all_df['Misses'] = all_df['Misses'] * all_df['ORDER_PRODUCT_QTY']\n",
    "all_df['No Size'] = all_df['No Size'] * all_df['ORDER_PRODUCT_QTY']\n",
    "all_df['Plus'] = all_df['Plus'] * all_df['ORDER_PRODUCT_QTY']\n",
    "all_df['Regular'] = all_df['Regular'] * all_df['ORDER_PRODUCT_QTY']\n",
    "all_df['Kids'] = all_df['Kids'] * all_df['ORDER_PRODUCT_QTY']\n",
    "all_df['Brand JC'] = all_df['Brand JC'] * all_df['ORDER_PRODUCT_QTY']\n",
    "all_df['Brand PG'] = all_df['Brand PG'] * all_df['ORDER_PRODUCT_QTY']\n",
    "all_df['Brand RW'] = all_df['Brand RW'] * all_df['ORDER_PRODUCT_QTY']\n",
    "all_df['Brand Reg'] = all_df['Brand Reg'] * all_df['ORDER_PRODUCT_QTY']\n",
    "all_df['Brand AC'] = all_df['Brand AC'] * all_df['ORDER_PRODUCT_QTY']\n",
    "all_df['Brand FS'] = all_df['Brand FS'] * all_df['ORDER_PRODUCT_QTY']\n",
    "all_df['Brand OW'] = all_df['Brand OW'] * all_df['ORDER_PRODUCT_QTY']\n",
    "all_df['Brand R'] = all_df['Brand R'] * all_df['ORDER_PRODUCT_QTY']\n",
    "all_df['Brand Gen'] = all_df['Brand Gen'] * all_df['ORDER_PRODUCT_QTY']\n",
    "all_df['No Brand'] = all_df['No Brand'] * all_df['ORDER_PRODUCT_QTY']\n",
    "all_df['Brand TC'] = all_df['Brand TC'] * all_df['ORDER_PRODUCT_QTY']\n",
    "all_df['Brand W'] = all_df['Brand W'] * all_df['ORDER_PRODUCT_QTY']"
   ]
  },
  {
   "cell_type": "code",
   "execution_count": 44,
   "metadata": {},
   "outputs": [
    {
     "name": "stdout",
     "output_type": "stream",
     "text": [
      "['ORDER_ID', 'ORDER_PURCH_DATE', 'ORDER_VALUE', 'CONSUMER_STATE', 'ORDER_PRODUCT_ID', 'ORDER_PRODUCT_QTY', 'SubscriberID', 'Product_ID', 'Product_Department', 'Product_Department_Size', 'Product_Category', 'Product_Brand', 'Unnamed: 0', 'First_PURCH_DATE', 'Last_PURCH_DATE', 'Status', 'MaxOpenDate', 'MaxClickDate', 'OpenRate', 'ClickToOpenRate', 'ClickRate', 'PromoUsed', 'PD Boys', 'PD Girls', 'PD Men', 'No Dept', 'PD Unisex', 'PD Women', 'Category: Accessories', 'Category: Infants & Toddlers', 'No Category', 'Category: Shirts', 'Category: Jackets/Outerwear', 'Category: Dresses/Skirts/Bodysuits/Rompers', 'Category: Jeans/Pants/Overalls/Shorts', 'Email Not Subscribed', 'Email Active', 'Email Bounced', 'Email Held', 'AK', 'AL', 'AR', 'AZ', 'CA', 'CO', 'CT', 'DC', 'DE', 'FL', 'GA', 'HI', 'IA', 'ID', 'IL', 'IN', 'KS', 'KY', 'LA', 'MA', 'MD', 'ME', 'MI', 'MN', 'MO', 'MS', 'MT', 'NC', 'ND', 'NE', 'NH', 'NJ', 'NM', 'NV', 'NY', 'No State', 'OH', 'OK', 'OR', 'PA', 'RI', 'SC', 'SD', 'TN', 'TX', 'UT', 'VA', 'VT', 'WA', 'WI', 'WV', 'WY', 'Adult', 'Mens Big & Tall', 'Mens Regular', 'Misses', 'No Size', 'Plus', 'Regular', 'Kids', 'Brand JC', 'Brand PG', 'Brand RW', 'Brand Reg', 'Brand AC', 'Brand FS', 'Brand OW', 'Brand R', 'Brand Gen', 'No Brand', 'Brand TC', 'Brand W']\n"
     ]
    }
   ],
   "source": [
    "print(list(all_df))"
   ]
  },
  {
   "cell_type": "code",
   "execution_count": 45,
   "metadata": {},
   "outputs": [
    {
     "name": "stdout",
     "output_type": "stream",
     "text": [
      "    ORDER_ID    ORDER_PURCH_DATE  ORDER_VALUE  ORDER_PRODUCT_QTY  \\\n",
      "0  5542630.0 2014-10-11 11:20:31        56.91                3.0   \n",
      "1  4946315.0 2014-05-02 12:05:36        56.91                3.0   \n",
      "2  3365845.0 2013-04-30 03:03:37        37.94                2.0   \n",
      "3  8331413.0 2016-09-06 11:22:03        37.94                2.0   \n",
      "4  3001914.0 2013-02-02 12:24:21        18.97                1.0   \n",
      "\n",
      "   SubscriberID  Unnamed: 0    First_PURCH_DATE     Last_PURCH_DATE  \\\n",
      "0    75314186.0    687294.0 2013-01-29 12:31:26 2016-09-06 11:22:03   \n",
      "1    75314186.0    687294.0 2013-01-29 12:31:26 2016-09-06 11:22:03   \n",
      "2    75314186.0    687294.0 2013-01-29 12:31:26 2016-09-06 11:22:03   \n",
      "3    75314186.0    687294.0 2013-01-29 12:31:26 2016-09-06 11:22:03   \n",
      "4    75314186.0    687294.0 2013-01-29 12:31:26 2016-09-06 11:22:03   \n",
      "\n",
      "          MaxOpenDate MaxClickDate   ...     Brand RW  Brand Reg  Brand AC  \\\n",
      "0 2017-12-10 01:05:56   1970-01-01   ...          0.0        0.0       0.0   \n",
      "1 2017-12-10 01:05:56   1970-01-01   ...          0.0        0.0       0.0   \n",
      "2 2017-12-10 01:05:56   1970-01-01   ...          0.0        0.0       0.0   \n",
      "3 2017-12-10 01:05:56   1970-01-01   ...          0.0        0.0       0.0   \n",
      "4 2017-12-10 01:05:56   1970-01-01   ...          0.0        0.0       0.0   \n",
      "\n",
      "   Brand FS  Brand OW  Brand R  Brand Gen  No Brand  Brand TC  Brand W  \n",
      "0       3.0       0.0      0.0        0.0       0.0       0.0      0.0  \n",
      "1       3.0       0.0      0.0        0.0       0.0       0.0      0.0  \n",
      "2       2.0       0.0      0.0        0.0       0.0       0.0      0.0  \n",
      "3       2.0       0.0      0.0        0.0       0.0       0.0      0.0  \n",
      "4       1.0       0.0      0.0        0.0       0.0       0.0      0.0  \n",
      "\n",
      "[5 rows x 103 columns]\n"
     ]
    }
   ],
   "source": [
    "#Drop the original columns that were used in creating the new columns\n",
    "all_df = all_df.drop(['CONSUMER_STATE','Status', 'ORDER_PRODUCT_ID', 'Product_ID', 'Product_Department', 'Product_Department_Size', 'Product_Category', 'Product_Brand'], axis=1)\n",
    "print(all_df.head())"
   ]
  },
  {
   "cell_type": "markdown",
   "metadata": {},
   "source": [
    "## Pivot Data to Create a Final DataFrame with Single Row for Each SubscriberID"
   ]
  },
  {
   "cell_type": "code",
   "execution_count": 46,
   "metadata": {},
   "outputs": [
    {
     "name": "stdout",
     "output_type": "stream",
     "text": [
      "    ORDER_ID  SubscriberID    ORDER_PURCH_DATE    First_PURCH_DATE  \\\n",
      "0  5542630.0    75314186.0 2014-10-11 11:20:31 2013-01-29 12:31:26   \n",
      "1  4946315.0    75314186.0 2014-05-02 12:05:36 2013-01-29 12:31:26   \n",
      "2  3365845.0    75314186.0 2013-04-30 03:03:37 2013-01-29 12:31:26   \n",
      "3  8331413.0    75314186.0 2016-09-06 11:22:03 2013-01-29 12:31:26   \n",
      "4  3001914.0    75314186.0 2013-02-02 12:24:21 2013-01-29 12:31:26   \n",
      "\n",
      "      Last_PURCH_DATE  \n",
      "0 2016-09-06 11:22:03  \n",
      "1 2016-09-06 11:22:03  \n",
      "2 2016-09-06 11:22:03  \n",
      "3 2016-09-06 11:22:03  \n",
      "4 2016-09-06 11:22:03  \n"
     ]
    }
   ],
   "source": [
    "PurchDateData_df = all_df[['ORDER_ID','SubscriberID', 'ORDER_PURCH_DATE', 'First_PURCH_DATE', 'Last_PURCH_DATE']].copy()\n",
    "print(PurchDateData_df.head())"
   ]
  },
  {
   "cell_type": "code",
   "execution_count": 47,
   "metadata": {},
   "outputs": [
    {
     "name": "stdout",
     "output_type": "stream",
     "text": [
      "    ORDER_ID  SubscriberID    ORDER_PURCH_DATE    First_PURCH_DATE  \\\n",
      "0  5542630.0    75314186.0 2014-10-11 11:20:31 2013-01-29 12:31:26   \n",
      "1  4946315.0    75314186.0 2014-05-02 12:05:36 2013-01-29 12:31:26   \n",
      "2  3365845.0    75314186.0 2013-04-30 03:03:37 2013-01-29 12:31:26   \n",
      "3  8331413.0    75314186.0 2016-09-06 11:22:03 2013-01-29 12:31:26   \n",
      "4  3001914.0    75314186.0 2013-02-02 12:24:21 2013-01-29 12:31:26   \n",
      "\n",
      "      Last_PURCH_DATE  \n",
      "0 2016-09-06 11:22:03  \n",
      "1 2016-09-06 11:22:03  \n",
      "2 2016-09-06 11:22:03  \n",
      "3 2016-09-06 11:22:03  \n",
      "4 2016-09-06 11:22:03  \n",
      "<class 'pandas.core.frame.DataFrame'>\n",
      "Int64Index: 865282 entries, 0 to 1420593\n",
      "Data columns (total 5 columns):\n",
      "ORDER_ID            865282 non-null float64\n",
      "SubscriberID        865282 non-null float64\n",
      "ORDER_PURCH_DATE    865282 non-null datetime64[ns]\n",
      "First_PURCH_DATE    865282 non-null datetime64[ns]\n",
      "Last_PURCH_DATE     865282 non-null datetime64[ns]\n",
      "dtypes: datetime64[ns](3), float64(2)\n",
      "memory usage: 39.6 MB\n",
      "None\n"
     ]
    }
   ],
   "source": [
    "PurchDateData_df = PurchDateData_df.drop_duplicates(subset=['ORDER_ID'])\n",
    "print(PurchDateData_df.head())\n",
    "print(PurchDateData_df.info())"
   ]
  },
  {
   "cell_type": "code",
   "execution_count": 48,
   "metadata": {},
   "outputs": [
    {
     "data": {
      "text/plain": [
       "Timestamp('2018-02-02 12:59:38')"
      ]
     },
     "execution_count": 48,
     "metadata": {},
     "output_type": "execute_result"
    }
   ],
   "source": [
    "PurchDateData_df['ORDER_PURCH_DATE'].max()"
   ]
  },
  {
   "cell_type": "code",
   "execution_count": 49,
   "metadata": {},
   "outputs": [
    {
     "name": "stdout",
     "output_type": "stream",
     "text": [
      "   SubscriberID  Purch_Recency  FirstPurch_Recency\n",
      "0    35732064.0            170                1589\n",
      "1    35732065.0           1256                1256\n",
      "2    35732068.0           1253                1253\n",
      "3    35732070.0            540                1575\n",
      "4    35732071.0           1372                1372\n"
     ]
    }
   ],
   "source": [
    "#Return the Subscriber ID with their most recent date for purchase\n",
    "PurchDateData_df = PurchDateData_df.groupby('SubscriberID').max().reset_index()\n",
    "\n",
    "#Create new columns for recency\n",
    "PurchDateData_df['NewDate'] = datetime(2018,2,3)\n",
    "PurchDateData_df['Purch_Recency'] = PurchDateData_df['NewDate'] - PurchDateData_df['ORDER_PURCH_DATE']\n",
    "PurchDateData_df['FirstPurch_Recency'] = PurchDateData_df['NewDate'] - PurchDateData_df['First_PURCH_DATE']\n",
    "\n",
    "#Turn Date Difference columns into float\n",
    "PurchDateData_df['Purch_Recency'] = PurchDateData_df['Purch_Recency'].dt.days\n",
    "PurchDateData_df['FirstPurch_Recency'] = PurchDateData_df['FirstPurch_Recency'].dt.days\n",
    "\n",
    "PurchDateData_df = PurchDateData_df.drop(['ORDER_ID','ORDER_PURCH_DATE', 'First_PURCH_DATE', 'Last_PURCH_DATE', 'NewDate'], axis=1)\n",
    "print(PurchDateData_df.head())"
   ]
  },
  {
   "cell_type": "code",
   "execution_count": 50,
   "metadata": {},
   "outputs": [
    {
     "name": "stdout",
     "output_type": "stream",
     "text": [
      "   SubscriberID         MaxOpenDate MaxClickDate\n",
      "0    75314186.0 2017-12-10 01:05:56   1970-01-01\n",
      "1    75314186.0 2017-12-10 01:05:56   1970-01-01\n",
      "2    75314186.0 2017-12-10 01:05:56   1970-01-01\n",
      "3    75314186.0 2017-12-10 01:05:56   1970-01-01\n",
      "4    75314186.0 2017-12-10 01:05:56   1970-01-01\n"
     ]
    }
   ],
   "source": [
    "#Create Email Data Data\n",
    "EmailDateData_df = all_df[['SubscriberID', 'MaxOpenDate', 'MaxClickDate']].copy()\n",
    "print(EmailDateData_df.head())"
   ]
  },
  {
   "cell_type": "code",
   "execution_count": 51,
   "metadata": {},
   "outputs": [
    {
     "name": "stdout",
     "output_type": "stream",
     "text": [
      "   SubscriberID  EmailOpen_Recency  EmailClick_Recency\n",
      "0           0.0              17556               17556\n",
      "1     4606724.0              17556               17556\n",
      "2     4606725.0              17556               17556\n",
      "3    24717465.0                  6                 170\n",
      "4    24717678.0                 90                  90\n"
     ]
    }
   ],
   "source": [
    "#Create new columns for recency\n",
    "EmailDateData_df['NewDate'] = datetime(2018,1,25)\n",
    "EmailDateData_df['EmailOpen_Recency'] = EmailDateData_df['NewDate'] - EmailDateData_df['MaxOpenDate']\n",
    "EmailDateData_df['EmailClick_Recency'] = EmailDateData_df['NewDate'] - EmailDateData_df['MaxClickDate']\n",
    "\n",
    "#Turn Date Difference columns into float\n",
    "EmailDateData_df['EmailOpen_Recency'] = EmailDateData_df['EmailOpen_Recency'].dt.days\n",
    "EmailDateData_df['EmailClick_Recency'] = EmailDateData_df['EmailClick_Recency'].dt.days\n",
    "\n",
    "EmailDateData_df = EmailDateData_df.drop(['MaxOpenDate','MaxClickDate', 'NewDate'], axis=1)\n",
    "EmailDateData_df = EmailDateData_df.groupby('SubscriberID').max().reset_index()\n",
    "print(EmailDateData_df.head())"
   ]
  },
  {
   "cell_type": "code",
   "execution_count": 52,
   "metadata": {},
   "outputs": [
    {
     "name": "stdout",
     "output_type": "stream",
     "text": [
      "    ORDER_ID  ORDER_VALUE  ORDER_PRODUCT_QTY  SubscriberID  Unnamed: 0  \\\n",
      "0  5542630.0        56.91                3.0    75314186.0    687294.0   \n",
      "1  4946315.0        56.91                3.0    75314186.0    687294.0   \n",
      "2  3365845.0        37.94                2.0    75314186.0    687294.0   \n",
      "3  8331413.0        37.94                2.0    75314186.0    687294.0   \n",
      "4  3001914.0        18.97                1.0    75314186.0    687294.0   \n",
      "\n",
      "   OpenRate  ClickToOpenRate  ClickRate  PromoUsed  PD Boys   ...     \\\n",
      "0  0.026549              0.0        0.0      False      0.0   ...      \n",
      "1  0.026549              0.0        0.0      False      0.0   ...      \n",
      "2  0.026549              0.0        0.0      False      0.0   ...      \n",
      "3  0.026549              0.0        0.0      False      0.0   ...      \n",
      "4  0.026549              0.0        0.0      False      0.0   ...      \n",
      "\n",
      "   Brand RW  Brand Reg  Brand AC  Brand FS  Brand OW  Brand R  Brand Gen  \\\n",
      "0       0.0        0.0       0.0       3.0       0.0      0.0        0.0   \n",
      "1       0.0        0.0       0.0       3.0       0.0      0.0        0.0   \n",
      "2       0.0        0.0       0.0       2.0       0.0      0.0        0.0   \n",
      "3       0.0        0.0       0.0       2.0       0.0      0.0        0.0   \n",
      "4       0.0        0.0       0.0       1.0       0.0      0.0        0.0   \n",
      "\n",
      "   No Brand  Brand TC  Brand W  \n",
      "0       0.0       0.0      0.0  \n",
      "1       0.0       0.0      0.0  \n",
      "2       0.0       0.0      0.0  \n",
      "3       0.0       0.0      0.0  \n",
      "4       0.0       0.0      0.0  \n",
      "\n",
      "[5 rows x 98 columns]\n",
      "<class 'pandas.core.frame.DataFrame'>\n",
      "Int64Index: 1420593 entries, 0 to 1420592\n",
      "Data columns (total 98 columns):\n",
      "ORDER_ID                                      1420593 non-null float64\n",
      "ORDER_VALUE                                   1420593 non-null float64\n",
      "ORDER_PRODUCT_QTY                             1420593 non-null float64\n",
      "SubscriberID                                  1420593 non-null float64\n",
      "Unnamed: 0                                    1420593 non-null float64\n",
      "OpenRate                                      1420593 non-null float64\n",
      "ClickToOpenRate                               1420593 non-null float64\n",
      "ClickRate                                     1420593 non-null float64\n",
      "PromoUsed                                     1420593 non-null bool\n",
      "PD Boys                                       1420593 non-null float64\n",
      "PD Girls                                      1420593 non-null float64\n",
      "PD Men                                        1420593 non-null float64\n",
      "No Dept                                       1420593 non-null float64\n",
      "PD Unisex                                     1420593 non-null float64\n",
      "PD Women                                      1420593 non-null float64\n",
      "Category: Accessories                         1420593 non-null float64\n",
      "Category: Infants & Toddlers                  1420593 non-null float64\n",
      "No Category                                   1420593 non-null float64\n",
      "Category: Shirts                              1420593 non-null float64\n",
      "Category: Jackets/Outerwear                   1420593 non-null float64\n",
      "Category: Dresses/Skirts/Bodysuits/Rompers    1420593 non-null float64\n",
      "Category: Jeans/Pants/Overalls/Shorts         1420593 non-null float64\n",
      "Email Not Subscribed                          1420593 non-null int32\n",
      "Email Active                                  1420593 non-null int32\n",
      "Email Bounced                                 1420593 non-null int32\n",
      "Email Held                                    1420593 non-null int32\n",
      "AK                                            1420593 non-null int32\n",
      "AL                                            1420593 non-null int32\n",
      "AR                                            1420593 non-null int32\n",
      "AZ                                            1420593 non-null int32\n",
      "CA                                            1420593 non-null int32\n",
      "CO                                            1420593 non-null int32\n",
      "CT                                            1420593 non-null int32\n",
      "DC                                            1420593 non-null int32\n",
      "DE                                            1420593 non-null int32\n",
      "FL                                            1420593 non-null int32\n",
      "GA                                            1420593 non-null int32\n",
      "HI                                            1420593 non-null int32\n",
      "IA                                            1420593 non-null int32\n",
      "ID                                            1420593 non-null int32\n",
      "IL                                            1420593 non-null int32\n",
      "IN                                            1420593 non-null int32\n",
      "KS                                            1420593 non-null int32\n",
      "KY                                            1420593 non-null int32\n",
      "LA                                            1420593 non-null int32\n",
      "MA                                            1420593 non-null int32\n",
      "MD                                            1420593 non-null int32\n",
      "ME                                            1420593 non-null int32\n",
      "MI                                            1420593 non-null int32\n",
      "MN                                            1420593 non-null int32\n",
      "MO                                            1420593 non-null int32\n",
      "MS                                            1420593 non-null int32\n",
      "MT                                            1420593 non-null int32\n",
      "NC                                            1420593 non-null int32\n",
      "ND                                            1420593 non-null int32\n",
      "NE                                            1420593 non-null int32\n",
      "NH                                            1420593 non-null int32\n",
      "NJ                                            1420593 non-null int32\n",
      "NM                                            1420593 non-null int32\n",
      "NV                                            1420593 non-null int32\n",
      "NY                                            1420593 non-null int32\n",
      "No State                                      1420593 non-null int32\n",
      "OH                                            1420593 non-null int32\n",
      "OK                                            1420593 non-null int32\n",
      "OR                                            1420593 non-null int32\n",
      "PA                                            1420593 non-null int32\n",
      "RI                                            1420593 non-null int32\n",
      "SC                                            1420593 non-null int32\n",
      "SD                                            1420593 non-null int32\n",
      "TN                                            1420593 non-null int32\n",
      "TX                                            1420593 non-null int32\n",
      "UT                                            1420593 non-null int32\n",
      "VA                                            1420593 non-null int32\n",
      "VT                                            1420593 non-null int32\n",
      "WA                                            1420593 non-null int32\n",
      "WI                                            1420593 non-null int32\n",
      "WV                                            1420593 non-null int32\n",
      "WY                                            1420593 non-null int32\n",
      "Adult                                         1420593 non-null float64\n",
      "Mens Big & Tall                               1420593 non-null float64\n",
      "Mens Regular                                  1420593 non-null float64\n",
      "Misses                                        1420593 non-null float64\n",
      "No Size                                       1420593 non-null float64\n",
      "Plus                                          1420593 non-null float64\n",
      "Regular                                       1420593 non-null float64\n",
      "Kids                                          1420593 non-null float64\n",
      "Brand JC                                      1420593 non-null float64\n",
      "Brand PG                                      1420593 non-null float64\n",
      "Brand RW                                      1420593 non-null float64\n",
      "Brand Reg                                     1420593 non-null float64\n",
      "Brand AC                                      1420593 non-null float64\n",
      "Brand FS                                      1420593 non-null float64\n",
      "Brand OW                                      1420593 non-null float64\n",
      "Brand R                                       1420593 non-null float64\n",
      "Brand Gen                                     1420593 non-null float64\n",
      "No Brand                                      1420593 non-null float64\n",
      "Brand TC                                      1420593 non-null float64\n",
      "Brand W                                       1420593 non-null float64\n",
      "dtypes: bool(1), float64(41), int32(56)\n",
      "memory usage: 760.0 MB\n",
      "None\n"
     ]
    }
   ],
   "source": [
    "OrderData_df = all_df.drop(['ORDER_PURCH_DATE', 'First_PURCH_DATE', 'Last_PURCH_DATE', 'MaxOpenDate', 'MaxClickDate'], axis=1)\n",
    "OrderData_df = OrderData_df[OrderData_df.ORDER_ID != 0]\n",
    "print(OrderData_df.head())\n",
    "print(OrderData_df.info())"
   ]
  },
  {
   "cell_type": "code",
   "execution_count": 53,
   "metadata": {
    "collapsed": true
   },
   "outputs": [],
   "source": [
    "OrderData_df = OrderData_df.groupby(['ORDER_ID', 'SubscriberID']).sum().reset_index()\n",
    "#print(OrderData_df.tail())"
   ]
  },
  {
   "cell_type": "code",
   "execution_count": 54,
   "metadata": {},
   "outputs": [
    {
     "name": "stdout",
     "output_type": "stream",
     "text": [
      "<class 'pandas.core.frame.DataFrame'>\n",
      "RangeIndex: 865282 entries, 0 to 865281\n",
      "Data columns (total 2 columns):\n",
      "SubscriberID    865282 non-null float64\n",
      "ORDER_ID        865282 non-null float64\n",
      "dtypes: float64(2)\n",
      "memory usage: 13.2 MB\n",
      "None\n"
     ]
    }
   ],
   "source": [
    "#Create frequency file by Subscriber ID, i.e. number of orders the subscriber had made\n",
    "OrderCount_df = OrderData_df[['SubscriberID', 'ORDER_ID']].copy()\n",
    "print(OrderCount_df.info())"
   ]
  },
  {
   "cell_type": "code",
   "execution_count": 55,
   "metadata": {},
   "outputs": [
    {
     "name": "stdout",
     "output_type": "stream",
     "text": [
      "<class 'pandas.core.frame.DataFrame'>\n",
      "RangeIndex: 496535 entries, 0 to 496534\n",
      "Data columns (total 2 columns):\n",
      "SubscriberID    496535 non-null float64\n",
      "Frequency       496535 non-null int64\n",
      "dtypes: float64(1), int64(1)\n",
      "memory usage: 7.6 MB\n",
      "None\n"
     ]
    }
   ],
   "source": [
    "#Group by Subscriber ID and create new column with count of orders\n",
    "OrderCount_df = OrderCount_df.groupby(['SubscriberID']).size().reset_index(name='Frequency')\n",
    "print(OrderCount_df.info())"
   ]
  },
  {
   "cell_type": "code",
   "execution_count": 56,
   "metadata": {},
   "outputs": [
    {
     "name": "stdout",
     "output_type": "stream",
     "text": [
      "       SubscriberID  Frequency\n",
      "61485    35857799.0          3\n"
     ]
    }
   ],
   "source": [
    "#Check the results\n",
    "test = OrderCount_df.loc[OrderCount_df['SubscriberID'] == 35857799]\n",
    "print(test)"
   ]
  },
  {
   "cell_type": "code",
   "execution_count": 57,
   "metadata": {
    "collapsed": true
   },
   "outputs": [],
   "source": [
    "OrderValues_df = OrderData_df.drop(['ORDER_ID','OpenRate', 'ClickToOpenRate','ClickRate','Email Not Subscribed', 'Email Active', 'Email Bounced', 'Email Held'], axis=1)\n",
    "#print(OrderValues_df.head())"
   ]
  },
  {
   "cell_type": "code",
   "execution_count": 58,
   "metadata": {
    "collapsed": true
   },
   "outputs": [],
   "source": [
    "#Return state and promo used columns to binary for a single Order ID\n",
    "OrderValues_df['PromoUsed'] = [1 if ele >= 1 else 0 for ele in OrderValues_df['PromoUsed']]\n",
    "OrderValues_df['AK'] = [1 if ele >= 1 else 0 for ele in OrderValues_df['AK']]\n",
    "OrderValues_df['AL'] = [1 if ele >= 1 else 0 for ele in OrderValues_df['AL']]\n",
    "OrderValues_df['AR'] = [1 if ele >= 1 else 0 for ele in OrderValues_df['AR']]\n",
    "OrderValues_df['AZ'] = [1 if ele >= 1 else 0 for ele in OrderValues_df['AZ']]\n",
    "OrderValues_df['CA'] = [1 if ele >= 1 else 0 for ele in OrderValues_df['CA']]\n",
    "OrderValues_df['CO'] = [1 if ele >= 1 else 0 for ele in OrderValues_df['CO']]\n",
    "OrderValues_df['CT'] = [1 if ele >= 1 else 0 for ele in OrderValues_df['CT']]\n",
    "OrderValues_df['DC'] = [1 if ele >= 1 else 0 for ele in OrderValues_df['DC']]\n",
    "OrderValues_df['DE'] = [1 if ele >= 1 else 0 for ele in OrderValues_df['DE']]\n",
    "OrderValues_df['FL'] = [1 if ele >= 1 else 0 for ele in OrderValues_df['FL']]\n",
    "OrderValues_df['GA'] = [1 if ele >= 1 else 0 for ele in OrderValues_df['GA']]\n",
    "OrderValues_df['HI'] = [1 if ele >= 1 else 0 for ele in OrderValues_df['HI']]\n",
    "OrderValues_df['IA'] = [1 if ele >= 1 else 0 for ele in OrderValues_df['IA']]\n",
    "OrderValues_df['ID'] = [1 if ele >= 1 else 0 for ele in OrderValues_df['ID']]\n",
    "OrderValues_df['IL'] = [1 if ele >= 1 else 0 for ele in OrderValues_df['IL']]\n",
    "OrderValues_df['IN'] = [1 if ele >= 1 else 0 for ele in OrderValues_df['IN']]\n",
    "OrderValues_df['KS'] = [1 if ele >= 1 else 0 for ele in OrderValues_df['KS']]\n",
    "OrderValues_df['KY'] = [1 if ele >= 1 else 0 for ele in OrderValues_df['KY']]\n",
    "OrderValues_df['LA'] = [1 if ele >= 1 else 0 for ele in OrderValues_df['LA']]\n",
    "OrderValues_df['MA'] = [1 if ele >= 1 else 0 for ele in OrderValues_df['MA']]\n",
    "OrderValues_df['MD'] = [1 if ele >= 1 else 0 for ele in OrderValues_df['MD']]\n",
    "OrderValues_df['ME'] = [1 if ele >= 1 else 0 for ele in OrderValues_df['ME']]\n",
    "OrderValues_df['MI'] = [1 if ele >= 1 else 0 for ele in OrderValues_df['MI']]\n",
    "OrderValues_df['MN'] = [1 if ele >= 1 else 0 for ele in OrderValues_df['MN']]\n",
    "OrderValues_df['MS'] = [1 if ele >= 1 else 0 for ele in OrderValues_df['MS']]\n",
    "OrderValues_df['MT'] = [1 if ele >= 1 else 0 for ele in OrderValues_df['MT']]\n",
    "OrderValues_df['NC'] = [1 if ele >= 1 else 0 for ele in OrderValues_df['NC']]\n",
    "OrderValues_df['ND'] = [1 if ele >= 1 else 0 for ele in OrderValues_df['ND']]\n",
    "OrderValues_df['NE'] = [1 if ele >= 1 else 0 for ele in OrderValues_df['NE']]\n",
    "OrderValues_df['NH'] = [1 if ele >= 1 else 0 for ele in OrderValues_df['NH']]\n",
    "OrderValues_df['NJ'] = [1 if ele >= 1 else 0 for ele in OrderValues_df['NJ']]\n",
    "OrderValues_df['NM'] = [1 if ele >= 1 else 0 for ele in OrderValues_df['NM']]\n",
    "OrderValues_df['NV'] = [1 if ele >= 1 else 0 for ele in OrderValues_df['NV']]\n",
    "OrderValues_df['NY'] = [1 if ele >= 1 else 0 for ele in OrderValues_df['NY']]\n",
    "OrderValues_df['No State'] = [1 if ele >= 1 else 0 for ele in OrderValues_df['No State']]\n",
    "OrderValues_df['OH'] = [1 if ele >= 1 else 0 for ele in OrderValues_df['OH']]\n",
    "OrderValues_df['OK'] = [1 if ele >= 1 else 0 for ele in OrderValues_df['OK']]\n",
    "OrderValues_df['OR'] = [1 if ele >= 1 else 0 for ele in OrderValues_df['OR']]\n",
    "OrderValues_df['PA'] = [1 if ele >= 1 else 0 for ele in OrderValues_df['PA']]\n",
    "OrderValues_df['RI'] = [1 if ele >= 1 else 0 for ele in OrderValues_df['RI']]\n",
    "OrderValues_df['SC'] = [1 if ele >= 1 else 0 for ele in OrderValues_df['SC']]\n",
    "OrderValues_df['SD'] = [1 if ele >= 1 else 0 for ele in OrderValues_df['SD']]\n",
    "OrderValues_df['TN'] = [1 if ele >= 1 else 0 for ele in OrderValues_df['TN']]\n",
    "OrderValues_df['TX'] = [1 if ele >= 1 else 0 for ele in OrderValues_df['TX']]\n",
    "OrderValues_df['UT'] = [1 if ele >= 1 else 0 for ele in OrderValues_df['UT']]\n",
    "OrderValues_df['VA'] = [1 if ele >= 1 else 0 for ele in OrderValues_df['VA']]\n",
    "OrderValues_df['VT'] = [1 if ele >= 1 else 0 for ele in OrderValues_df['VT']]\n",
    "OrderValues_df['WA'] = [1 if ele >= 1 else 0 for ele in OrderValues_df['WA']]\n",
    "OrderValues_df['WI'] = [1 if ele >= 1 else 0 for ele in OrderValues_df['WI']]\n",
    "OrderValues_df['WV'] = [1 if ele >= 1 else 0 for ele in OrderValues_df['WV']]\n",
    "OrderValues_df['WY'] = [1 if ele >= 1 else 0 for ele in OrderValues_df['WY']]\n",
    "\n",
    "#print(OrderValues_df.head())"
   ]
  },
  {
   "cell_type": "code",
   "execution_count": 59,
   "metadata": {},
   "outputs": [
    {
     "name": "stdout",
     "output_type": "stream",
     "text": [
      "<class 'pandas.core.frame.DataFrame'>\n",
      "RangeIndex: 496535 entries, 0 to 496534\n",
      "Data columns (total 90 columns):\n",
      "SubscriberID                                  496535 non-null float64\n",
      "ORDER_VALUE                                   496535 non-null float64\n",
      "ORDER_PRODUCT_QTY                             496535 non-null float64\n",
      "Unnamed: 0                                    496535 non-null float64\n",
      "PromoUsed                                     496535 non-null int64\n",
      "PD Boys                                       496535 non-null float64\n",
      "PD Girls                                      496535 non-null float64\n",
      "PD Men                                        496535 non-null float64\n",
      "No Dept                                       496535 non-null float64\n",
      "PD Unisex                                     496535 non-null float64\n",
      "PD Women                                      496535 non-null float64\n",
      "Category: Accessories                         496535 non-null float64\n",
      "Category: Infants & Toddlers                  496535 non-null float64\n",
      "No Category                                   496535 non-null float64\n",
      "Category: Shirts                              496535 non-null float64\n",
      "Category: Jackets/Outerwear                   496535 non-null float64\n",
      "Category: Dresses/Skirts/Bodysuits/Rompers    496535 non-null float64\n",
      "Category: Jeans/Pants/Overalls/Shorts         496535 non-null float64\n",
      "AK                                            496535 non-null int64\n",
      "AL                                            496535 non-null int64\n",
      "AR                                            496535 non-null int64\n",
      "AZ                                            496535 non-null int64\n",
      "CA                                            496535 non-null int64\n",
      "CO                                            496535 non-null int64\n",
      "CT                                            496535 non-null int64\n",
      "DC                                            496535 non-null int64\n",
      "DE                                            496535 non-null int64\n",
      "FL                                            496535 non-null int64\n",
      "GA                                            496535 non-null int64\n",
      "HI                                            496535 non-null int64\n",
      "IA                                            496535 non-null int64\n",
      "ID                                            496535 non-null int64\n",
      "IL                                            496535 non-null int64\n",
      "IN                                            496535 non-null int64\n",
      "KS                                            496535 non-null int64\n",
      "KY                                            496535 non-null int64\n",
      "LA                                            496535 non-null int64\n",
      "MA                                            496535 non-null int64\n",
      "MD                                            496535 non-null int64\n",
      "ME                                            496535 non-null int64\n",
      "MI                                            496535 non-null int64\n",
      "MN                                            496535 non-null int64\n",
      "MO                                            496535 non-null int32\n",
      "MS                                            496535 non-null int64\n",
      "MT                                            496535 non-null int64\n",
      "NC                                            496535 non-null int64\n",
      "ND                                            496535 non-null int64\n",
      "NE                                            496535 non-null int64\n",
      "NH                                            496535 non-null int64\n",
      "NJ                                            496535 non-null int64\n",
      "NM                                            496535 non-null int64\n",
      "NV                                            496535 non-null int64\n",
      "NY                                            496535 non-null int64\n",
      "No State                                      496535 non-null int64\n",
      "OH                                            496535 non-null int64\n",
      "OK                                            496535 non-null int64\n",
      "OR                                            496535 non-null int64\n",
      "PA                                            496535 non-null int64\n",
      "RI                                            496535 non-null int64\n",
      "SC                                            496535 non-null int64\n",
      "SD                                            496535 non-null int64\n",
      "TN                                            496535 non-null int64\n",
      "TX                                            496535 non-null int64\n",
      "UT                                            496535 non-null int64\n",
      "VA                                            496535 non-null int64\n",
      "VT                                            496535 non-null int64\n",
      "WA                                            496535 non-null int64\n",
      "WI                                            496535 non-null int64\n",
      "WV                                            496535 non-null int64\n",
      "WY                                            496535 non-null int64\n",
      "Adult                                         496535 non-null float64\n",
      "Mens Big & Tall                               496535 non-null float64\n",
      "Mens Regular                                  496535 non-null float64\n",
      "Misses                                        496535 non-null float64\n",
      "No Size                                       496535 non-null float64\n",
      "Plus                                          496535 non-null float64\n",
      "Regular                                       496535 non-null float64\n",
      "Kids                                          496535 non-null float64\n",
      "Brand JC                                      496535 non-null float64\n",
      "Brand PG                                      496535 non-null float64\n",
      "Brand RW                                      496535 non-null float64\n",
      "Brand Reg                                     496535 non-null float64\n",
      "Brand AC                                      496535 non-null float64\n",
      "Brand FS                                      496535 non-null float64\n",
      "Brand OW                                      496535 non-null float64\n",
      "Brand R                                       496535 non-null float64\n",
      "Brand Gen                                     496535 non-null float64\n",
      "No Brand                                      496535 non-null float64\n",
      "Brand TC                                      496535 non-null float64\n",
      "Brand W                                       496535 non-null float64\n",
      "dtypes: float64(37), int32(1), int64(52)\n",
      "memory usage: 339.0 MB\n",
      "None\n"
     ]
    }
   ],
   "source": [
    "#Group by Subscriber ID and sum to get a total of subscriber LTV, Products Purchased, etc.\n",
    "OrderValues_df = OrderValues_df.groupby('SubscriberID').sum().reset_index()\n",
    "#print(OrderValues_df.tail())\n",
    "print(OrderValues_df.info())"
   ]
  },
  {
   "cell_type": "code",
   "execution_count": 60,
   "metadata": {
    "collapsed": true
   },
   "outputs": [],
   "source": [
    "SubID_OrderData_df = OrderCount_df.merge(OrderValues_df, how='inner', on=['SubscriberID'])\n",
    "\n",
    "#Create columns for AOV and UPT\n",
    "SubID_OrderData_df['AOV'] = SubID_OrderData_df['ORDER_VALUE']/SubID_OrderData_df['Frequency']\n",
    "SubID_OrderData_df['UPT'] = SubID_OrderData_df['ORDER_PRODUCT_QTY']/SubID_OrderData_df['Frequency']\n",
    "SubID_OrderData_df['PromoUsedPercentofOrders'] = SubID_OrderData_df['PromoUsed']/SubID_OrderData_df['Frequency']\n",
    "\n",
    "#print(SubID_OrderData_df.head())\n",
    "#print(SubID_OrderData_df.info())"
   ]
  },
  {
   "cell_type": "code",
   "execution_count": 61,
   "metadata": {
    "collapsed": true
   },
   "outputs": [],
   "source": [
    "SubID_OrderData_df2 = PurchDateData_df.merge(SubID_OrderData_df, how='outer', on=['SubscriberID'])\n",
    "#print(SubID_OrderData_df2.info())"
   ]
  },
  {
   "cell_type": "code",
   "execution_count": 62,
   "metadata": {},
   "outputs": [
    {
     "name": "stdout",
     "output_type": "stream",
     "text": [
      "   SubscriberID  OpenRate  ClickToOpenRate  ClickRate  Email Not Subscribed  \\\n",
      "0    75314186.0  0.026549              0.0        0.0                     0   \n",
      "1    75314186.0  0.026549              0.0        0.0                     0   \n",
      "2    75314186.0  0.026549              0.0        0.0                     0   \n",
      "3    75314186.0  0.026549              0.0        0.0                     0   \n",
      "4    75314186.0  0.026549              0.0        0.0                     0   \n",
      "\n",
      "   Email Active  Email Bounced  Email Held  \n",
      "0             1              0           0  \n",
      "1             1              0           0  \n",
      "2             1              0           0  \n",
      "3             1              0           0  \n",
      "4             1              0           0  \n"
     ]
    }
   ],
   "source": [
    "EmailData_df = all_df[['SubscriberID', 'OpenRate', 'ClickToOpenRate', 'ClickRate', 'Email Not Subscribed', 'Email Active', 'Email Bounced', 'Email Held']].copy()\n",
    "print(EmailData_df.head())"
   ]
  },
  {
   "cell_type": "code",
   "execution_count": 63,
   "metadata": {},
   "outputs": [
    {
     "name": "stdout",
     "output_type": "stream",
     "text": [
      "<class 'pandas.core.frame.DataFrame'>\n",
      "Int64Index: 1094638 entries, 1 to 1094638\n",
      "Data columns (total 8 columns):\n",
      "SubscriberID            1094638 non-null float64\n",
      "OpenRate                1094638 non-null float64\n",
      "ClickToOpenRate         1094638 non-null float64\n",
      "ClickRate               1094638 non-null float64\n",
      "Email Not Subscribed    1094638 non-null int32\n",
      "Email Active            1094638 non-null int32\n",
      "Email Bounced           1094638 non-null int32\n",
      "Email Held              1094638 non-null int32\n",
      "dtypes: float64(4), int32(4)\n",
      "memory usage: 58.5 MB\n",
      "None\n",
      "   SubscriberID  OpenRate  ClickToOpenRate  ClickRate  Email Not Subscribed  \\\n",
      "1     4606724.0  0.000000         0.000000   0.000000                     0   \n",
      "2     4606725.0  0.000000         0.000000   0.000000                     0   \n",
      "3    24717465.0  0.322917         0.032258   0.010417                     0   \n",
      "4    24717678.0  4.000000         0.500000   2.000000                     0   \n",
      "5    24717679.0  4.000000         0.500000   2.000000                     0   \n",
      "\n",
      "   Email Active  Email Bounced  Email Held  \n",
      "1             0              0           1  \n",
      "2             1              0           0  \n",
      "3             1              0           0  \n",
      "4             1              0           0  \n",
      "5             1              0           0  \n"
     ]
    }
   ],
   "source": [
    "#Pivot the email data\n",
    "EmailData_df = EmailData_df.groupby('SubscriberID').max().reset_index()\n",
    "EmailData_df = EmailData_df[EmailData_df.SubscriberID != 0]\n",
    "print(EmailData_df.info())\n",
    "print(EmailData_df.head())"
   ]
  },
  {
   "cell_type": "code",
   "execution_count": 64,
   "metadata": {},
   "outputs": [
    {
     "name": "stdout",
     "output_type": "stream",
     "text": [
      "<class 'pandas.core.frame.DataFrame'>\n",
      "Int64Index: 1094638 entries, 0 to 1094637\n",
      "Data columns (total 10 columns):\n",
      "SubscriberID            1094638 non-null float64\n",
      "EmailOpen_Recency       1094638 non-null int64\n",
      "EmailClick_Recency      1094638 non-null int64\n",
      "OpenRate                1094638 non-null float64\n",
      "ClickToOpenRate         1094638 non-null float64\n",
      "ClickRate               1094638 non-null float64\n",
      "Email Not Subscribed    1094638 non-null int32\n",
      "Email Active            1094638 non-null int32\n",
      "Email Bounced           1094638 non-null int32\n",
      "Email Held              1094638 non-null int32\n",
      "dtypes: float64(4), int32(4), int64(2)\n",
      "memory usage: 75.2 MB\n",
      "None\n",
      "   SubscriberID  EmailOpen_Recency  EmailClick_Recency  OpenRate  \\\n",
      "0     4606724.0              17556               17556  0.000000   \n",
      "1     4606725.0              17556               17556  0.000000   \n",
      "2    24717465.0                  6                 170  0.322917   \n",
      "3    24717678.0                 90                  90  4.000000   \n",
      "4    24717679.0                 90                  90  4.000000   \n",
      "\n",
      "   ClickToOpenRate  ClickRate  Email Not Subscribed  Email Active  \\\n",
      "0         0.000000   0.000000                     0             0   \n",
      "1         0.000000   0.000000                     0             1   \n",
      "2         0.032258   0.010417                     0             1   \n",
      "3         0.500000   2.000000                     0             1   \n",
      "4         0.500000   2.000000                     0             1   \n",
      "\n",
      "   Email Bounced  Email Held  \n",
      "0              0           1  \n",
      "1              0           0  \n",
      "2              0           0  \n",
      "3              0           0  \n",
      "4              0           0  \n"
     ]
    }
   ],
   "source": [
    "#Join the email data and email date data files\n",
    "EmailDateData_df = EmailDateData_df[EmailDateData_df.SubscriberID != 0]\n",
    "\n",
    "SubID_EmailData_df = EmailDateData_df.merge(EmailData_df, how='inner', on=['SubscriberID'])\n",
    "print(SubID_EmailData_df.info())\n",
    "print(SubID_EmailData_df.head())"
   ]
  },
  {
   "cell_type": "code",
   "execution_count": 65,
   "metadata": {},
   "outputs": [
    {
     "name": "stdout",
     "output_type": "stream",
     "text": [
      "<class 'pandas.core.frame.DataFrame'>\n",
      "Int64Index: 1094638 entries, 0 to 1094637\n",
      "Columns: 105 entries, SubscriberID to PromoUsedPercentofOrders\n",
      "dtypes: float64(99), int32(4), int64(2)\n",
      "memory usage: 868.5 MB\n",
      "None\n"
     ]
    }
   ],
   "source": [
    "#Join the Order Data and the Email Data\n",
    "SubID_AllData_df = SubID_EmailData_df.merge(SubID_OrderData_df2, how='outer', on=['SubscriberID'])\n",
    "SubID_AllData_df = SubID_AllData_df[SubID_AllData_df.SubscriberID != 0]\n",
    "print(SubID_AllData_df.info())"
   ]
  },
  {
   "cell_type": "code",
   "execution_count": 66,
   "metadata": {},
   "outputs": [
    {
     "name": "stdout",
     "output_type": "stream",
     "text": [
      "<class 'pandas.core.frame.DataFrame'>\n",
      "Int64Index: 1094638 entries, 0 to 1094637\n",
      "Columns: 105 entries, SubscriberID to PromoUsedPercentofOrders\n",
      "dtypes: float64(99), int32(4), int64(2)\n",
      "memory usage: 868.5 MB\n"
     ]
    }
   ],
   "source": [
    "#Fill in missing values with 0\n",
    "SubID_AllData_df['EmailOpen_Recency'] = SubID_AllData_df['EmailOpen_Recency'].fillna(17556)\n",
    "SubID_AllData_df['EmailClick_Recency'] = SubID_AllData_df['EmailClick_Recency'].fillna(17556)\n",
    "SubID_AllData_df= SubID_AllData_df.fillna(0)\n",
    "\n",
    "SubID_AllData_df.head()\n",
    "SubID_AllData_df.info()"
   ]
  },
  {
   "cell_type": "code",
   "execution_count": 67,
   "metadata": {},
   "outputs": [
    {
     "name": "stdout",
     "output_type": "stream",
     "text": [
      "['SubscriberID', 'EmailOpen_Recency', 'EmailClick_Recency', 'OpenRate', 'ClickToOpenRate', 'ClickRate', 'Email Not Subscribed', 'Email Active', 'Email Bounced', 'Email Held', 'Purch_Recency', 'FirstPurch_Recency', 'Frequency', 'ORDER_VALUE', 'ORDER_PRODUCT_QTY', 'Unnamed: 0', 'PromoUsed', 'PD Boys', 'PD Girls', 'PD Men', 'No Dept', 'PD Unisex', 'PD Women', 'Category: Accessories', 'Category: Infants & Toddlers', 'No Category', 'Category: Shirts', 'Category: Jackets/Outerwear', 'Category: Dresses/Skirts/Bodysuits/Rompers', 'Category: Jeans/Pants/Overalls/Shorts', 'AK', 'AL', 'AR', 'AZ', 'CA', 'CO', 'CT', 'DC', 'DE', 'FL', 'GA', 'HI', 'IA', 'ID', 'IL', 'IN', 'KS', 'KY', 'LA', 'MA', 'MD', 'ME', 'MI', 'MN', 'MO', 'MS', 'MT', 'NC', 'ND', 'NE', 'NH', 'NJ', 'NM', 'NV', 'NY', 'No State', 'OH', 'OK', 'OR', 'PA', 'RI', 'SC', 'SD', 'TN', 'TX', 'UT', 'VA', 'VT', 'WA', 'WI', 'WV', 'WY', 'Adult', 'Mens Big & Tall', 'Mens Regular', 'Misses', 'No Size', 'Plus', 'Regular', 'Kids', 'Brand JC', 'Brand PG', 'Brand RW', 'Brand Reg', 'Brand AC', 'Brand FS', 'Brand OW', 'Brand R', 'Brand Gen', 'No Brand', 'Brand TC', 'Brand W', 'AOV', 'UPT', 'PromoUsedPercentofOrders']\n"
     ]
    }
   ],
   "source": [
    "print(list(SubID_AllData_df))"
   ]
  },
  {
   "cell_type": "code",
   "execution_count": 68,
   "metadata": {},
   "outputs": [
    {
     "name": "stdout",
     "output_type": "stream",
     "text": [
      "124621    3.0\n",
      "Name: Frequency, dtype: float64\n"
     ]
    }
   ],
   "source": [
    "#Checking the results\n",
    "test2 = SubID_AllData_df.loc[SubID_AllData_df['SubscriberID'] == 35857799]\n",
    "print(test2['Frequency'])"
   ]
  },
  {
   "cell_type": "code",
   "execution_count": 69,
   "metadata": {
    "collapsed": true
   },
   "outputs": [],
   "source": [
    "SubID_AllData_df = SubID_AllData_df.drop(['Unnamed: 0', 'PromoUsed'], axis = 1)"
   ]
  },
  {
   "cell_type": "code",
   "execution_count": 70,
   "metadata": {
    "collapsed": true
   },
   "outputs": [],
   "source": [
    "SubID_AllData_df.to_csv(r'C:\\Users\\jrenaud\\Documents\\Springboard\\Project 2\\Data Outputs\\\\SubID_AllData_df.csv')"
   ]
  },
  {
   "cell_type": "markdown",
   "metadata": {},
   "source": [
    "# EDA"
   ]
  },
  {
   "cell_type": "code",
   "execution_count": 71,
   "metadata": {},
   "outputs": [
    {
     "name": "stdout",
     "output_type": "stream",
     "text": [
      "<class 'pandas.core.frame.DataFrame'>\n",
      "RangeIndex: 1094638 entries, 0 to 1094637\n",
      "Columns: 104 entries, Unnamed: 0 to PromoUsedPercentofOrders\n",
      "dtypes: float64(97), int64(7)\n",
      "memory usage: 868.5 MB\n",
      "None\n"
     ]
    }
   ],
   "source": [
    "#Import Account Master file\n",
    "df = pd.read_csv(r'C:\\Users\\jrenaud\\Documents\\Springboard\\Project 2\\Data Outputs\\\\SubID_AllData_df.csv', header=0)\n",
    "\n",
    "#Check the fields for each\n",
    "print(df.info())\n",
    "#print(df.head())"
   ]
  },
  {
   "cell_type": "code",
   "execution_count": 72,
   "metadata": {},
   "outputs": [
    {
     "data": {
      "text/plain": [
       "0    598103\n",
       "1    496535\n",
       "Name: Purchaser, dtype: int64"
      ]
     },
     "execution_count": 72,
     "metadata": {},
     "output_type": "execute_result"
    }
   ],
   "source": [
    "#Create a new column with 1 if the subscriber has made a purchase and 0 if not\n",
    "df['Purchaser'] = np.where(df['ORDER_VALUE'] > 0, 1, 0)\n",
    "df['Purchaser'].value_counts()"
   ]
  },
  {
   "cell_type": "code",
   "execution_count": 73,
   "metadata": {},
   "outputs": [
    {
     "name": "stdout",
     "output_type": "stream",
     "text": [
      "Number of Purchasers: 496,535\n",
      "Number Non Purchasers: 598,103\n",
      "Percentage of Purchasers: 45.36%\n",
      "Percentage of Non Purchasers: 54.64%\n"
     ]
    }
   ],
   "source": [
    "#Determine the percentage of the file that are purchasers versus non purchasers\n",
    "purchaser_df = df['Purchaser'].value_counts()\n",
    "purchasers = float(purchaser_df[1])\n",
    "non_purchasers = float(purchaser_df[0])\n",
    "subscribers = float(len(df))\n",
    "per_purchasers = float(purchasers/subscribers)\n",
    "per_nonpurchasers = float(non_purchasers/subscribers)\n",
    "\n",
    "print('Number of Purchasers:', \"{:,}\".format(purchaser_df[1]))\n",
    "print('Number Non Purchasers:', \"{:,}\".format(purchaser_df[0]))\n",
    "print('Percentage of Purchasers:', \"{:.2%}\".format(per_purchasers))\n",
    "print('Percentage of Non Purchasers:', \"{:.2%}\".format(per_nonpurchasers))"
   ]
  },
  {
   "cell_type": "code",
   "execution_count": 74,
   "metadata": {},
   "outputs": [
    {
     "name": "stdout",
     "output_type": "stream",
     "text": [
      "<class 'pandas.core.frame.DataFrame'>\n",
      "Int64Index: 496535 entries, 18 to 1094637\n",
      "Columns: 105 entries, Unnamed: 0 to Purchaser\n",
      "dtypes: float64(97), int32(1), int64(7)\n",
      "memory usage: 399.7 MB\n",
      "None\n"
     ]
    }
   ],
   "source": [
    "#Create a new DataFrame for only the purchasers to use for exploring the behavior of the purchasers\n",
    "buyers_df = df[df.Purchaser == 1]\n",
    "print(buyers_df.info())"
   ]
  },
  {
   "cell_type": "code",
   "execution_count": 75,
   "metadata": {},
   "outputs": [
    {
     "name": "stdout",
     "output_type": "stream",
     "text": [
      "count    496535.000000\n",
      "mean        127.996365\n",
      "std         230.497192\n",
      "min           0.970000\n",
      "25%          44.970000\n",
      "50%          78.980000\n",
      "75%         143.840000\n",
      "max       51496.070000\n",
      "Name: ORDER_VALUE, dtype: float64\n"
     ]
    }
   ],
   "source": [
    "print(buyers_df.ORDER_VALUE.describe())"
   ]
  },
  {
   "cell_type": "code",
   "execution_count": 76,
   "metadata": {},
   "outputs": [
    {
     "data": {
      "image/png": "[encoded data removed]",
      "text/plain": [
       "<matplotlib.figure.Figure at 0x1db8de62a58>"
      ]
     },
     "metadata": {},
     "output_type": "display_data"
    }
   ],
   "source": [
    "#Explore the LTV Data\n",
    "_ = sns.boxplot(y = 'ORDER_VALUE', data=buyers_df)\n",
    "_ = plt.ylabel('LTV')\n",
    "_ = plt.title('LTV Boxplot of All Buyers')\n",
    "plt.show()"
   ]
  },
  {
   "cell_type": "code",
   "execution_count": 77,
   "metadata": {},
   "outputs": [
    {
     "name": "stdout",
     "output_type": "stream",
     "text": [
      "<class 'pandas.core.frame.DataFrame'>\n",
      "Int64Index: 372430 entries, 19 to 1094637\n",
      "Columns: 105 entries, Unnamed: 0 to Purchaser\n",
      "dtypes: float64(97), int32(1), int64(7)\n",
      "memory usage: 299.8 MB\n",
      "None\n"
     ]
    }
   ],
   "source": [
    "#Split the buyers data into the bottom 75% and the top 25% and explore\n",
    "buyers75percent_df = buyers_df[buyers_df.ORDER_VALUE <= 143.84]\n",
    "print(buyers75percent_df.info())"
   ]
  },
  {
   "cell_type": "code",
   "execution_count": 78,
   "metadata": {},
   "outputs": [
    {
     "name": "stdout",
     "output_type": "stream",
     "text": [
      "Percentage of Purchasers with LTV <= $143.84: 75.01%\n"
     ]
    }
   ],
   "source": [
    "percent_of_buyers = len(buyers75percent_df)/len(buyers_df)\n",
    "print('Percentage of Purchasers with LTV <= $143.84:',\"{:.2%}\".format(percent_of_buyers))"
   ]
  },
  {
   "cell_type": "code",
   "execution_count": 79,
   "metadata": {},
   "outputs": [
    {
     "name": "stdout",
     "output_type": "stream",
     "text": [
      "<class 'pandas.core.frame.DataFrame'>\n",
      "Int64Index: 124105 entries, 18 to 1094626\n",
      "Columns: 105 entries, Unnamed: 0 to Purchaser\n",
      "dtypes: float64(97), int32(1), int64(7)\n",
      "memory usage: 99.9 MB\n"
     ]
    }
   ],
   "source": [
    "buyerstop25percent_df = buyers_df[buyers_df.ORDER_VALUE > 143.84]\n",
    "buyerstop25percent_df.info()"
   ]
  },
  {
   "cell_type": "code",
   "execution_count": 80,
   "metadata": {},
   "outputs": [
    {
     "data": {
      "image/png": "[encoded data removed]",
      "text/plain": [
       "<matplotlib.figure.Figure at 0x1dba0502fd0>"
      ]
     },
     "metadata": {},
     "output_type": "display_data"
    }
   ],
   "source": [
    "#Explore the LTV Data\n",
    "_ = sns.boxplot(y = 'ORDER_VALUE', data=buyers75percent_df)\n",
    "_ = plt.ylabel('LTV')\n",
    "_ = plt.title('LTV Bottom 75% of Subscribers')\n",
    "plt.show()"
   ]
  },
  {
   "cell_type": "code",
   "execution_count": 81,
   "metadata": {},
   "outputs": [
    {
     "data": {
      "image/png": "[encoded data removed]",
      "text/plain": [
       "<matplotlib.figure.Figure at 0x1db9b41c438>"
      ]
     },
     "metadata": {},
     "output_type": "display_data"
    }
   ],
   "source": [
    "#Explore the LTV Data\n",
    "_ = sns.boxplot(y = 'ORDER_VALUE', data=buyerstop25percent_df)\n",
    "_ = plt.ylabel('LTV')\n",
    "_ = plt.title('LTV Top 25% of Subscribers')\n",
    "plt.show()"
   ]
  },
  {
   "cell_type": "code",
   "execution_count": 82,
   "metadata": {},
   "outputs": [
    {
     "name": "stdout",
     "output_type": "stream",
     "text": [
      "count    372430.000000\n",
      "mean         67.227553\n",
      "std          33.421949\n",
      "min           0.970000\n",
      "25%          39.000000\n",
      "50%          59.940000\n",
      "75%          95.880000\n",
      "max         143.840000\n",
      "Name: ORDER_VALUE, dtype: float64\n"
     ]
    }
   ],
   "source": [
    "print(buyers75percent_df.ORDER_VALUE.describe())"
   ]
  },
  {
   "cell_type": "code",
   "execution_count": 83,
   "metadata": {},
   "outputs": [
    {
     "name": "stdout",
     "output_type": "stream",
     "text": [
      "count    124105.000000\n",
      "mean        310.359111\n",
      "std         406.048901\n",
      "min         143.850000\n",
      "25%         175.920000\n",
      "50%         230.790000\n",
      "75%         339.000000\n",
      "max       51496.070000\n",
      "Name: ORDER_VALUE, dtype: float64\n"
     ]
    }
   ],
   "source": [
    "print(buyerstop25percent_df.ORDER_VALUE.describe())"
   ]
  },
  {
   "cell_type": "code",
   "execution_count": 84,
   "metadata": {},
   "outputs": [
    {
     "data": {
      "image/png": "[encoded data removed]",
      "text/plain": [
       "<matplotlib.figure.Figure at 0x1db900df0f0>"
      ]
     },
     "metadata": {},
     "output_type": "display_data"
    }
   ],
   "source": [
    "#Create a histogram to visualize the dataset\n",
    "sns.set()\n",
    "_ = plt.hist(buyers75percent_df['ORDER_VALUE'])\n",
    "_ = plt.title('Histogram of LTV <= $143.84')\n",
    "_ = plt.xlabel('LTV')\n",
    "_ = plt.ylabel('Count')\n",
    "\n",
    "plt.show()"
   ]
  },
  {
   "cell_type": "code",
   "execution_count": 85,
   "metadata": {},
   "outputs": [
    {
     "data": {
      "image/png": "[encoded data removed]",
      "text/plain": [
       "<matplotlib.figure.Figure at 0x1db969dda58>"
      ]
     },
     "metadata": {},
     "output_type": "display_data"
    }
   ],
   "source": [
    "#Create a histogram to visualize the dataset\n",
    "sns.set()\n",
    "_ = plt.hist(buyerstop25percent_df['ORDER_VALUE'], bins = 100)\n",
    "_ = plt.title('Histogram of LTV > $143.84')\n",
    "_ = plt.xlabel('LTV')\n",
    "_ = plt.ylabel('Count')\n",
    "\n",
    "plt.show()"
   ]
  },
  {
   "cell_type": "code",
   "execution_count": 86,
   "metadata": {},
   "outputs": [
    {
     "name": "stdout",
     "output_type": "stream",
     "text": [
      "<class 'pandas.core.frame.DataFrame'>\n",
      "Int64Index: 471377 entries, 18 to 1094637\n",
      "Columns: 104 entries, Unnamed: 0 to PromoUsedPercentofOrders\n",
      "dtypes: float64(97), int64(7)\n",
      "memory usage: 377.6 MB\n",
      "None\n",
      "count    471377.000000\n",
      "mean        110.830204\n",
      "std          91.731640\n",
      "min          19.980000\n",
      "25%          47.940000\n",
      "50%          79.000000\n",
      "75%         136.960000\n",
      "max         519.640000\n",
      "Name: ORDER_VALUE, dtype: float64\n"
     ]
    }
   ],
   "source": [
    "#Create a DataFrame with the Outliers removed\n",
    "P = np.percentile(buyers_df.ORDER_VALUE, [2.5, 97.5])\n",
    "buyers_df2 = buyers_df[(buyers_df.ORDER_VALUE > P[0]) & (buyers_df.ORDER_VALUE < P[1])]\n",
    "buyers_df2 = buyers_df2.drop(['Purchaser'], axis =1)\n",
    "print(buyers_df2.info())\n",
    "print(buyers_df2.ORDER_VALUE.describe())"
   ]
  },
  {
   "cell_type": "code",
   "execution_count": 87,
   "metadata": {},
   "outputs": [
    {
     "name": "stdout",
     "output_type": "stream",
     "text": [
      "Percentage of Purchasers Once Outliers Are Removed 94.93%\n"
     ]
    }
   ],
   "source": [
    "#Percent of total list left once outliers are removed\n",
    "percent_of_buyers2 = len(buyers_df2)/len(buyers_df)\n",
    "print('Percentage of Purchasers Once Outliers Are Removed',\"{:.2%}\".format(percent_of_buyers2))"
   ]
  },
  {
   "cell_type": "code",
   "execution_count": 88,
   "metadata": {},
   "outputs": [
    {
     "data": {
      "image/png": "[encoded data removed]",
      "text/plain": [
       "<matplotlib.figure.Figure at 0x1db9095c828>"
      ]
     },
     "metadata": {},
     "output_type": "display_data"
    }
   ],
   "source": [
    "#Explore the LTV Data\n",
    "_ = sns.boxplot(y = 'ORDER_VALUE', data=buyers_df2)\n",
    "_ = plt.ylabel('LTV')\n",
    "_ = plt.title('LTV without Outliers')\n",
    "plt.show()"
   ]
  },
  {
   "cell_type": "code",
   "execution_count": 89,
   "metadata": {},
   "outputs": [
    {
     "data": {
      "image/png": "[encoded data removed]",
      "text/plain": [
       "<matplotlib.figure.Figure at 0x1db829a7d68>"
      ]
     },
     "metadata": {},
     "output_type": "display_data"
    }
   ],
   "source": [
    "#Create a histogram to visualize the dataset\n",
    "sns.set()\n",
    "_ = plt.hist(buyers_df2['ORDER_VALUE'])\n",
    "_ = plt.title('Histogram of LTV Without Outliers')\n",
    "_ = plt.xlabel('LTV ($)')\n",
    "_ = plt.ylabel('Count')\n",
    "\n",
    "plt.show()"
   ]
  },
  {
   "cell_type": "code",
   "execution_count": 90,
   "metadata": {},
   "outputs": [
    {
     "data": {
      "image/png": "[encoded data removed]",
      "text/plain": [
       "<matplotlib.figure.Figure at 0x1db9ca6f5f8>"
      ]
     },
     "metadata": {},
     "output_type": "display_data"
    }
   ],
   "source": [
    "#Create a histogram to visualize LTV using the log\n",
    "_ = plt.hist(np.log(buyers_df2['ORDER_VALUE']), color='b')\n",
    "_ = plt.xlabel('LTV')\n",
    "_ = plt.ylabel('Count')\n",
    "_ = plt.title('Histogram of LTV Without Outliers Utilizing the Log')\n",
    "plt.show()"
   ]
  },
  {
   "cell_type": "code",
   "execution_count": 91,
   "metadata": {},
   "outputs": [
    {
     "data": {
      "image/png": "[encoded data removed]",
      "text/plain": [
       "<matplotlib.figure.Figure at 0x1db8e3ff860>"
      ]
     },
     "metadata": {},
     "output_type": "display_data"
    }
   ],
   "source": [
    "np.random.seed(42)\n",
    "\n",
    "tau = np.mean(buyers_df2['ORDER_VALUE'])\n",
    "\n",
    "#Draw out of an exponential distribution with parameter tau: LTV\n",
    "\n",
    "inter_revenue = np.random.exponential(tau, 100000)\n",
    "\n",
    "_ = plt.hist(inter_revenue, bins = 50, normed=True, histtype = 'step')\n",
    "_ = plt.ylabel('PDF')\n",
    "_ = plt.title('LTV PDF')\n",
    "plt.show()"
   ]
  },
  {
   "cell_type": "code",
   "execution_count": 92,
   "metadata": {},
   "outputs": [
    {
     "data": {
      "image/png": "[encoded data removed]",
      "text/plain": [
       "<matplotlib.figure.Figure at 0x1db9ad968d0>"
      ]
     },
     "metadata": {},
     "output_type": "display_data"
    }
   ],
   "source": [
    "#Compute the ECDF for LTV Data:\n",
    "ltv_mean = np.mean(buyers_df2['ORDER_VALUE'])\n",
    "ltv_std = np.std(buyers_df2['ORDER_VALUE'])\n",
    "\n",
    "def ecdf(data):\n",
    "    n = len(data)\n",
    "    x = np.sort(data)\n",
    "    y = np.arange(1.0, n+1.0) / n\n",
    "    return x, y\n",
    "\n",
    "#Create the samples\n",
    "samples = np.random.normal(ltv_mean, ltv_std, size=10000)\n",
    "\n",
    "#Calculate the ECDF of the data and the samples\n",
    "x_rev, y_rev = ecdf(buyers_df2['ORDER_VALUE'])\n",
    "x_theor, y_theor = ecdf(samples)\n",
    "\n",
    "#Graph the ECDF of the data and the samples\n",
    "_ = plt.plot(x_theor, y_theor)\n",
    "_ = plt.plot(x_rev, y_rev, marker ='.', linestyle= 'none')\n",
    "_ = plt.margins(0.02)\n",
    "_ = plt.xlabel('LTV')\n",
    "_ = plt.ylabel('CDF')\n",
    "_ = plt.title('ECDF & CDF LTV')\n",
    "_ = plt.legend(('CDF', 'ECDF'), loc='upper left')\n",
    "plt.show()"
   ]
  },
  {
   "cell_type": "code",
   "execution_count": 93,
   "metadata": {},
   "outputs": [
    {
     "data": {
      "text/plain": [
       "count    471377.000000\n",
       "mean          1.637886\n",
       "std           1.140078\n",
       "min           1.000000\n",
       "25%           1.000000\n",
       "50%           1.000000\n",
       "75%           2.000000\n",
       "max          21.000000\n",
       "Name: Frequency, dtype: float64"
      ]
     },
     "execution_count": 93,
     "metadata": {},
     "output_type": "execute_result"
    }
   ],
   "source": [
    "buyers_df2.Frequency.describe()"
   ]
  },
  {
   "cell_type": "code",
   "execution_count": 94,
   "metadata": {},
   "outputs": [
    {
     "data": {
      "image/png": "[encoded data removed]",
      "text/plain": [
       "<matplotlib.figure.Figure at 0x1db9ad961d0>"
      ]
     },
     "metadata": {},
     "output_type": "display_data"
    }
   ],
   "source": [
    "#Explore the Frequency Data\n",
    "_ = sns.boxplot(y = 'Frequency', data=buyers_df2)\n",
    "_ = plt.ylabel('Frequency')\n",
    "_ = plt.title('Purchase Frequency')\n",
    "plt.show()"
   ]
  },
  {
   "cell_type": "code",
   "execution_count": 95,
   "metadata": {},
   "outputs": [
    {
     "data": {
      "image/png": "[encoded data removed]",
      "text/plain": [
       "<matplotlib.figure.Figure at 0x1db9eb1a4e0>"
      ]
     },
     "metadata": {},
     "output_type": "display_data"
    }
   ],
   "source": [
    "#Create a histogram to visualize the dataset\n",
    "sns.set()\n",
    "_ = plt.hist(buyers_df2['Frequency'])\n",
    "_ = plt.title('Histogram of Order Frequency Without Outliers')\n",
    "_ = plt.xlabel('Frequency')\n",
    "_ = plt.ylabel('Count')\n",
    "\n",
    "plt.show()"
   ]
  },
  {
   "cell_type": "code",
   "execution_count": 96,
   "metadata": {},
   "outputs": [
    {
     "name": "stdout",
     "output_type": "stream",
     "text": [
      "Percentage of Purchasers that Are Single Buyers: 64.16%\n",
      "Percentage of Purchasers that Are Single Buyers: 21.03%\n",
      "Percentage of Purchasers that Have Purchased 3 - 9 times : 14.72%\n",
      "Percentage of Purchasers that Have Purchased 10+ times : 0.09%\n"
     ]
    }
   ],
   "source": [
    "#Frequency stats\n",
    "singleorderers = buyers_df2.loc[buyers_df2['Frequency'] == 1]\n",
    "twoorderers = buyers_df2.loc[buyers_df2['Frequency'] == 2]\n",
    "midfrequency = buyers_df2.loc[(buyers_df2['Frequency'] > 2) & (buyers_df2['Frequency'] < 10)]\n",
    "highfrequency = buyers_df2.loc[buyers_df2['Frequency'] >= 10]\n",
    "\n",
    "print('Percentage of Purchasers that Are Single Buyers:',\"{:.2%}\".format(len(singleorderers)/len(buyers_df2)))\n",
    "print('Percentage of Purchasers that Are Single Buyers:',\"{:.2%}\".format(len(twoorderers)/len(buyers_df2)))\n",
    "print('Percentage of Purchasers that Have Purchased 3 - 9 times :',\"{:.2%}\".format(len(midfrequency)/len(buyers_df2)))\n",
    "print('Percentage of Purchasers that Have Purchased 10+ times :',\"{:.2%}\".format(len(highfrequency)/len(buyers_df2)))"
   ]
  },
  {
   "cell_type": "code",
   "execution_count": 97,
   "metadata": {},
   "outputs": [
    {
     "data": {
      "image/png": "[encoded data removed]",
      "text/plain": [
       "<matplotlib.figure.Figure at 0x1db8dc88a58>"
      ]
     },
     "metadata": {},
     "output_type": "display_data"
    }
   ],
   "source": [
    "#Dig deeper into single purchasers\n",
    "sns.set()\n",
    "_ = plt.hist(singleorderers['Purch_Recency'])\n",
    "_ = plt.title('Histogram of Purchase Recency (in days) of Single Orderers')\n",
    "_ = plt.xlabel('Recency')\n",
    "_ = plt.ylabel('Count')\n",
    "\n",
    "plt.show()"
   ]
  },
  {
   "cell_type": "code",
   "execution_count": 98,
   "metadata": {},
   "outputs": [
    {
     "name": "stdout",
     "output_type": "stream",
     "text": [
      "Percentage of Single Orderers Whose Most Recent Purchase 365 days or less (1 year): 24.51%\n"
     ]
    }
   ],
   "source": [
    "#Dig deeper into single purchasers\n",
    "single_1year = (singleorderers['SubscriberID'][(singleorderers['Purch_Recency'] <= 365)]).count()\n",
    "print('Percentage of Single Orderers Whose Most Recent Purchase 365 days or less (1 year):', \"{:.2%}\".format(single_1year/(len(singleorderers))))"
   ]
  },
  {
   "cell_type": "code",
   "execution_count": 99,
   "metadata": {},
   "outputs": [
    {
     "data": {
      "text/plain": [
       "count    471377.000000\n",
       "mean        853.235837\n",
       "std         562.310197\n",
       "min           0.000000\n",
       "25%         317.000000\n",
       "50%         851.000000\n",
       "75%        1355.000000\n",
       "max        2227.000000\n",
       "Name: Purch_Recency, dtype: float64"
      ]
     },
     "execution_count": 99,
     "metadata": {},
     "output_type": "execute_result"
    }
   ],
   "source": [
    "buyers_df2.Purch_Recency.describe()"
   ]
  },
  {
   "cell_type": "code",
   "execution_count": 100,
   "metadata": {},
   "outputs": [
    {
     "data": {
      "image/png": "[encoded data removed]",
      "text/plain": [
       "<matplotlib.figure.Figure at 0x1db88c8f208>"
      ]
     },
     "metadata": {},
     "output_type": "display_data"
    }
   ],
   "source": [
    "#Create a histogram to visualize the dataset\n",
    "sns.set()\n",
    "_ = plt.hist(buyers_df2['Purch_Recency'])\n",
    "_ = plt.title('Histogram of Purchase Recency (in days) Without Outliers')\n",
    "_ = plt.xlabel('Recency')\n",
    "_ = plt.ylabel('Count')\n",
    "\n",
    "plt.show()"
   ]
  },
  {
   "cell_type": "code",
   "execution_count": 101,
   "metadata": {},
   "outputs": [
    {
     "name": "stdout",
     "output_type": "stream",
     "text": [
      "RECENCY BREAKDOWN\n",
      "\n",
      "Percentage of Buyers Most Recent Purchase 365 days or less (1 year): 28.47%\n",
      "Percentage of Buyers Most Recent Purchase 366 to 731 days (2 years): 15.95%\n",
      "Percentage of Buyers Most Recent Purchase 732 to 1,096 days (3 years): 13.71%\n",
      "Percentage of Buyers Most Recent Purchase 1,097 to 1,461 days (4 years): 22.62%\n",
      "Percentage of Buyers Most Recent Purchase 1,462 to 1,826 days (5 years): 17.70%\n",
      "Percentage of Buyers Most Recent Purchase 1,827+ days (6+ years): 1.56%\n"
     ]
    }
   ],
   "source": [
    "one_year = (buyers_df2['SubscriberID'][(buyers_df2['Purch_Recency'] <= 365)]).count()\n",
    "two_year = (buyers_df2['SubscriberID'][(buyers_df2['Purch_Recency'] > 365) & (buyers_df2['Purch_Recency'] <= 731)]).count()\n",
    "three_year = (buyers_df2['SubscriberID'][(buyers_df2['Purch_Recency'] > 731) & (buyers_df2['Purch_Recency'] <= 1096)]).count()\n",
    "four_year = (buyers_df2['SubscriberID'][(buyers_df2['Purch_Recency'] > 1096) & (buyers_df2['Purch_Recency'] <= 1461)]).count()\n",
    "five_year = (buyers_df2['SubscriberID'][(buyers_df2['Purch_Recency'] > 1461) & (buyers_df2['Purch_Recency'] <= 1826)]).count()\n",
    "sixplus_year = (buyers_df2['SubscriberID'][buyers_df2['Purch_Recency'] > 1826]).count()\n",
    "\n",
    "total_recency = one_year + two_year + three_year + four_year + five_year + sixplus_year\n",
    "\n",
    "num_subs = len(buyers_df2)\n",
    "print('RECENCY BREAKDOWN\\n')\n",
    "print('Percentage of Buyers Most Recent Purchase 365 days or less (1 year):', \"{:.2%}\".format(one_year/num_subs))\n",
    "print('Percentage of Buyers Most Recent Purchase 366 to 731 days (2 years):', \"{:.2%}\".format(two_year/num_subs))\n",
    "print('Percentage of Buyers Most Recent Purchase 732 to 1,096 days (3 years):', \"{:.2%}\".format(three_year/num_subs))\n",
    "print('Percentage of Buyers Most Recent Purchase 1,097 to 1,461 days (4 years):', \"{:.2%}\".format(four_year/num_subs))\n",
    "print('Percentage of Buyers Most Recent Purchase 1,462 to 1,826 days (5 years):', \"{:.2%}\".format(five_year/num_subs))\n",
    "print('Percentage of Buyers Most Recent Purchase 1,827+ days (6+ years):', \"{:.2%}\".format(sixplus_year/num_subs))"
   ]
  },
  {
   "cell_type": "code",
   "execution_count": 102,
   "metadata": {},
   "outputs": [
    {
     "data": {
      "image/png": "[encoded data removed]",
      "text/plain": [
       "<matplotlib.figure.Figure at 0x1db969db048>"
      ]
     },
     "metadata": {},
     "output_type": "display_data"
    }
   ],
   "source": [
    "#Graph the yearly recency counts\n",
    "objects = ('1 yr', '2 yr', '3 yr', '4 yr', '5 yr', '6+ yr')\n",
    "y_pos = np.arange(len(objects))\n",
    "sums = [one_year, two_year, three_year, four_year, five_year, sixplus_year]\n",
    "\n",
    "_ = plt.bar(y_pos, sums, align='center', alpha=0.5)\n",
    "_ = plt.xticks(y_pos, objects, rotation=90)\n",
    "_ = plt.ylabel('Counts')\n",
    "_ = plt.title('Counts of Buyers by Purchase Recency')\n",
    "plt.show()"
   ]
  },
  {
   "cell_type": "code",
   "execution_count": 103,
   "metadata": {},
   "outputs": [
    {
     "data": {
      "text/plain": [
       "count    471377.000000\n",
       "mean         69.961742\n",
       "std          44.293702\n",
       "min           9.990000\n",
       "25%          39.160000\n",
       "50%          56.910000\n",
       "75%          89.000000\n",
       "max         519.540000\n",
       "Name: AOV, dtype: float64"
      ]
     },
     "execution_count": 103,
     "metadata": {},
     "output_type": "execute_result"
    }
   ],
   "source": [
    "buyers_df2.AOV.describe()"
   ]
  },
  {
   "cell_type": "code",
   "execution_count": 104,
   "metadata": {},
   "outputs": [
    {
     "data": {
      "image/png": "[encoded data removed]",
      "text/plain": [
       "<matplotlib.figure.Figure at 0x1db8cf57128>"
      ]
     },
     "metadata": {},
     "output_type": "display_data"
    }
   ],
   "source": [
    "#Explore the AOV Data\n",
    "_ = sns.boxplot(y = 'AOV', data=buyers_df2)\n",
    "_ = plt.ylabel('AOV ($)')\n",
    "_ = plt.title('Subscriber AOV ($)')\n",
    "plt.show()"
   ]
  },
  {
   "cell_type": "code",
   "execution_count": 105,
   "metadata": {},
   "outputs": [
    {
     "data": {
      "image/png": "[encoded data removed]",
      "text/plain": [
       "<matplotlib.figure.Figure at 0x1db95eb1438>"
      ]
     },
     "metadata": {},
     "output_type": "display_data"
    }
   ],
   "source": [
    "#Create a histogram to visualize the dataset\n",
    "sns.set()\n",
    "_ = plt.hist(buyers_df2['AOV'])\n",
    "_ = plt.title('Histogram of AOV Without Outliers')\n",
    "_ = plt.xlabel('AOV')\n",
    "_ = plt.ylabel('Count')\n",
    "\n",
    "plt.show()"
   ]
  },
  {
   "cell_type": "code",
   "execution_count": 106,
   "metadata": {},
   "outputs": [
    {
     "data": {
      "text/plain": [
       "count    471377.000000\n",
       "mean          2.339251\n",
       "std           1.387407\n",
       "min           1.000000\n",
       "25%           1.250000\n",
       "50%           2.000000\n",
       "75%           3.000000\n",
       "max          30.000000\n",
       "Name: UPT, dtype: float64"
      ]
     },
     "execution_count": 106,
     "metadata": {},
     "output_type": "execute_result"
    }
   ],
   "source": [
    "buyers_df2.UPT.describe()"
   ]
  },
  {
   "cell_type": "code",
   "execution_count": 107,
   "metadata": {},
   "outputs": [
    {
     "data": {
      "image/png": "[encoded data removed]",
      "text/plain": [
       "<matplotlib.figure.Figure at 0x1db9edc6b70>"
      ]
     },
     "metadata": {},
     "output_type": "display_data"
    }
   ],
   "source": [
    "#Explore the UPT Data\n",
    "_ = sns.boxplot(y = 'UPT', data=buyers_df2)\n",
    "_ = plt.ylabel('UPT')\n",
    "_ = plt.title('Subscriber UPT')\n",
    "plt.show()"
   ]
  },
  {
   "cell_type": "code",
   "execution_count": 108,
   "metadata": {},
   "outputs": [
    {
     "data": {
      "image/png": "[encoded data removed]",
      "text/plain": [
       "<matplotlib.figure.Figure at 0x1db8c8beda0>"
      ]
     },
     "metadata": {},
     "output_type": "display_data"
    }
   ],
   "source": [
    "#Create a histogram to visualize the dataset\n",
    "sns.set()\n",
    "_ = plt.hist(buyers_df2['UPT'])\n",
    "_ = plt.title('Histogram of UPT Without Outliers')\n",
    "_ = plt.xlabel('UPT')\n",
    "_ = plt.ylabel('Count')\n",
    "\n",
    "plt.show()"
   ]
  },
  {
   "cell_type": "code",
   "execution_count": 109,
   "metadata": {},
   "outputs": [
    {
     "name": "stdout",
     "output_type": "stream",
     "text": [
      "EMAIL STATUS\n",
      "\n",
      "Percentage of Purchasers with Active Status on Email list: 96.50%\n",
      "Percentage of Purchasers with Held Status on Email list: 1.54%\n",
      "Percentage of Purchasers with Bounced Status on Email list: 0.62%\n",
      "Percentage of Purchasers Not Subscribed to Email list: 1.33%\n"
     ]
    }
   ],
   "source": [
    "#Understand how many buyers are active on the email list (meaning have an active status regardless of engagement)\n",
    "print('EMAIL STATUS\\n')\n",
    "print('Percentage of Purchasers with Active Status on Email list:', \n",
    "      \"{:.2%}\".format(buyers_df2['Email Active'].value_counts()[1]/len(buyers_df2)))\n",
    "print('Percentage of Purchasers with Held Status on Email list:', \n",
    "      \"{:.2%}\".format(buyers_df2['Email Held'].value_counts()[1]/len(buyers_df2)))\n",
    "print('Percentage of Purchasers with Bounced Status on Email list:', \n",
    "      \"{:.2%}\".format(buyers_df2['Email Bounced'].value_counts()[1]/len(buyers_df2)))\n",
    "print('Percentage of Purchasers Not Subscribed to Email list:', \n",
    "      \"{:.2%}\".format(buyers_df2['Email Not Subscribed'].value_counts()[1]/len(buyers_df2)))"
   ]
  },
  {
   "cell_type": "code",
   "execution_count": 110,
   "metadata": {},
   "outputs": [
    {
     "data": {
      "image/png": "[encoded data removed]",
      "text/plain": [
       "<matplotlib.figure.Figure at 0x1dbedbade48>"
      ]
     },
     "metadata": {},
     "output_type": "display_data"
    }
   ],
   "source": [
    "#Dig into the Product Size Categories\n",
    "adult = buyers_df2['Adult'].sum()\n",
    "mbt = buyers_df2['Mens Big & Tall'].sum()\n",
    "misses = buyers_df2['Misses'].sum()\n",
    "nosize = buyers_df2['No Size'].sum()\n",
    "plus = buyers_df2['Plus'].sum()\n",
    "reg = buyers_df2['Regular'].sum()\n",
    "kids = buyers_df2['Kids'].sum()\n",
    "mreg = buyers_df2['Mens Regular'].sum()\n",
    "\n",
    "objects = ('Adult', 'Mens B&T', 'Misses', 'No Size', 'Plus', 'Regular','Kids', 'Mens Regular')\n",
    "y_pos = np.arange(len(objects))\n",
    "sums = [adult, mbt, misses, nosize, plus, reg, kids, mreg]\n",
    "\n",
    "_ = plt.bar(y_pos, sums, align='center', alpha=0.5)\n",
    "_ = plt.xticks(y_pos, objects, rotation=90)\n",
    "_ = plt.ylabel('Sums')\n",
    "_ = plt.title('Sum of Products Purchased by Size Grouping')\n",
    "plt.show()"
   ]
  },
  {
   "cell_type": "code",
   "execution_count": 111,
   "metadata": {},
   "outputs": [
    {
     "name": "stdout",
     "output_type": "stream",
     "text": [
      "1771703.0\n",
      "1771703.0\n",
      "Percentage or Products Purchased in Mens Regular: 72.824000%\n"
     ]
    }
   ],
   "source": [
    "total_prods = adult + mbt + misses + nosize + plus + reg + kids + mreg\n",
    "order_prod_qty = buyers_df2['ORDER_PRODUCT_QTY'].sum()\n",
    "print(total_prods)\n",
    "print(order_prod_qty)\n",
    "print('Percentage or Products Purchased in Mens Regular:', \"{0:2%}\".format(mreg/total_prods))"
   ]
  },
  {
   "cell_type": "code",
   "execution_count": 112,
   "metadata": {},
   "outputs": [
    {
     "data": {
      "image/png": "[encoded data removed]",
      "text/plain": [
       "<matplotlib.figure.Figure at 0x1db8d1474a8>"
      ]
     },
     "metadata": {},
     "output_type": "display_data"
    }
   ],
   "source": [
    "#Dig into the Product Department\n",
    "boys = buyers_df2['PD Boys'].sum()\n",
    "girls = buyers_df2['PD Girls'].sum()\n",
    "men = buyers_df2['PD Men'].sum()\n",
    "unisex = buyers_df2['PD Unisex'].sum()\n",
    "women = buyers_df2['PD Women'].sum()\n",
    "nodept = buyers_df2['No Dept'].sum()\n",
    "\n",
    "objects2 = ('Boys', 'Girls', 'Men', 'Unisex', 'Women', 'No Dept')\n",
    "y_pos2 = np.arange(len(objects2))\n",
    "sums2 = [boys, girls, men, unisex, women, nodept]\n",
    "\n",
    "_ = plt.bar(y_pos2, sums2, align='center', alpha=0.5)\n",
    "_ = plt.xticks(y_pos2, objects2, rotation=90)\n",
    "_ = plt.ylabel('Sums')\n",
    "_ = plt.title('Sum of Products Purchased by Product Deptartment')\n",
    "plt.show()"
   ]
  },
  {
   "cell_type": "code",
   "execution_count": 113,
   "metadata": {},
   "outputs": [
    {
     "name": "stdout",
     "output_type": "stream",
     "text": [
      "1771703.0\n",
      "1771703.0\n",
      "Percentage or Products Purchased in Mens Department: 90.798458%\n"
     ]
    }
   ],
   "source": [
    "total_prods2 = boys + girls + men + women + unisex + nodept\n",
    "print(total_prods2)\n",
    "print(order_prod_qty)\n",
    "print('Percentage or Products Purchased in Mens Department:', \"{0:2%}\".format(men/total_prods))"
   ]
  },
  {
   "cell_type": "code",
   "execution_count": 114,
   "metadata": {},
   "outputs": [
    {
     "data": {
      "image/png": "[encoded data removed]",
      "text/plain": [
       "<matplotlib.figure.Figure at 0x1dba083c908>"
      ]
     },
     "metadata": {},
     "output_type": "display_data"
    }
   ],
   "source": [
    "#Dig into the Product Category Data\n",
    "acc = buyers_df2['Category: Accessories'].sum()\n",
    "inftodd = buyers_df2['Category: Infants & Toddlers'].sum()\n",
    "nocat = buyers_df2['No Category'].sum()\n",
    "shirts = buyers_df2['Category: Shirts'].sum()\n",
    "jackets = buyers_df2['Category: Jackets/Outerwear'].sum()\n",
    "dresses = buyers_df2['Category: Dresses/Skirts/Bodysuits/Rompers'].sum()\n",
    "jeanspants = buyers_df2['Category: Jeans/Pants/Overalls/Shorts'].sum()\n",
    "\n",
    "objects3 = ('Accessories', 'Infants/Toddlers', 'No Category', 'Shirts', 'Jackets/Outerwear', 'Dresses/etc', 'Jeans/Pants/Overalls/Shorts')\n",
    "y_pos3 = np.arange(len(objects3))\n",
    "sums3 = [acc, inftodd, nocat, shirts, jackets, dresses, jeanspants]\n",
    "\n",
    "_ = plt.bar(y_pos3, sums3, align='center', alpha=0.5)\n",
    "_ = plt.xticks(y_pos3, objects3, rotation=90)\n",
    "_ = plt.ylabel('Sums')\n",
    "_ = plt.title('Sum of Products Purchased by Product Category')\n",
    "plt.show()\n"
   ]
  },
  {
   "cell_type": "code",
   "execution_count": 115,
   "metadata": {},
   "outputs": [
    {
     "name": "stdout",
     "output_type": "stream",
     "text": [
      "1771703.0\n",
      "1771703.0\n",
      "Percentage or Products Purchased in Jeans/Pants/Overalls/Shorts: 87.762509%\n"
     ]
    }
   ],
   "source": [
    "total_prods3 = acc + inftodd + nocat + shirts + jackets + dresses + jeanspants\n",
    "print(total_prods3)\n",
    "print(order_prod_qty)\n",
    "print('Percentage or Products Purchased in Jeans/Pants/Overalls/Shorts:', \"{0:2%}\".format(jeanspants/total_prods))"
   ]
  },
  {
   "cell_type": "code",
   "execution_count": 121,
   "metadata": {},
   "outputs": [
    {
     "data": {
      "image/png": "[encoded data removed]",
      "text/plain": [
       "<matplotlib.figure.Figure at 0x1db9cc64438>"
      ]
     },
     "metadata": {},
     "output_type": "display_data"
    }
   ],
   "source": [
    "#Dig into the Product Category Data\n",
    "jc = buyers_df2['Brand JC'].sum()\n",
    "pg = buyers_df2['Brand PG'].sum()\n",
    "rw = buyers_df2['Brand RW'].sum()\n",
    "br = buyers_df2['Brand Reg'].sum()\n",
    "ac = buyers_df2['Brand AC'].sum()\n",
    "fs = buyers_df2['Brand FS'].sum()\n",
    "ow = buyers_df2['Brand OW'].sum()\n",
    "rgs = buyers_df2['Brand R'].sum()\n",
    "gen = buyers_df2['Brand Gen'].sum()\n",
    "nb = buyers_df2['No Brand'].sum()\n",
    "tc = buyers_df2['Brand TC'].sum()\n",
    "we = buyers_df2['Brand W'].sum()\n",
    "\n",
    "objects4 = ('Brand JC', 'Brand PG', 'Brand RW', 'Brand Reg', 'Brand AC', 'Brand FS', 'Brand OW', 'Brand R', 'Brand Gen', 'No Brand', 'Brand TC', 'Brand W')\n",
    "y_pos4 = np.arange(len(objects4))\n",
    "sums4 = [jc, pg, rw, br, ac, fs, ow, rgs, gen, nb, tc, we]\n",
    "\n",
    "_ = plt.bar(y_pos4, sums4, align='center', alpha=0.5)\n",
    "_ = plt.xticks(y_pos4, objects4, rotation=90)\n",
    "_ = plt.ylabel('Sums')\n",
    "_ = plt.title('Sum of Products Purchased by Product Brand')\n",
    "plt.show()\n"
   ]
  },
  {
   "cell_type": "code",
   "execution_count": 122,
   "metadata": {},
   "outputs": [
    {
     "name": "stdout",
     "output_type": "stream",
     "text": [
      "1771703.0\n",
      "1771703.0\n",
      "Percentage or Products Purchased Brand W: 37.028102%\n"
     ]
    }
   ],
   "source": [
    "total_prods4 = jc + pg + rw + br + ac + fs + ow + rgs + gen + nb + tc + we\n",
    "print(total_prods4)\n",
    "print(order_prod_qty)\n",
    "print('Percentage or Products Purchased Brand W:', \"{0:2%}\".format(west/total_prods))"
   ]
  },
  {
   "cell_type": "code",
   "execution_count": 119,
   "metadata": {
    "collapsed": true
   },
   "outputs": [],
   "source": [
    "buyers_df2.to_csv(r'C:\\Users\\jrenaud\\Documents\\Springboard\\Project 2\\Data Outputs\\\\buyers_df2.csv')"
   ]
  }
 ],
 "metadata": {
  "kernelspec": {
   "display_name": "Python 3",
   "language": "python",
   "name": "python3"
  },
  "language_info": {
   "codemirror_mode": {
    "name": "ipython",
    "version": 3
   },
   "file_extension": ".py",
   "mimetype": "text/x-python",
   "name": "python",
   "nbconvert_exporter": "python",
   "pygments_lexer": "ipython3",
   "version": "3.6.3"
  }
 },
 "nbformat": 4,
 "nbformat_minor": 2
}
