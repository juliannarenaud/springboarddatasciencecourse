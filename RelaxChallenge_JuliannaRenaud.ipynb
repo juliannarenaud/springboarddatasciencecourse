{
 "cells": [
  {
   "cell_type": "code",
   "execution_count": 1,
   "metadata": {},
   "outputs": [
    {
     "name": "stdout",
     "output_type": "stream",
     "text": [
      "            time_stamp  user_id  visited\n",
      "0  2014-04-22 03:53:30        1        1\n",
      "1  2013-11-15 03:45:04        2        1\n",
      "2  2013-11-29 03:45:04        2        1\n",
      "3  2013-12-09 03:45:04        2        1\n",
      "4  2013-12-25 03:45:04        2        1\n",
      "   object_id        creation_time               name  \\\n",
      "0          1  2014-04-22 03:53:30     Clausen August   \n",
      "1          2  2013-11-15 03:45:04      Poole Matthew   \n",
      "2          3  2013-03-19 23:14:52  Bottrill Mitchell   \n",
      "3          4  2013-05-21 08:09:28    Clausen Nicklas   \n",
      "4          5  2013-01-17 10:14:20          Raw Grace   \n",
      "\n",
      "                        email creation_source  last_session_creation_time  \\\n",
      "0    AugustCClausen@yahoo.com    GUEST_INVITE                1.398139e+09   \n",
      "1      MatthewPoole@gustr.com      ORG_INVITE                1.396238e+09   \n",
      "2  MitchellBottrill@gustr.com      ORG_INVITE                1.363735e+09   \n",
      "3   NicklasSClausen@yahoo.com    GUEST_INVITE                1.369210e+09   \n",
      "4          GraceRaw@yahoo.com    GUEST_INVITE                1.358850e+09   \n",
      "\n",
      "   opted_in_to_mailing_list  enabled_for_marketing_drip  org_id  \\\n",
      "0                         1                           0      11   \n",
      "1                         0                           0       1   \n",
      "2                         0                           0      94   \n",
      "3                         0                           0       1   \n",
      "4                         0                           0     193   \n",
      "\n",
      "   invited_by_user_id  \n",
      "0             10803.0  \n",
      "1               316.0  \n",
      "2              1525.0  \n",
      "3              5151.0  \n",
      "4              5240.0  \n"
     ]
    }
   ],
   "source": [
    "import pandas as pd\n",
    "from datetime import datetime\n",
    "import numpy as np\n",
    "\n",
    "#Assign each file a variable name\n",
    "file1 = 'takehome_user_engagement.csv'\n",
    "file2 = 'takehome_users.csv'\n",
    "\n",
    "#Import each file\n",
    "user_engagement_df = pd.read_csv(file1)\n",
    "users_df = pd.read_csv(file2, encoding= \"ISO-8859-1\")\n",
    "\n",
    "print(user_engagement_df.head())\n",
    "print(users_df.head())\n"
   ]
  },
  {
   "cell_type": "code",
   "execution_count": 2,
   "metadata": {},
   "outputs": [
    {
     "name": "stdout",
     "output_type": "stream",
     "text": [
      "<class 'pandas.core.frame.DataFrame'>\n",
      "RangeIndex: 12000 entries, 0 to 11999\n",
      "Data columns (total 10 columns):\n",
      "object_id                     12000 non-null int64\n",
      "creation_time                 12000 non-null object\n",
      "name                          12000 non-null object\n",
      "email                         12000 non-null object\n",
      "creation_source               12000 non-null object\n",
      "last_session_creation_time    8823 non-null float64\n",
      "opted_in_to_mailing_list      12000 non-null int64\n",
      "enabled_for_marketing_drip    12000 non-null int64\n",
      "org_id                        12000 non-null int64\n",
      "invited_by_user_id            6417 non-null float64\n",
      "dtypes: float64(2), int64(4), object(4)\n",
      "memory usage: 937.6+ KB\n",
      "None\n"
     ]
    }
   ],
   "source": [
    "print(users_df.info())"
   ]
  },
  {
   "cell_type": "code",
   "execution_count": 3,
   "metadata": {},
   "outputs": [
    {
     "name": "stdout",
     "output_type": "stream",
     "text": [
      "<class 'pandas.core.frame.DataFrame'>\n",
      "RangeIndex: 12000 entries, 0 to 11999\n",
      "Data columns (total 10 columns):\n",
      "object_id                     12000 non-null int64\n",
      "creation_time                 12000 non-null object\n",
      "name                          12000 non-null object\n",
      "email                         12000 non-null object\n",
      "creation_source               12000 non-null object\n",
      "last_session_creation_time    8823 non-null float64\n",
      "opted_in_to_mailing_list      12000 non-null int64\n",
      "enabled_for_marketing_drip    12000 non-null int64\n",
      "org_id                        12000 non-null int64\n",
      "invited_by_user_id            12000 non-null float64\n",
      "dtypes: float64(2), int64(4), object(4)\n",
      "memory usage: 937.6+ KB\n"
     ]
    }
   ],
   "source": [
    "#Fill the NAs for Invited by User_ID\n",
    "users_df['invited_by_user_id'] = users_df['invited_by_user_id'].fillna(0)\n",
    "\n",
    "users_df.info()"
   ]
  },
  {
   "cell_type": "code",
   "execution_count": 4,
   "metadata": {},
   "outputs": [
    {
     "name": "stdout",
     "output_type": "stream",
     "text": [
      "<class 'pandas.core.frame.DataFrame'>\n",
      "RangeIndex: 12000 entries, 0 to 11999\n",
      "Data columns (total 10 columns):\n",
      "object_id                     12000 non-null int64\n",
      "creation_time                 12000 non-null datetime64[ns]\n",
      "name                          12000 non-null object\n",
      "email                         12000 non-null object\n",
      "creation_source               12000 non-null object\n",
      "last_session_creation_time    8823 non-null float64\n",
      "opted_in_to_mailing_list      12000 non-null int64\n",
      "enabled_for_marketing_drip    12000 non-null int64\n",
      "org_id                        12000 non-null int64\n",
      "invited_by_user_id            12000 non-null float64\n",
      "dtypes: datetime64[ns](1), float64(2), int64(4), object(3)\n",
      "memory usage: 937.6+ KB\n"
     ]
    }
   ],
   "source": [
    "#Update the datetime columns\n",
    "users_df['creation_time'] = pd.to_datetime(users_df['creation_time'], format='%Y-%m-%d %H:%M:%S')\n",
    "users_df.info()"
   ]
  },
  {
   "cell_type": "code",
   "execution_count": 5,
   "metadata": {
    "collapsed": true
   },
   "outputs": [],
   "source": [
    "users_df['last_session_creation_time'] = pd.to_datetime(users_df['last_session_creation_time'], unit='s')"
   ]
  },
  {
   "cell_type": "code",
   "execution_count": 6,
   "metadata": {},
   "outputs": [
    {
     "name": "stdout",
     "output_type": "stream",
     "text": [
      "<class 'pandas.core.frame.DataFrame'>\n",
      "RangeIndex: 12000 entries, 0 to 11999\n",
      "Data columns (total 10 columns):\n",
      "object_id                     12000 non-null int64\n",
      "creation_time                 12000 non-null datetime64[ns]\n",
      "name                          12000 non-null object\n",
      "email                         12000 non-null object\n",
      "creation_source               12000 non-null object\n",
      "last_session_creation_time    8823 non-null datetime64[ns]\n",
      "opted_in_to_mailing_list      12000 non-null int64\n",
      "enabled_for_marketing_drip    12000 non-null int64\n",
      "org_id                        12000 non-null int64\n",
      "invited_by_user_id            12000 non-null float64\n",
      "dtypes: datetime64[ns](2), float64(1), int64(4), object(3)\n",
      "memory usage: 937.6+ KB\n"
     ]
    }
   ],
   "source": [
    "users_df.info()"
   ]
  },
  {
   "cell_type": "code",
   "execution_count": 7,
   "metadata": {},
   "outputs": [
    {
     "data": {
      "text/html": [
       "<div>\n",
       "<style>\n",
       "    .dataframe thead tr:only-child th {\n",
       "        text-align: right;\n",
       "    }\n",
       "\n",
       "    .dataframe thead th {\n",
       "        text-align: left;\n",
       "    }\n",
       "\n",
       "    .dataframe tbody tr th {\n",
       "        vertical-align: top;\n",
       "    }\n",
       "</style>\n",
       "<table border=\"1\" class=\"dataframe\">\n",
       "  <thead>\n",
       "    <tr style=\"text-align: right;\">\n",
       "      <th></th>\n",
       "      <th>object_id</th>\n",
       "      <th>creation_time</th>\n",
       "      <th>name</th>\n",
       "      <th>email</th>\n",
       "      <th>creation_source</th>\n",
       "      <th>last_session_creation_time</th>\n",
       "      <th>opted_in_to_mailing_list</th>\n",
       "      <th>enabled_for_marketing_drip</th>\n",
       "      <th>org_id</th>\n",
       "      <th>invited_by_user_id</th>\n",
       "    </tr>\n",
       "  </thead>\n",
       "  <tbody>\n",
       "    <tr>\n",
       "      <th>0</th>\n",
       "      <td>1</td>\n",
       "      <td>2014-04-22 03:53:30</td>\n",
       "      <td>Clausen August</td>\n",
       "      <td>AugustCClausen@yahoo.com</td>\n",
       "      <td>GUEST_INVITE</td>\n",
       "      <td>2014-04-22 03:53:30</td>\n",
       "      <td>1</td>\n",
       "      <td>0</td>\n",
       "      <td>11</td>\n",
       "      <td>10803.0</td>\n",
       "    </tr>\n",
       "    <tr>\n",
       "      <th>1</th>\n",
       "      <td>2</td>\n",
       "      <td>2013-11-15 03:45:04</td>\n",
       "      <td>Poole Matthew</td>\n",
       "      <td>MatthewPoole@gustr.com</td>\n",
       "      <td>ORG_INVITE</td>\n",
       "      <td>2014-03-31 03:45:04</td>\n",
       "      <td>0</td>\n",
       "      <td>0</td>\n",
       "      <td>1</td>\n",
       "      <td>316.0</td>\n",
       "    </tr>\n",
       "    <tr>\n",
       "      <th>2</th>\n",
       "      <td>3</td>\n",
       "      <td>2013-03-19 23:14:52</td>\n",
       "      <td>Bottrill Mitchell</td>\n",
       "      <td>MitchellBottrill@gustr.com</td>\n",
       "      <td>ORG_INVITE</td>\n",
       "      <td>2013-03-19 23:14:52</td>\n",
       "      <td>0</td>\n",
       "      <td>0</td>\n",
       "      <td>94</td>\n",
       "      <td>1525.0</td>\n",
       "    </tr>\n",
       "    <tr>\n",
       "      <th>3</th>\n",
       "      <td>4</td>\n",
       "      <td>2013-05-21 08:09:28</td>\n",
       "      <td>Clausen Nicklas</td>\n",
       "      <td>NicklasSClausen@yahoo.com</td>\n",
       "      <td>GUEST_INVITE</td>\n",
       "      <td>2013-05-22 08:09:28</td>\n",
       "      <td>0</td>\n",
       "      <td>0</td>\n",
       "      <td>1</td>\n",
       "      <td>5151.0</td>\n",
       "    </tr>\n",
       "    <tr>\n",
       "      <th>4</th>\n",
       "      <td>5</td>\n",
       "      <td>2013-01-17 10:14:20</td>\n",
       "      <td>Raw Grace</td>\n",
       "      <td>GraceRaw@yahoo.com</td>\n",
       "      <td>GUEST_INVITE</td>\n",
       "      <td>2013-01-22 10:14:20</td>\n",
       "      <td>0</td>\n",
       "      <td>0</td>\n",
       "      <td>193</td>\n",
       "      <td>5240.0</td>\n",
       "    </tr>\n",
       "  </tbody>\n",
       "</table>\n",
       "</div>"
      ],
      "text/plain": [
       "   object_id       creation_time               name  \\\n",
       "0          1 2014-04-22 03:53:30     Clausen August   \n",
       "1          2 2013-11-15 03:45:04      Poole Matthew   \n",
       "2          3 2013-03-19 23:14:52  Bottrill Mitchell   \n",
       "3          4 2013-05-21 08:09:28    Clausen Nicklas   \n",
       "4          5 2013-01-17 10:14:20          Raw Grace   \n",
       "\n",
       "                        email creation_source last_session_creation_time  \\\n",
       "0    AugustCClausen@yahoo.com    GUEST_INVITE        2014-04-22 03:53:30   \n",
       "1      MatthewPoole@gustr.com      ORG_INVITE        2014-03-31 03:45:04   \n",
       "2  MitchellBottrill@gustr.com      ORG_INVITE        2013-03-19 23:14:52   \n",
       "3   NicklasSClausen@yahoo.com    GUEST_INVITE        2013-05-22 08:09:28   \n",
       "4          GraceRaw@yahoo.com    GUEST_INVITE        2013-01-22 10:14:20   \n",
       "\n",
       "   opted_in_to_mailing_list  enabled_for_marketing_drip  org_id  \\\n",
       "0                         1                           0      11   \n",
       "1                         0                           0       1   \n",
       "2                         0                           0      94   \n",
       "3                         0                           0       1   \n",
       "4                         0                           0     193   \n",
       "\n",
       "   invited_by_user_id  \n",
       "0             10803.0  \n",
       "1               316.0  \n",
       "2              1525.0  \n",
       "3              5151.0  \n",
       "4              5240.0  "
      ]
     },
     "execution_count": 7,
     "metadata": {},
     "output_type": "execute_result"
    }
   ],
   "source": [
    "users_df.head()"
   ]
  },
  {
   "cell_type": "code",
   "execution_count": 8,
   "metadata": {
    "collapsed": true
   },
   "outputs": [],
   "source": [
    "users_df['last_session_creation_time'] = users_df['last_session_creation_time'].fillna(0)"
   ]
  },
  {
   "cell_type": "code",
   "execution_count": 9,
   "metadata": {},
   "outputs": [
    {
     "name": "stdout",
     "output_type": "stream",
     "text": [
      "<class 'pandas.core.frame.DataFrame'>\n",
      "RangeIndex: 12000 entries, 0 to 11999\n",
      "Data columns (total 10 columns):\n",
      "object_id                     12000 non-null int64\n",
      "creation_time                 12000 non-null datetime64[ns]\n",
      "name                          12000 non-null object\n",
      "email                         12000 non-null object\n",
      "creation_source               12000 non-null object\n",
      "last_session_creation_time    12000 non-null datetime64[ns]\n",
      "opted_in_to_mailing_list      12000 non-null int64\n",
      "enabled_for_marketing_drip    12000 non-null int64\n",
      "org_id                        12000 non-null int64\n",
      "invited_by_user_id            12000 non-null float64\n",
      "dtypes: datetime64[ns](2), float64(1), int64(4), object(3)\n",
      "memory usage: 937.6+ KB\n"
     ]
    }
   ],
   "source": [
    "users_df.info()"
   ]
  },
  {
   "cell_type": "code",
   "execution_count": 10,
   "metadata": {},
   "outputs": [
    {
     "name": "stdout",
     "output_type": "stream",
     "text": [
      "<class 'pandas.core.frame.DataFrame'>\n",
      "RangeIndex: 207917 entries, 0 to 207916\n",
      "Data columns (total 3 columns):\n",
      "time_stamp    207917 non-null object\n",
      "user_id       207917 non-null int64\n",
      "visited       207917 non-null int64\n",
      "dtypes: int64(2), object(1)\n",
      "memory usage: 4.8+ MB\n"
     ]
    }
   ],
   "source": [
    "user_engagement_df.info()"
   ]
  },
  {
   "cell_type": "code",
   "execution_count": 11,
   "metadata": {},
   "outputs": [
    {
     "name": "stdout",
     "output_type": "stream",
     "text": [
      "1    207917\n",
      "Name: visited, dtype: int64\n",
      "<class 'pandas.core.frame.DataFrame'>\n",
      "RangeIndex: 207917 entries, 0 to 207916\n",
      "Data columns (total 3 columns):\n",
      "time_stamp    207917 non-null datetime64[ns]\n",
      "user_id       207917 non-null int64\n",
      "visited       207917 non-null int64\n",
      "dtypes: datetime64[ns](1), int64(2)\n",
      "memory usage: 4.8 MB\n",
      "None\n"
     ]
    }
   ],
   "source": [
    "print(user_engagement_df.visited.value_counts())\n",
    "#user_engagement_df.drop(['visited'], axis=1, inplace=True)\n",
    "user_engagement_df['time_stamp'] = pd.to_datetime(user_engagement_df['time_stamp'], format='%Y-%m-%d %H:%M:%S')\n",
    "print(user_engagement_df.info())"
   ]
  },
  {
   "cell_type": "code",
   "execution_count": 12,
   "metadata": {},
   "outputs": [
    {
     "name": "stdout",
     "output_type": "stream",
     "text": [
      "                             visited\n",
      "user_id time_stamp                  \n",
      "1       2014-04-17 08:20:06        1\n",
      "2       2013-11-14 08:20:06        1\n",
      "        2013-11-28 08:20:06        1\n",
      "        2013-12-05 08:20:06        1\n",
      "        2013-12-19 08:20:06        1\n",
      "        2013-12-26 08:20:06        1\n",
      "        2014-01-02 08:20:06        1\n",
      "        2014-01-30 08:20:06        1\n",
      "        2014-02-06 08:20:06        3\n",
      "        2014-02-13 08:20:06        1\n",
      "        2014-03-06 08:20:06        2\n",
      "        2014-03-27 08:20:06        1\n",
      "3       2013-03-14 08:20:06        1\n",
      "4       2013-05-16 08:20:06        1\n",
      "5       2013-01-17 08:20:06        1\n",
      "6       2013-12-12 08:20:06        1\n",
      "7       2012-12-20 08:20:06        1\n",
      "10      2013-01-10 08:20:06        1\n",
      "        2013-01-17 08:20:06        1\n",
      "        2013-01-24 08:20:06        1\n",
      "        2013-01-31 08:20:06        2\n",
      "        2013-02-14 08:20:06        3\n",
      "        2013-02-21 08:20:06        1\n",
      "        2013-02-28 08:20:06        3\n",
      "        2013-03-07 08:20:06        1\n",
      "        2013-03-14 08:20:06        3\n",
      "        2013-03-21 08:20:06        2\n",
      "        2013-04-04 08:20:06        1\n",
      "        2013-04-11 08:20:06        4\n",
      "        2013-04-18 08:20:06        2\n",
      "...                              ...\n",
      "11981   2013-03-28 08:20:06        1\n",
      "11982   2013-12-05 08:20:06        1\n",
      "11983   2013-07-25 08:20:06        1\n",
      "11984   2014-02-06 08:20:06        1\n",
      "11986   2012-06-28 08:20:06        1\n",
      "11987   2013-03-14 08:20:06        1\n",
      "11988   2014-03-13 08:20:06        3\n",
      "        2014-03-20 08:20:06        2\n",
      "        2014-03-27 08:20:06        3\n",
      "        2014-04-03 08:20:06        1\n",
      "        2014-04-10 08:20:06        4\n",
      "        2014-04-24 08:20:06        4\n",
      "        2014-05-01 08:20:06        1\n",
      "        2014-05-08 08:20:06        2\n",
      "        2014-05-15 08:20:06        5\n",
      "        2014-05-22 08:20:06        4\n",
      "        2014-05-29 08:20:06        1\n",
      "11989   2013-09-05 08:20:06        1\n",
      "11990   2013-07-04 08:20:06        1\n",
      "11991   2014-04-17 08:20:06        1\n",
      "        2014-04-24 08:20:06        2\n",
      "        2014-05-15 08:20:06        1\n",
      "        2014-05-29 08:20:06        1\n",
      "11992   2014-04-10 08:20:06        1\n",
      "11995   2013-10-17 08:20:06        1\n",
      "11996   2013-09-05 08:20:06        1\n",
      "11997   2013-01-10 08:20:06        1\n",
      "11998   2014-04-24 08:20:06        1\n",
      "11999   2012-05-31 08:20:06        1\n",
      "12000   2014-01-23 08:20:06        1\n",
      "\n",
      "[68516 rows x 1 columns]\n"
     ]
    }
   ],
   "source": [
    "user_engagement_df['time_stamp'] = pd.to_datetime(user_engagement_df['time_stamp'])\n",
    "user_engagement_grouped = user_engagement_df.groupby(['user_id', pd.Grouper(key='time_stamp', freq = '7D')]).sum()\n",
    "print(user_engagement_grouped)"
   ]
  },
  {
   "cell_type": "code",
   "execution_count": 13,
   "metadata": {},
   "outputs": [
    {
     "name": "stdout",
     "output_type": "stream",
     "text": [
      "<class 'pandas.core.frame.DataFrame'>\n",
      "RangeIndex: 1439 entries, 0 to 1438\n",
      "Data columns (total 3 columns):\n",
      "index      1439 non-null int64\n",
      "user_id    1439 non-null int64\n",
      "adopted    1439 non-null int64\n",
      "dtypes: int64(3)\n",
      "memory usage: 33.8 KB\n",
      "None\n"
     ]
    }
   ],
   "source": [
    "#Identifying users with more than 3 logins in a 7 day window\n",
    "user_engagement_grouped = user_engagement_grouped.loc[user_engagement_grouped['visited']>=3, :].reset_index()\n",
    "user_engagement_grouped['adopted'] = 1\n",
    "user_engagement_grouped = user_engagement_grouped.drop(['time_stamp', 'visited'], axis=1).drop_duplicates().reset_index()\n",
    "print(user_engagement_grouped.info())"
   ]
  },
  {
   "cell_type": "code",
   "execution_count": 14,
   "metadata": {},
   "outputs": [
    {
     "name": "stdout",
     "output_type": "stream",
     "text": [
      "      user_id  adopted\n",
      "0           2        1\n",
      "1          10        1\n",
      "2          42        1\n",
      "3          43        1\n",
      "4          53        1\n",
      "5          63        1\n",
      "6          69        1\n",
      "7          74        1\n",
      "8          81        1\n",
      "9          82        1\n",
      "10         87        1\n",
      "11        133        1\n",
      "12        135        1\n",
      "13        141        1\n",
      "14        146        1\n",
      "15        153        1\n",
      "16        160        1\n",
      "17        165        1\n",
      "18        168        1\n",
      "19        174        1\n",
      "20        185        1\n",
      "21        188        1\n",
      "22        197        1\n",
      "23        200        1\n",
      "24        202        1\n",
      "25        203        1\n",
      "26        209        1\n",
      "27        214        1\n",
      "28        230        1\n",
      "29        245        1\n",
      "...       ...      ...\n",
      "1409    11764        1\n",
      "1410    11769        1\n",
      "1411    11782        1\n",
      "1412    11796        1\n",
      "1413    11801        1\n",
      "1414    11805        1\n",
      "1415    11806        1\n",
      "1416    11823        1\n",
      "1417    11836        1\n",
      "1418    11841        1\n",
      "1419    11857        1\n",
      "1420    11869        1\n",
      "1421    11873        1\n",
      "1422    11885        1\n",
      "1423    11895        1\n",
      "1424    11909        1\n",
      "1425    11913        1\n",
      "1426    11920        1\n",
      "1427    11924        1\n",
      "1428    11939        1\n",
      "1429    11957        1\n",
      "1430    11958        1\n",
      "1431    11959        1\n",
      "1432    11961        1\n",
      "1433    11964        1\n",
      "1434    11965        1\n",
      "1435    11967        1\n",
      "1436    11969        1\n",
      "1437    11975        1\n",
      "1438    11988        1\n",
      "\n",
      "[1439 rows x 2 columns]\n"
     ]
    }
   ],
   "source": [
    "user_engagement_grouped = user_engagement_grouped.drop(['index'], axis=1)\n",
    "print(user_engagement_grouped)"
   ]
  },
  {
   "cell_type": "code",
   "execution_count": 15,
   "metadata": {},
   "outputs": [
    {
     "name": "stdout",
     "output_type": "stream",
     "text": [
      "   object_id       creation_time               name  \\\n",
      "0          1 2014-04-22 03:53:30     Clausen August   \n",
      "1          2 2013-11-15 03:45:04      Poole Matthew   \n",
      "2          3 2013-03-19 23:14:52  Bottrill Mitchell   \n",
      "3          4 2013-05-21 08:09:28    Clausen Nicklas   \n",
      "4          5 2013-01-17 10:14:20          Raw Grace   \n",
      "\n",
      "                        email creation_source last_session_creation_time  \\\n",
      "0    AugustCClausen@yahoo.com    GUEST_INVITE        2014-04-22 03:53:30   \n",
      "1      MatthewPoole@gustr.com      ORG_INVITE        2014-03-31 03:45:04   \n",
      "2  MitchellBottrill@gustr.com      ORG_INVITE        2013-03-19 23:14:52   \n",
      "3   NicklasSClausen@yahoo.com    GUEST_INVITE        2013-05-22 08:09:28   \n",
      "4          GraceRaw@yahoo.com    GUEST_INVITE        2013-01-22 10:14:20   \n",
      "\n",
      "   opted_in_to_mailing_list  enabled_for_marketing_drip  org_id  \\\n",
      "0                         1                           0      11   \n",
      "1                         0                           0       1   \n",
      "2                         0                           0      94   \n",
      "3                         0                           0       1   \n",
      "4                         0                           0     193   \n",
      "\n",
      "   invited_by_user_id  user_id  adopted  \n",
      "0             10803.0      NaN      NaN  \n",
      "1               316.0      2.0      1.0  \n",
      "2              1525.0      NaN      NaN  \n",
      "3              5151.0      NaN      NaN  \n",
      "4              5240.0      NaN      NaN  \n"
     ]
    }
   ],
   "source": [
    "UsersEngagementJoined = users_df.merge(user_engagement_grouped, how='left', left_on = 'object_id', right_on = 'user_id')\n",
    "\n",
    "print(UsersEngagementJoined.head())"
   ]
  },
  {
   "cell_type": "code",
   "execution_count": 16,
   "metadata": {},
   "outputs": [
    {
     "name": "stdout",
     "output_type": "stream",
     "text": [
      "<class 'pandas.core.frame.DataFrame'>\n",
      "Int64Index: 12000 entries, 0 to 11999\n",
      "Data columns (total 11 columns):\n",
      "object_id                     12000 non-null int64\n",
      "creation_time                 12000 non-null datetime64[ns]\n",
      "name                          12000 non-null object\n",
      "email                         12000 non-null object\n",
      "creation_source               12000 non-null object\n",
      "last_session_creation_time    12000 non-null datetime64[ns]\n",
      "opted_in_to_mailing_list      12000 non-null int64\n",
      "enabled_for_marketing_drip    12000 non-null int64\n",
      "org_id                        12000 non-null int64\n",
      "invited_by_user_id            12000 non-null float64\n",
      "adopted                       12000 non-null float64\n",
      "dtypes: datetime64[ns](2), float64(2), int64(4), object(3)\n",
      "memory usage: 1.1+ MB\n",
      "None\n"
     ]
    }
   ],
   "source": [
    "UsersEngagementJoined = UsersEngagementJoined.drop(['user_id'], axis=1)\n",
    "UsersEngagementJoined = UsersEngagementJoined.fillna(0)\n",
    "print(UsersEngagementJoined.info())"
   ]
  },
  {
   "cell_type": "code",
   "execution_count": 17,
   "metadata": {},
   "outputs": [
    {
     "name": "stdout",
     "output_type": "stream",
     "text": [
      "Number of Subscribers Not Adopted: 10,561\n",
      "Number of Subscribers Adopted: 1,439\n",
      "Percentage of Subscribers Not Adopted: 88.01%\n",
      "Percentage of Subscribers Adopted: 11.99%\n"
     ]
    }
   ],
   "source": [
    "#Count the number of customers considered retained (took more than 1 trip within 30 days of signup)\n",
    "adopted_status = UsersEngagementJoined['adopted'].value_counts()\n",
    "notadopt = float(adopted_status[0])\n",
    "adopted = float(adopted_status[1])\n",
    "total_subs = float(len(UsersEngagementJoined))\n",
    "per_not_adopt = float(notadopt/total_subs)\n",
    "per_adopted = float(adopted/total_subs)\n",
    "\n",
    "print('Number of Subscribers Not Adopted:',\"{0:,.0f}\".format(notadopt))\n",
    "print('Number of Subscribers Adopted:', \"{0:,.0f}\".format(adopted))\n",
    "print('Percentage of Subscribers Not Adopted:', \"{:.2%}\".format(per_not_adopt))\n",
    "print('Percentage of Subscribers Adopted:', \"{:.2%}\".format(per_adopted))"
   ]
  },
  {
   "cell_type": "code",
   "execution_count": 18,
   "metadata": {},
   "outputs": [
    {
     "name": "stdout",
     "output_type": "stream",
     "text": [
      "   object_id       creation_time               name  \\\n",
      "0          1 2014-04-22 03:53:30     Clausen August   \n",
      "1          2 2013-11-15 03:45:04      Poole Matthew   \n",
      "2          3 2013-03-19 23:14:52  Bottrill Mitchell   \n",
      "3          4 2013-05-21 08:09:28    Clausen Nicklas   \n",
      "4          5 2013-01-17 10:14:20          Raw Grace   \n",
      "\n",
      "                        email creation_source last_session_creation_time  \\\n",
      "0    AugustCClausen@yahoo.com    GUEST_INVITE        2014-04-22 03:53:30   \n",
      "1      MatthewPoole@gustr.com      ORG_INVITE        2014-03-31 03:45:04   \n",
      "2  MitchellBottrill@gustr.com      ORG_INVITE        2013-03-19 23:14:52   \n",
      "3   NicklasSClausen@yahoo.com    GUEST_INVITE        2013-05-22 08:09:28   \n",
      "4          GraceRaw@yahoo.com    GUEST_INVITE        2013-01-22 10:14:20   \n",
      "\n",
      "   opted_in_to_mailing_list  enabled_for_marketing_drip  org_id  \\\n",
      "0                         1                           0      11   \n",
      "1                         0                           0       1   \n",
      "2                         0                           0      94   \n",
      "3                         0                           0       1   \n",
      "4                         0                           0     193   \n",
      "\n",
      "   invited_by_user_id  adopted  \n",
      "0             10803.0      0.0  \n",
      "1               316.0      1.0  \n",
      "2              1525.0      0.0  \n",
      "3              5151.0      0.0  \n",
      "4              5240.0      0.0  \n"
     ]
    }
   ],
   "source": [
    "#Determine which features are most important for predicting if a user will become an adopted user\n",
    "print(UsersEngagementJoined.head())"
   ]
  },
  {
   "cell_type": "code",
   "execution_count": 19,
   "metadata": {},
   "outputs": [
    {
     "data": {
      "text/plain": [
       "ORG_INVITE            4254\n",
       "GUEST_INVITE          2163\n",
       "PERSONAL_PROJECTS     2111\n",
       "SIGNUP                2087\n",
       "SIGNUP_GOOGLE_AUTH    1385\n",
       "Name: creation_source, dtype: int64"
      ]
     },
     "execution_count": 19,
     "metadata": {},
     "output_type": "execute_result"
    }
   ],
   "source": [
    "UsersEngagementJoined.creation_source.value_counts()"
   ]
  },
  {
   "cell_type": "code",
   "execution_count": 20,
   "metadata": {},
   "outputs": [
    {
     "data": {
      "text/html": [
       "<div>\n",
       "<style>\n",
       "    .dataframe thead tr:only-child th {\n",
       "        text-align: right;\n",
       "    }\n",
       "\n",
       "    .dataframe thead th {\n",
       "        text-align: left;\n",
       "    }\n",
       "\n",
       "    .dataframe tbody tr th {\n",
       "        vertical-align: top;\n",
       "    }\n",
       "</style>\n",
       "<table border=\"1\" class=\"dataframe\">\n",
       "  <thead>\n",
       "    <tr style=\"text-align: right;\">\n",
       "      <th></th>\n",
       "      <th>object_id</th>\n",
       "      <th>creation_time</th>\n",
       "      <th>name</th>\n",
       "      <th>email</th>\n",
       "      <th>creation_source</th>\n",
       "      <th>last_session_creation_time</th>\n",
       "      <th>opted_in_to_mailing_list</th>\n",
       "      <th>enabled_for_marketing_drip</th>\n",
       "      <th>org_id</th>\n",
       "      <th>invited_by_user_id</th>\n",
       "      <th>adopted</th>\n",
       "    </tr>\n",
       "  </thead>\n",
       "  <tbody>\n",
       "    <tr>\n",
       "      <th>0</th>\n",
       "      <td>1</td>\n",
       "      <td>2014-04-22 03:53:30</td>\n",
       "      <td>Clausen August</td>\n",
       "      <td>AugustCClausen@yahoo.com</td>\n",
       "      <td>1</td>\n",
       "      <td>2014-04-22 03:53:30</td>\n",
       "      <td>1</td>\n",
       "      <td>0</td>\n",
       "      <td>11</td>\n",
       "      <td>10803.0</td>\n",
       "      <td>0.0</td>\n",
       "    </tr>\n",
       "    <tr>\n",
       "      <th>1</th>\n",
       "      <td>2</td>\n",
       "      <td>2013-11-15 03:45:04</td>\n",
       "      <td>Poole Matthew</td>\n",
       "      <td>MatthewPoole@gustr.com</td>\n",
       "      <td>0</td>\n",
       "      <td>2014-03-31 03:45:04</td>\n",
       "      <td>0</td>\n",
       "      <td>0</td>\n",
       "      <td>1</td>\n",
       "      <td>316.0</td>\n",
       "      <td>1.0</td>\n",
       "    </tr>\n",
       "    <tr>\n",
       "      <th>2</th>\n",
       "      <td>3</td>\n",
       "      <td>2013-03-19 23:14:52</td>\n",
       "      <td>Bottrill Mitchell</td>\n",
       "      <td>MitchellBottrill@gustr.com</td>\n",
       "      <td>0</td>\n",
       "      <td>2013-03-19 23:14:52</td>\n",
       "      <td>0</td>\n",
       "      <td>0</td>\n",
       "      <td>94</td>\n",
       "      <td>1525.0</td>\n",
       "      <td>0.0</td>\n",
       "    </tr>\n",
       "    <tr>\n",
       "      <th>3</th>\n",
       "      <td>4</td>\n",
       "      <td>2013-05-21 08:09:28</td>\n",
       "      <td>Clausen Nicklas</td>\n",
       "      <td>NicklasSClausen@yahoo.com</td>\n",
       "      <td>1</td>\n",
       "      <td>2013-05-22 08:09:28</td>\n",
       "      <td>0</td>\n",
       "      <td>0</td>\n",
       "      <td>1</td>\n",
       "      <td>5151.0</td>\n",
       "      <td>0.0</td>\n",
       "    </tr>\n",
       "    <tr>\n",
       "      <th>4</th>\n",
       "      <td>5</td>\n",
       "      <td>2013-01-17 10:14:20</td>\n",
       "      <td>Raw Grace</td>\n",
       "      <td>GraceRaw@yahoo.com</td>\n",
       "      <td>1</td>\n",
       "      <td>2013-01-22 10:14:20</td>\n",
       "      <td>0</td>\n",
       "      <td>0</td>\n",
       "      <td>193</td>\n",
       "      <td>5240.0</td>\n",
       "      <td>0.0</td>\n",
       "    </tr>\n",
       "  </tbody>\n",
       "</table>\n",
       "</div>"
      ],
      "text/plain": [
       "   object_id       creation_time               name  \\\n",
       "0          1 2014-04-22 03:53:30     Clausen August   \n",
       "1          2 2013-11-15 03:45:04      Poole Matthew   \n",
       "2          3 2013-03-19 23:14:52  Bottrill Mitchell   \n",
       "3          4 2013-05-21 08:09:28    Clausen Nicklas   \n",
       "4          5 2013-01-17 10:14:20          Raw Grace   \n",
       "\n",
       "                        email  creation_source last_session_creation_time  \\\n",
       "0    AugustCClausen@yahoo.com                1        2014-04-22 03:53:30   \n",
       "1      MatthewPoole@gustr.com                0        2014-03-31 03:45:04   \n",
       "2  MitchellBottrill@gustr.com                0        2013-03-19 23:14:52   \n",
       "3   NicklasSClausen@yahoo.com                1        2013-05-22 08:09:28   \n",
       "4          GraceRaw@yahoo.com                1        2013-01-22 10:14:20   \n",
       "\n",
       "   opted_in_to_mailing_list  enabled_for_marketing_drip  org_id  \\\n",
       "0                         1                           0      11   \n",
       "1                         0                           0       1   \n",
       "2                         0                           0      94   \n",
       "3                         0                           0       1   \n",
       "4                         0                           0     193   \n",
       "\n",
       "   invited_by_user_id  adopted  \n",
       "0             10803.0      0.0  \n",
       "1               316.0      1.0  \n",
       "2              1525.0      0.0  \n",
       "3              5151.0      0.0  \n",
       "4              5240.0      0.0  "
      ]
     },
     "execution_count": 20,
     "metadata": {},
     "output_type": "execute_result"
    }
   ],
   "source": [
    "cleanup_nums = {\"creation_source\": {\"ORG_INVITE\": 0, \"GUEST_INVITE\": 1, \"PERSONAL_PROJECTS\": 2, \"SIGNUP\": 3, \"SIGNUP_GOOGLE_AUTH\": 4}}\n",
    "\n",
    "UsersEngagementJoined.replace(cleanup_nums, inplace=True)\n",
    "\n",
    "UsersEngagementJoined.head()"
   ]
  },
  {
   "cell_type": "code",
   "execution_count": 21,
   "metadata": {},
   "outputs": [
    {
     "name": "stdout",
     "output_type": "stream",
     "text": [
      "   object_id       creation_time               name  \\\n",
      "0          1 2014-04-22 03:53:30     Clausen August   \n",
      "1          2 2013-11-15 03:45:04      Poole Matthew   \n",
      "2          3 2013-03-19 23:14:52  Bottrill Mitchell   \n",
      "3          4 2013-05-21 08:09:28    Clausen Nicklas   \n",
      "4          5 2013-01-17 10:14:20          Raw Grace   \n",
      "\n",
      "                        email  creation_source last_session_creation_time  \\\n",
      "0    AugustCClausen@yahoo.com                1        2014-04-22 03:53:30   \n",
      "1      MatthewPoole@gustr.com                0        2014-03-31 03:45:04   \n",
      "2  MitchellBottrill@gustr.com                0        2013-03-19 23:14:52   \n",
      "3   NicklasSClausen@yahoo.com                1        2013-05-22 08:09:28   \n",
      "4          GraceRaw@yahoo.com                1        2013-01-22 10:14:20   \n",
      "\n",
      "   opted_in_to_mailing_list  enabled_for_marketing_drip  org_id  \\\n",
      "0                         1                           0      11   \n",
      "1                         0                           0       1   \n",
      "2                         0                           0      94   \n",
      "3                         0                           0       1   \n",
      "4                         0                           0     193   \n",
      "\n",
      "   invited_by_user_id  adopted  daysbtwn  \n",
      "0             10803.0      0.0         0  \n",
      "1               316.0      1.0       136  \n",
      "2              1525.0      0.0         0  \n",
      "3              5151.0      0.0         1  \n",
      "4              5240.0      0.0         5  \n"
     ]
    }
   ],
   "source": [
    "#Create a numerical column to account for the time between last login and creation date\n",
    "from datetime import date\n",
    "import dateutil\n",
    "\n",
    "UsersEngagementJoined['daysbtwn'] = UsersEngagementJoined['last_session_creation_time'] - UsersEngagementJoined['creation_time']\n",
    "\n",
    "#Convert the days between column to a float\n",
    "UsersEngagementJoined['daysbtwn'] = UsersEngagementJoined['daysbtwn'].dt.days\n",
    "print(UsersEngagementJoined.head())"
   ]
  },
  {
   "cell_type": "code",
   "execution_count": 22,
   "metadata": {},
   "outputs": [
    {
     "data": {
      "text/plain": [
       "1    6417\n",
       "0    5583\n",
       "Name: invitedbyuser, dtype: int64"
      ]
     },
     "execution_count": 22,
     "metadata": {},
     "output_type": "execute_result"
    }
   ],
   "source": [
    "#The actual user id for invited by probably isn't likely to be a strong predictor, but whether or not they were invited by a user might be\n",
    "#UsersEngagementJoined.invited_by_user_id.value_counts()\n",
    "UsersEngagementJoined['invitedbyuser'] = [1 if ele > 0 else 0 for ele in UsersEngagementJoined['invited_by_user_id']]\n",
    "UsersEngagementJoined.invitedbyuser.value_counts()\n"
   ]
  },
  {
   "cell_type": "code",
   "execution_count": 23,
   "metadata": {},
   "outputs": [
    {
     "data": {
      "text/html": [
       "<div>\n",
       "<style>\n",
       "    .dataframe thead tr:only-child th {\n",
       "        text-align: right;\n",
       "    }\n",
       "\n",
       "    .dataframe thead th {\n",
       "        text-align: left;\n",
       "    }\n",
       "\n",
       "    .dataframe tbody tr th {\n",
       "        vertical-align: top;\n",
       "    }\n",
       "</style>\n",
       "<table border=\"1\" class=\"dataframe\">\n",
       "  <thead>\n",
       "    <tr style=\"text-align: right;\">\n",
       "      <th></th>\n",
       "      <th>creation_source</th>\n",
       "      <th>opted_in_to_mailing_list</th>\n",
       "      <th>enabled_for_marketing_drip</th>\n",
       "      <th>org_id</th>\n",
       "      <th>adopted</th>\n",
       "      <th>daysbtwn</th>\n",
       "      <th>invitedbyuser</th>\n",
       "    </tr>\n",
       "  </thead>\n",
       "  <tbody>\n",
       "    <tr>\n",
       "      <th>0</th>\n",
       "      <td>1</td>\n",
       "      <td>1</td>\n",
       "      <td>0</td>\n",
       "      <td>11</td>\n",
       "      <td>0.0</td>\n",
       "      <td>0</td>\n",
       "      <td>1</td>\n",
       "    </tr>\n",
       "    <tr>\n",
       "      <th>1</th>\n",
       "      <td>0</td>\n",
       "      <td>0</td>\n",
       "      <td>0</td>\n",
       "      <td>1</td>\n",
       "      <td>1.0</td>\n",
       "      <td>136</td>\n",
       "      <td>1</td>\n",
       "    </tr>\n",
       "    <tr>\n",
       "      <th>2</th>\n",
       "      <td>0</td>\n",
       "      <td>0</td>\n",
       "      <td>0</td>\n",
       "      <td>94</td>\n",
       "      <td>0.0</td>\n",
       "      <td>0</td>\n",
       "      <td>1</td>\n",
       "    </tr>\n",
       "    <tr>\n",
       "      <th>3</th>\n",
       "      <td>1</td>\n",
       "      <td>0</td>\n",
       "      <td>0</td>\n",
       "      <td>1</td>\n",
       "      <td>0.0</td>\n",
       "      <td>1</td>\n",
       "      <td>1</td>\n",
       "    </tr>\n",
       "    <tr>\n",
       "      <th>4</th>\n",
       "      <td>1</td>\n",
       "      <td>0</td>\n",
       "      <td>0</td>\n",
       "      <td>193</td>\n",
       "      <td>0.0</td>\n",
       "      <td>5</td>\n",
       "      <td>1</td>\n",
       "    </tr>\n",
       "  </tbody>\n",
       "</table>\n",
       "</div>"
      ],
      "text/plain": [
       "   creation_source  opted_in_to_mailing_list  enabled_for_marketing_drip  \\\n",
       "0                1                         1                           0   \n",
       "1                0                         0                           0   \n",
       "2                0                         0                           0   \n",
       "3                1                         0                           0   \n",
       "4                1                         0                           0   \n",
       "\n",
       "   org_id  adopted  daysbtwn  invitedbyuser  \n",
       "0      11      0.0         0              1  \n",
       "1       1      1.0       136              1  \n",
       "2      94      0.0         0              1  \n",
       "3       1      0.0         1              1  \n",
       "4     193      0.0         5              1  "
      ]
     },
     "execution_count": 23,
     "metadata": {},
     "output_type": "execute_result"
    }
   ],
   "source": [
    "#Drop unnecessary columns (object_id, email, name, date columns)\n",
    "UsersEngagementJoined = UsersEngagementJoined.drop(['object_id','email', 'name', 'creation_time', 'invited_by_user_id','last_session_creation_time'], axis=1)\n",
    "\n",
    "UsersEngagementJoined.head()"
   ]
  },
  {
   "cell_type": "code",
   "execution_count": 25,
   "metadata": {},
   "outputs": [
    {
     "name": "stdout",
     "output_type": "stream",
     "text": [
      "[[  1   1   0  11   0   1]\n",
      " [  0   0   0   1 136   1]\n",
      " [  0   0   0  94   0   1]\n",
      " ..., \n",
      " [  1   1   1  83   0   1]\n",
      " [  2   0   0   6   2   0]\n",
      " [  3   0   1   0   0   0]]\n"
     ]
    }
   ],
   "source": [
    "#Predictive Model and feature selection\n",
    "\n",
    "y = UsersEngagementJoined['adopted'].values\n",
    "X = UsersEngagementJoined.drop('adopted', axis = 1).values\n",
    "\n",
    "print(X)"
   ]
  },
  {
   "cell_type": "code",
   "execution_count": 26,
   "metadata": {},
   "outputs": [
    {
     "name": "stdout",
     "output_type": "stream",
     "text": [
      "Train shape: (9600, 6)(9600,)\n",
      "Test shape: (2400, 6)(2400,)\n"
     ]
    }
   ],
   "source": [
    "#Split the data into training and test set\n",
    "from sklearn.model_selection import train_test_split\n",
    "X_train, X_test, y_train, y_test = train_test_split(X, y, test_size = 0.2, random_state = 21, stratify=y)\n",
    "\n",
    "print ('Train shape: '+ str(X_train.shape)+str(y_train.shape))\n",
    "print ('Test shape: ' +str(X_test.shape)+str( y_test.shape))"
   ]
  },
  {
   "cell_type": "code",
   "execution_count": 27,
   "metadata": {},
   "outputs": [
    {
     "name": "stdout",
     "output_type": "stream",
     "text": [
      "Accuracy Score: 0.97625\n",
      "ROC Score: 0.991030092593\n",
      "[[2088   24]\n",
      " [  33  255]]\n",
      "             precision    recall  f1-score   support\n",
      "\n",
      "        0.0       0.98      0.99      0.99      2112\n",
      "        1.0       0.91      0.89      0.90       288\n",
      "\n",
      "avg / total       0.98      0.98      0.98      2400\n",
      "\n"
     ]
    },
    {
     "name": "stderr",
     "output_type": "stream",
     "text": [
      "C:\\Users\\jrenaud\\AppData\\Local\\Continuum\\anaconda3\\lib\\site-packages\\sklearn\\linear_model\\base.py:340: RuntimeWarning: overflow encountered in exp\n",
      "  np.exp(prob, prob)\n"
     ]
    }
   ],
   "source": [
    "#Logistic Regression\n",
    "from sklearn.linear_model import LogisticRegression\n",
    "from sklearn import metrics\n",
    "from sklearn.model_selection import cross_val_score\n",
    "from sklearn.metrics import classification_report\n",
    "from sklearn.metrics import confusion_matrix\n",
    "\n",
    "model = LogisticRegression()\n",
    "\n",
    "model.fit(X_train, y_train)\n",
    "\n",
    "predicted = model.predict(X_test)\n",
    "probs = model.predict_proba(X_test)\n",
    "\n",
    "print ('Accuracy Score:', metrics.accuracy_score(y_test, predicted))\n",
    "print ('ROC Score:', metrics.roc_auc_score(y_test, probs[:, 1]))\n",
    "\n",
    "print(confusion_matrix(y_test, predicted))\n",
    "print(classification_report(y_test, predicted))"
   ]
  },
  {
   "cell_type": "code",
   "execution_count": 28,
   "metadata": {},
   "outputs": [
    {
     "name": "stdout",
     "output_type": "stream",
     "text": [
      "[ 0.97668609  0.97666667  0.97166667  0.97666667  0.98        0.97916667\n",
      "  0.9725      0.9775      0.9725      0.97831526]\n",
      "0.976166802431\n"
     ]
    }
   ],
   "source": [
    "#Cross Validation Scores\n",
    "scores = cross_val_score(LogisticRegression(), X, y, scoring='accuracy', cv=10)\n",
    "\n",
    "print (scores)\n",
    "print (scores.mean())"
   ]
  },
  {
   "cell_type": "code",
   "execution_count": 31,
   "metadata": {},
   "outputs": [
    {
     "name": "stdout",
     "output_type": "stream",
     "text": [
      "\n",
      "\n",
      "Confusion Matrix for Classification Model:\n",
      "\n",
      " [[2088   24]\n",
      " [  33  255]]\n"
     ]
    },
    {
     "data": {
      "text/plain": [
       "<matplotlib.figure.Figure at 0x1c9f0af0c50>"
      ]
     },
     "metadata": {},
     "output_type": "display_data"
    },
    {
     "data": {
      "image/png": "[encoded data removed]",
      "text/plain": [
       "<matplotlib.figure.Figure at 0x1c9f281e6d8>"
      ]
     },
     "metadata": {},
     "output_type": "display_data"
    }
   ],
   "source": [
    "#Printing confusion Matrix\n",
    "import matplotlib.pyplot as plt\n",
    "import seaborn as sns\n",
    "\n",
    "logreg_confusion_matrix = confusion_matrix(y_test, predicted, labels=[0,1])\n",
    "print(\"\\n\\nConfusion Matrix for Classification Model:\\n\\n\",logreg_confusion_matrix)\n",
    "\n",
    "plt.figure()\n",
    "sns.heatmap(logreg_confusion_matrix, annot=True, cbar=False, cmap=\"Blues\", fmt=\"d\") \n",
    "#string formatting 'd' gives decimal integer\n",
    "plt.xlabel(\"Predicted Labels\")\n",
    "plt.ylabel(\"True Labels\")\n",
    "plt.title(\"Confusion Matrix\\nLogistic Regression\")\n",
    "\n",
    "plt.show()"
   ]
  },
  {
   "cell_type": "code",
   "execution_count": 32,
   "metadata": {},
   "outputs": [
    {
     "name": "stderr",
     "output_type": "stream",
     "text": [
      "C:\\Users\\jrenaud\\AppData\\Local\\Continuum\\anaconda3\\lib\\site-packages\\sklearn\\linear_model\\base.py:340: RuntimeWarning: overflow encountered in exp\n",
      "  np.exp(prob, prob)\n"
     ]
    },
    {
     "data": {
      "image/png": "[encoded data removed]",
      "text/plain": [
       "<matplotlib.figure.Figure at 0x1c9f26b8a58>"
      ]
     },
     "metadata": {},
     "output_type": "display_data"
    }
   ],
   "source": [
    "#Printing ROC Curve\n",
    "from sklearn.metrics import roc_curve\n",
    "y_pred_prob = model.predict_proba(X_test)[:,1]\n",
    "\n",
    "fpr, tpr, thresholds = roc_curve(y_test, y_pred_prob)\n",
    "\n",
    "plt.plot([0, 1], [0, 1], 'k--')\n",
    "plt.plot(fpr, tpr, label= 'Logistic Regression')\n",
    "plt.xlabel('False Positive Rate')\n",
    "plt.ylabel('True Positive Rate')\n",
    "plt.title('Logistic Regression ROC Curve')\n",
    "\n",
    "plt.show()"
   ]
  },
  {
   "cell_type": "code",
   "execution_count": 39,
   "metadata": {},
   "outputs": [
    {
     "name": "stdout",
     "output_type": "stream",
     "text": [
      "Features sorted by their rank:\n",
      "[(1, 'daysbtwn'), (2, 'creation_source'), (3, 'opted_in_to_mailing_list'), (4, 'enabled_for_marketing_drip'), (5, 'adopted'), (6, 'org_id')]\n"
     ]
    }
   ],
   "source": [
    "from sklearn.feature_selection import RFE\n",
    "names = list(UsersEngagementJoined)\n",
    "rfe = RFE(model, n_features_to_select = 1)\n",
    "fit = rfe.fit(X, y)\n",
    "\n",
    "print (\"Features sorted by their rank:\")\n",
    "print (sorted(zip(map(lambda x: round(x, 4), rfe.ranking_), names)))"
   ]
  },
  {
   "cell_type": "code",
   "execution_count": null,
   "metadata": {
    "collapsed": true
   },
   "outputs": [],
   "source": []
  }
 ],
 "metadata": {
  "kernelspec": {
   "display_name": "Python 3",
   "language": "python",
   "name": "python3"
  },
  "language_info": {
   "codemirror_mode": {
    "name": "ipython",
    "version": 3
   },
   "file_extension": ".py",
   "mimetype": "text/x-python",
   "name": "python",
   "nbconvert_exporter": "python",
   "pygments_lexer": "ipython3",
   "version": "3.6.3"
  }
 },
 "nbformat": 4,
 "nbformat_minor": 2
}
