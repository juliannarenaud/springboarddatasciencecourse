{
 "cells": [
  {
   "cell_type": "code",
   "execution_count": 1,
   "metadata": {
    "collapsed": true
   },
   "outputs": [],
   "source": [
    "import numpy as np\n",
    "import scipy as sp\n",
    "import pandas as pd\n",
    "import matplotlib.pyplot as plt"
   ]
  },
  {
   "cell_type": "code",
   "execution_count": 2,
   "metadata": {},
   "outputs": [
    {
     "name": "stdout",
     "output_type": "stream",
     "text": [
      "<class 'pandas.core.frame.DataFrame'>\n",
      "RangeIndex: 392 entries, 0 to 391\n",
      "Data columns (total 84 columns):\n",
      "Date                                  392 non-null datetime64[ns]\n",
      "Revenue                               392 non-null float64\n",
      "Users                                 392 non-null float64\n",
      "Sessions                              392 non-null float64\n",
      "Transactions                          392 non-null float64\n",
      "Quantity                              392 non-null float64\n",
      "Bounces                               392 non-null float64\n",
      "Pages / Session                       392 non-null float64\n",
      "Avg. Session Duration                 392 non-null object\n",
      "Session Duration                      392 non-null object\n",
      "Avg. Session Duration Seconds         392 non-null float64\n",
      "('Users', '(Other)')                  392 non-null float64\n",
      "('Users', 'Affiliate')                392 non-null float64\n",
      "('Users', 'CSE')                      392 non-null float64\n",
      "('Users', 'Direct')                   392 non-null float64\n",
      "('Users', 'Display')                  392 non-null float64\n",
      "('Users', 'Email')                    392 non-null float64\n",
      "('Users', 'Organic Search')           392 non-null float64\n",
      "('Users', 'Organic Social')           392 non-null float64\n",
      "('Users', 'Paid Search')              392 non-null float64\n",
      "('Users', 'Paid Social')              392 non-null float64\n",
      "('Users', 'Partnerships')             392 non-null float64\n",
      "('Users', 'Referral')                 392 non-null float64\n",
      "('Users', 'Social')                   392 non-null float64\n",
      "('Revenue', '(Other)')                392 non-null float64\n",
      "('Revenue', 'Affiliate')              392 non-null float64\n",
      "('Revenue', 'CSE')                    392 non-null float64\n",
      "('Revenue', 'Direct')                 392 non-null float64\n",
      "('Revenue', 'Display')                392 non-null float64\n",
      "('Revenue', 'Email')                  392 non-null float64\n",
      "('Revenue', 'Organic Search')         392 non-null float64\n",
      "('Revenue', 'Organic Social')         392 non-null float64\n",
      "('Revenue', 'Paid Search')            392 non-null float64\n",
      "('Revenue', 'Paid Social')            392 non-null float64\n",
      "('Revenue', 'Partnerships')           392 non-null float64\n",
      "('Revenue', 'Referral')               392 non-null float64\n",
      "('Revenue', 'Social')                 392 non-null float64\n",
      "('Transactions', '(Other)')           392 non-null float64\n",
      "('Transactions', 'Affiliate')         392 non-null float64\n",
      "('Transactions', 'CSE')               392 non-null float64\n",
      "('Transactions', 'Direct')            392 non-null float64\n",
      "('Transactions', 'Display')           392 non-null float64\n",
      "('Transactions', 'Email')             392 non-null float64\n",
      "('Transactions', 'Organic Search')    392 non-null float64\n",
      "('Transactions', 'Organic Social')    392 non-null float64\n",
      "('Transactions', 'Paid Search')       392 non-null float64\n",
      "('Transactions', 'Paid Social')       392 non-null float64\n",
      "('Transactions', 'Partnerships')      392 non-null float64\n",
      "('Transactions', 'Referral')          392 non-null float64\n",
      "('Transactions', 'Social')            392 non-null float64\n",
      "('Users', 'desktop')                  392 non-null float64\n",
      "('Users', 'mobile')                   392 non-null float64\n",
      "('Users', 'tablet')                   392 non-null float64\n",
      "('Revenue', 'desktop')                392 non-null float64\n",
      "('Revenue', 'mobile')                 392 non-null float64\n",
      "('Revenue', 'tablet')                 392 non-null float64\n",
      "('Transactions', 'desktop')           392 non-null float64\n",
      "('Transactions', 'mobile')            392 non-null float64\n",
      "('Transactions', 'tablet')            392 non-null float64\n",
      "TY Event                              267 non-null object\n",
      "TY Email                              257 non-null object\n",
      "Daily Revenue Demand Plan             392 non-null int64\n",
      "Daily Traffic Plan                    392 non-null int64\n",
      "Daily Net Shipped Revenue Plan        392 non-null int64\n",
      "Orders Plan                           392 non-null float64\n",
      "Units Plan                            392 non-null float64\n",
      "Daily Margin $ Plan                   392 non-null int64\n",
      "Promo Type                            243 non-null object\n",
      "SS                                    392 non-null int64\n",
      "MD                                    392 non-null int64\n",
      "GWP                                   392 non-null int64\n",
      "FF                                    392 non-null int64\n",
      "DOTD                                  392 non-null int64\n",
      "NA                                    392 non-null int64\n",
      "SOS                                   392 non-null int64\n",
      "SWP                                   392 non-null int64\n",
      "EA                                    392 non-null int64\n",
      "Email Day                             392 non-null int64\n",
      "('Spend', 'Affiliate')                392 non-null float64\n",
      "('Spend', 'CSE')                      392 non-null float64\n",
      "('Spend', 'Display')                  392 non-null float64\n",
      "('Spend', 'PLA')                      392 non-null float64\n",
      "('Spend', 'Paid Search')              392 non-null float64\n",
      "('Spend', 'Paid Social')              392 non-null float64\n",
      "dtypes: datetime64[ns](1), float64(64), int64(14), object(5)\n",
      "memory usage: 257.3+ KB\n"
     ]
    }
   ],
   "source": [
    "#Import file\n",
    "df = pd.read_csv('all_df.csv')\n",
    "df['Date'] = pd.to_datetime(df['Date'], format='%Y-%m-%d')\n",
    "df = df.drop(df.index[358]).reset_index(drop=True)\n",
    "df = df.drop(['Unnamed: 0', 'Avg. Session Duration Seconds.1'], axis=1)\n",
    "df.info()"
   ]
  },
  {
   "cell_type": "code",
   "execution_count": 22,
   "metadata": {},
   "outputs": [
    {
     "name": "stdout",
     "output_type": "stream",
     "text": [
      "0    0\n",
      "1    0\n",
      "2    0\n",
      "3    0\n",
      "4    0\n",
      "Name: Goal Reached, dtype: int32\n"
     ]
    }
   ],
   "source": [
    "#Create a new column with 1 if they reached or exceeded goal and 0 if they did not\n",
    "df['Goal Reached'] = np.where(df['Revenue'] >= df['Daily Revenue Demand Plan'], 1, 0)\n",
    "\n",
    "print(df['Goal Reached'].head())"
   ]
  },
  {
   "cell_type": "code",
   "execution_count": 23,
   "metadata": {
    "collapsed": true
   },
   "outputs": [],
   "source": [
    "from sklearn.neighbors import KNeighborsClassifier\n",
    "from sklearn.model_selection import train_test_split\n",
    "\n",
    "#Create the column to be predicted\n",
    "y = df['Goal Reached'].values\n",
    "X = df[['SS', 'MD', 'GWP', 'FF', 'DOTD', 'NA', 'SOS', 'SWP', 'EA', 'Email Day', 'Daily Revenue Demand Plan', 'Daily Traffic Plan', 'Orders Plan', 'Units Plan']].values\n",
    "\n",
    "#Split the data into training and test set\n",
    "X_train, X_test, y_train, y_test = train_test_split(X, y, test_size = 0.2, random_state = 21, stratify=y)"
   ]
  },
  {
   "cell_type": "code",
   "execution_count": 24,
   "metadata": {},
   "outputs": [
    {
     "name": "stdout",
     "output_type": "stream",
     "text": [
      "Test set predictions:\n",
      " [0 1 0 0 0 0 0 0 1 0 0 0 0 0 1 1 0 0 0 0 0 0 0 1 0 0 0 0 0 0 0 0 0 0 0 0 1\n",
      " 0 0 0 0 0 0 0 0 0 1 0 0 1 0 0 0 0 0 0 0 1 0 0 0 0 0 1 0 0 0 0 0 1 0 0 0 0\n",
      " 0 0 0 0 0]\n",
      "Accuracy Score: 0.645569620253\n"
     ]
    }
   ],
   "source": [
    "#knn method\n",
    "knn = KNeighborsClassifier(n_neighbors=4)\n",
    "\n",
    "knn.fit(X_train, y_train)\n",
    "\n",
    "y_pred = knn.predict(X_test)\n",
    "\n",
    "print(\"Test set predictions:\\n {}\".format(y_pred))\n",
    "\n",
    "print \"Accuracy Score:\", knn.score(X_test, y_test)"
   ]
  },
  {
   "cell_type": "code",
   "execution_count": 10,
   "metadata": {},
   "outputs": [
    {
     "data": {
      "image/png": "[encoded data removed]",
      "text/plain": [
       "<matplotlib.figure.Figure at 0xc2e5a90>"
      ]
     },
     "metadata": {},
     "output_type": "display_data"
    }
   ],
   "source": [
    "# Setup arrays to store train and test accuracies\n",
    "neighbors = np.arange(1, 15)\n",
    "train_accuracy = np.empty(len(neighbors))\n",
    "test_accuracy = np.empty(len(neighbors))\n",
    "\n",
    "# Loop over different values of k\n",
    "for i, k in enumerate(neighbors):\n",
    "    # Setup a k-NN Classifier with k neighbors: knn\n",
    "    knn = KNeighborsClassifier(n_neighbors = k)\n",
    "\n",
    "    # Fit the classifier to the training data\n",
    "    knn.fit(X_train, y_train)\n",
    "    \n",
    "    #Compute accuracy on the training set\n",
    "    train_accuracy[i] = knn.score(X_train, y_train)\n",
    "\n",
    "    #Compute accuracy on the testing set\n",
    "    test_accuracy[i] = knn.score(X_test, y_test)\n",
    "\n",
    "# Generate plot\n",
    "plt.title('k-NN: Varying Number of Neighbors')\n",
    "plt.plot(neighbors, test_accuracy, label = 'Testing Accuracy')\n",
    "plt.plot(neighbors, train_accuracy, label = 'Training Accuracy')\n",
    "plt.legend()\n",
    "plt.xlabel('Number of Neighbors')\n",
    "plt.ylabel('Accuracy')\n",
    "plt.show()"
   ]
  },
  {
   "cell_type": "code",
   "execution_count": 25,
   "metadata": {},
   "outputs": [
    {
     "name": "stdout",
     "output_type": "stream",
     "text": [
      "Test set predictions:\n",
      " [0 0 0 0 0 0 0 0 0 0 0 0 0 0 1 0 1 0 0 0 0 0 0 0 0 0 0 0 0 1 0 0 0 0 0 0 1\n",
      " 0 0 0 0 0 0 0 0 1 1 0 0 0 0 0 0 0 0 0 0 0 0 0 0 0 0 0 0 0 0 0 0 1 0 0 1 0\n",
      " 0 0 0 0 0]\n",
      "Accuracy Score Train: 0.722044728435\n",
      "Accuracy Score Test: 0.708860759494\n"
     ]
    }
   ],
   "source": [
    "#knn method with number of neighbors = 11\n",
    "knn = KNeighborsClassifier(n_neighbors=11)\n",
    "\n",
    "knn.fit(X_train, y_train)\n",
    "\n",
    "y_pred = knn.predict(X_test)\n",
    "\n",
    "print(\"Test set predictions:\\n {}\".format(y_pred))\n",
    "\n",
    "print \"Accuracy Score Train:\", knn.score(X_train, y_train)\n",
    "print \"Accuracy Score Test:\", knn.score(X_test, y_test)"
   ]
  },
  {
   "cell_type": "code",
   "execution_count": 26,
   "metadata": {},
   "outputs": [
    {
     "name": "stdout",
     "output_type": "stream",
     "text": [
      "[[51  3]\n",
      " [20  5]]\n",
      "             precision    recall  f1-score   support\n",
      "\n",
      "          0       0.72      0.94      0.82        54\n",
      "          1       0.62      0.20      0.30        25\n",
      "\n",
      "avg / total       0.69      0.71      0.65        79\n",
      "\n"
     ]
    }
   ],
   "source": [
    "from sklearn.metrics import classification_report\n",
    "from sklearn.metrics import confusion_matrix\n",
    "\n",
    "#Confusion Matrix\n",
    "print(confusion_matrix(y_test, y_pred))\n",
    "\n",
    "#Classification Report\n",
    "print(classification_report(y_test, y_pred))"
   ]
  },
  {
   "cell_type": "code",
   "execution_count": 27,
   "metadata": {},
   "outputs": [
    {
     "name": "stdout",
     "output_type": "stream",
     "text": [
      "Accuracy Score Training Set: 0.41214057508\n",
      "Accuracy Score Test Set: 0.544303797468\n"
     ]
    }
   ],
   "source": [
    "#clf\n",
    "from sklearn.naive_bayes import MultinomialNB\n",
    "\n",
    "clf = MultinomialNB()\n",
    "clf.fit(X_train, y_train)\n",
    "#MultinomialNB(alpha=1.0, class_prior=None, fit_prior=True)\n",
    "acc_train = clf.score(X_train, y_train)\n",
    "acc_test = clf.score(X_test, y_test)\n",
    "\n",
    "print 'Accuracy Score Training Set:', acc_train\n",
    "print 'Accuracy Score Test Set:', acc_test\n"
   ]
  },
  {
   "cell_type": "code",
   "execution_count": 19,
   "metadata": {},
   "outputs": [
    {
     "name": "stdout",
     "output_type": "stream",
     "text": [
      "[[54  0]\n",
      " [25  0]]\n",
      "             precision    recall  f1-score   support\n",
      "\n",
      "          N       0.68      1.00      0.81        54\n",
      "          Y       0.00      0.00      0.00        25\n",
      "\n",
      "avg / total       0.47      0.68      0.56        79\n",
      "\n"
     ]
    },
    {
     "name": "stderr",
     "output_type": "stream",
     "text": [
      "C:\\Users\\jrenaud\\AppData\\Local\\Continuum\\Anaconda2\\lib\\site-packages\\sklearn\\metrics\\classification.py:1113: UndefinedMetricWarning: Precision and F-score are ill-defined and being set to 0.0 in labels with no predicted samples.\n",
      "  'precision', 'predicted', average, warn_for)\n"
     ]
    }
   ],
   "source": [
    "#Logistic Regression\n",
    "\n",
    "from sklearn.linear_model import LogisticRegression\n",
    "\n",
    "logreg = LogisticRegression()\n",
    "\n",
    "logreg.fit(X_train, y_train)\n",
    "\n",
    "y_pred_logreg = logreg.predict(X_test)\n",
    "\n",
    "print(confusion_matrix(y_test, y_pred_logreg))\n",
    "print(classification_report(y_test, y_pred_logreg))"
   ]
  },
  {
   "cell_type": "code",
   "execution_count": 29,
   "metadata": {},
   "outputs": [
    {
     "data": {
      "image/png": "[encoded data removed]",
      "text/plain": [
       "<matplotlib.figure.Figure at 0xd4922e8>"
      ]
     },
     "metadata": {},
     "output_type": "display_data"
    }
   ],
   "source": [
    "from sklearn.metrics import roc_curve\n",
    "\n",
    "y_pred_prob = logreg.predict_proba(X_test)[:,1]\n",
    "\n",
    "fpr, tpr, thresholds = roc_curve(y_test, y_pred_prob)\n",
    "\n",
    "plt.plot([0, 1], [0, 1], 'k--')\n",
    "plt.plot(fpr, tpr, label= 'Logistic Regression')\n",
    "plt.xlabel('False Positive Rate')\n",
    "plt.ylabel('True Positive Rate')\n",
    "plt.title('Logistic Regression ROC Curve')\n",
    "\n",
    "plt.show();"
   ]
  },
  {
   "cell_type": "code",
   "execution_count": 33,
   "metadata": {},
   "outputs": [
    {
     "name": "stdout",
     "output_type": "stream",
     "text": [
      "ROC AUC: 0.668148148148\n"
     ]
    }
   ],
   "source": [
    "#Compute AUC score\n",
    "from sklearn.metrics import roc_auc_score\n",
    "\n",
    "roc_auc = roc_auc_score(y_test, y_pred_prob)\n",
    "\n",
    "print \"ROC AUC:\", roc_auc"
   ]
  },
  {
   "cell_type": "code",
   "execution_count": 32,
   "metadata": {},
   "outputs": [
    {
     "name": "stdout",
     "output_type": "stream",
     "text": [
      "AUC scores computed using 5-fold cross-validation: [ 0.60962963  0.59111111  0.44679245  0.68226415  0.48075472]\n"
     ]
    }
   ],
   "source": [
    "from sklearn.model_selection import cross_val_score\n",
    "\n",
    "cv_scores = cross_val_score(logreg, X, y, cv=5, scoring ='roc_auc')\n",
    "\n",
    "print \"AUC scores computed using 5-fold cross-validation: {}\".format(cv_scores)"
   ]
  },
  {
   "cell_type": "code",
   "execution_count": 35,
   "metadata": {},
   "outputs": [
    {
     "name": "stdout",
     "output_type": "stream",
     "text": [
      "Tuned Logistic Regression Parameters: {'n_neighbors': 42}\n",
      "Best score is 0.673469387755\n"
     ]
    }
   ],
   "source": [
    "from sklearn.model_selection import GridSearchCV\n",
    "\n",
    "param_grid = {'n_neighbors':np.arange(1, 50)}\n",
    "\n",
    "knn_cv = GridSearchCV(knn, param_grid, cv=5)\n",
    "\n",
    "knn_cv.fit(X, y)\n",
    "\n",
    "print \"Tuned Logistic Regression Parameters: {}\".format(knn_cv.best_params_)\n",
    "print \"Best score is {}\".format(knn_cv.best_score_)"
   ]
  },
  {
   "cell_type": "code",
   "execution_count": 36,
   "metadata": {},
   "outputs": [
    {
     "name": "stdout",
     "output_type": "stream",
     "text": [
      "Tuned Decision Tree Parameters: {'max_features': 1, 'criterion': 'gini', 'max_depth': 3, 'min_samples_leaf': 3}\n",
      "Best score is 0.663265306122\n"
     ]
    }
   ],
   "source": [
    "from scipy.stats import randint\n",
    "from sklearn.tree import DecisionTreeClassifier\n",
    "from sklearn.model_selection import RandomizedSearchCV\n",
    "\n",
    "# Setup the parameters and distributions to sample from: param_dist\n",
    "param_dist = {\"max_depth\": [3, None],\n",
    "              \"max_features\": randint(1, 9),\n",
    "              \"min_samples_leaf\": randint(1, 9),\n",
    "              \"criterion\": [\"gini\", \"entropy\"]}\n",
    "\n",
    "# Instantiate a Decision Tree classifier: tree\n",
    "tree = DecisionTreeClassifier()\n",
    "\n",
    "# Instantiate the RandomizedSearchCV object: tree_cv\n",
    "tree_cv = RandomizedSearchCV(tree, param_dist, cv=5)\n",
    "\n",
    "# Fit it to the data\n",
    "tree_cv.fit(X, y)\n",
    "\n",
    "# Print the tuned parameters and score\n",
    "print(\"Tuned Decision Tree Parameters: {}\".format(tree_cv.best_params_))\n",
    "print(\"Best score is {}\".format(tree_cv.best_score_))"
   ]
  },
  {
   "cell_type": "code",
   "execution_count": null,
   "metadata": {
    "collapsed": true
   },
   "outputs": [],
   "source": []
  }
 ],
 "metadata": {
  "kernelspec": {
   "display_name": "Python 2",
   "language": "python",
   "name": "python2"
  },
  "language_info": {
   "codemirror_mode": {
    "name": "ipython",
    "version": 2
   },
   "file_extension": ".py",
   "mimetype": "text/x-python",
   "name": "python",
   "nbconvert_exporter": "python",
   "pygments_lexer": "ipython2",
   "version": "2.7.13"
  }
 },
 "nbformat": 4,
 "nbformat_minor": 2
}
