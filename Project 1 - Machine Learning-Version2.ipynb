{
 "cells": [
  {
   "cell_type": "code",
   "execution_count": 1,
   "metadata": {
    "collapsed": true
   },
   "outputs": [],
   "source": [
    "import numpy as np\n",
    "import scipy as sp\n",
    "import pandas as pd\n",
    "import matplotlib.pyplot as plt"
   ]
  },
  {
   "cell_type": "code",
   "execution_count": 2,
   "metadata": {},
   "outputs": [
    {
     "data": {
      "text/html": [
       "<div>\n",
       "<style>\n",
       "    .dataframe thead tr:only-child th {\n",
       "        text-align: right;\n",
       "    }\n",
       "\n",
       "    .dataframe thead th {\n",
       "        text-align: left;\n",
       "    }\n",
       "\n",
       "    .dataframe tbody tr th {\n",
       "        vertical-align: top;\n",
       "    }\n",
       "</style>\n",
       "<table border=\"1\" class=\"dataframe\">\n",
       "  <thead>\n",
       "    <tr style=\"text-align: right;\">\n",
       "      <th></th>\n",
       "      <th>Revenue Yesterday</th>\n",
       "      <th>Revenue Two Days Ago</th>\n",
       "      <th>Users Yesterday</th>\n",
       "      <th>Users Two Days Ago</th>\n",
       "      <th>Sessions Yesterday</th>\n",
       "      <th>Sessions Two Days Ago</th>\n",
       "      <th>Transactions Yesterday</th>\n",
       "      <th>Transactions Two Days Ago</th>\n",
       "      <th>Quantity Yesterday</th>\n",
       "      <th>Quantity Two Days Ago</th>\n",
       "      <th>...</th>\n",
       "      <th>('Spend PSocial Yesterday', '')</th>\n",
       "      <th>('Spend PSocial Two Days Ago', '')</th>\n",
       "      <th>('Spend PSocial LY', '')</th>\n",
       "      <th>Rev Goal Reached</th>\n",
       "      <th>Rev Goal Reached Yesterday</th>\n",
       "      <th>Users Goal Reached Yesterday</th>\n",
       "      <th>Orders Goal Reached Yesterday</th>\n",
       "      <th>Units Goal Reached Yesterday</th>\n",
       "      <th>AOV Goal Reached Yesterday</th>\n",
       "      <th>CVR Goal Reached Yesterday</th>\n",
       "    </tr>\n",
       "  </thead>\n",
       "  <tbody>\n",
       "    <tr>\n",
       "      <th>0</th>\n",
       "      <td>628780.30</td>\n",
       "      <td>525294.24</td>\n",
       "      <td>224137.0</td>\n",
       "      <td>238026.0</td>\n",
       "      <td>278830.0</td>\n",
       "      <td>288792.0</td>\n",
       "      <td>4119.0</td>\n",
       "      <td>3352.0</td>\n",
       "      <td>4726.0</td>\n",
       "      <td>4525.0</td>\n",
       "      <td>...</td>\n",
       "      <td>2893.22</td>\n",
       "      <td>3194.77</td>\n",
       "      <td>0.0</td>\n",
       "      <td>0</td>\n",
       "      <td>0.0</td>\n",
       "      <td>0.0</td>\n",
       "      <td>0.0</td>\n",
       "      <td>0.0</td>\n",
       "      <td>0.0</td>\n",
       "      <td>0.0</td>\n",
       "    </tr>\n",
       "    <tr>\n",
       "      <th>1</th>\n",
       "      <td>1221370.25</td>\n",
       "      <td>628780.30</td>\n",
       "      <td>306549.0</td>\n",
       "      <td>224137.0</td>\n",
       "      <td>379353.0</td>\n",
       "      <td>278830.0</td>\n",
       "      <td>7667.0</td>\n",
       "      <td>4119.0</td>\n",
       "      <td>10094.0</td>\n",
       "      <td>4726.0</td>\n",
       "      <td>...</td>\n",
       "      <td>10783.70</td>\n",
       "      <td>2893.22</td>\n",
       "      <td>0.0</td>\n",
       "      <td>0</td>\n",
       "      <td>0.0</td>\n",
       "      <td>0.0</td>\n",
       "      <td>0.0</td>\n",
       "      <td>0.0</td>\n",
       "      <td>0.0</td>\n",
       "      <td>0.0</td>\n",
       "    </tr>\n",
       "    <tr>\n",
       "      <th>2</th>\n",
       "      <td>704274.10</td>\n",
       "      <td>1221370.25</td>\n",
       "      <td>233431.0</td>\n",
       "      <td>306549.0</td>\n",
       "      <td>281685.0</td>\n",
       "      <td>379353.0</td>\n",
       "      <td>5025.0</td>\n",
       "      <td>7667.0</td>\n",
       "      <td>7252.0</td>\n",
       "      <td>10094.0</td>\n",
       "      <td>...</td>\n",
       "      <td>3449.71</td>\n",
       "      <td>10783.70</td>\n",
       "      <td>0.0</td>\n",
       "      <td>0</td>\n",
       "      <td>0.0</td>\n",
       "      <td>0.0</td>\n",
       "      <td>0.0</td>\n",
       "      <td>0.0</td>\n",
       "      <td>0.0</td>\n",
       "      <td>0.0</td>\n",
       "    </tr>\n",
       "    <tr>\n",
       "      <th>3</th>\n",
       "      <td>619297.48</td>\n",
       "      <td>704274.10</td>\n",
       "      <td>282736.0</td>\n",
       "      <td>233431.0</td>\n",
       "      <td>345140.0</td>\n",
       "      <td>281685.0</td>\n",
       "      <td>4597.0</td>\n",
       "      <td>5025.0</td>\n",
       "      <td>6169.0</td>\n",
       "      <td>7252.0</td>\n",
       "      <td>...</td>\n",
       "      <td>3945.31</td>\n",
       "      <td>3449.71</td>\n",
       "      <td>0.0</td>\n",
       "      <td>0</td>\n",
       "      <td>0.0</td>\n",
       "      <td>0.0</td>\n",
       "      <td>0.0</td>\n",
       "      <td>0.0</td>\n",
       "      <td>0.0</td>\n",
       "      <td>0.0</td>\n",
       "    </tr>\n",
       "    <tr>\n",
       "      <th>4</th>\n",
       "      <td>636135.35</td>\n",
       "      <td>619297.48</td>\n",
       "      <td>259674.0</td>\n",
       "      <td>282736.0</td>\n",
       "      <td>321574.0</td>\n",
       "      <td>345140.0</td>\n",
       "      <td>5004.0</td>\n",
       "      <td>4597.0</td>\n",
       "      <td>6776.0</td>\n",
       "      <td>6169.0</td>\n",
       "      <td>...</td>\n",
       "      <td>4430.08</td>\n",
       "      <td>3945.31</td>\n",
       "      <td>0.0</td>\n",
       "      <td>0</td>\n",
       "      <td>0.0</td>\n",
       "      <td>0.0</td>\n",
       "      <td>0.0</td>\n",
       "      <td>0.0</td>\n",
       "      <td>0.0</td>\n",
       "      <td>0.0</td>\n",
       "    </tr>\n",
       "  </tbody>\n",
       "</table>\n",
       "<p>5 rows × 122 columns</p>\n",
       "</div>"
      ],
      "text/plain": [
       "   Revenue Yesterday  Revenue Two Days Ago  Users Yesterday  \\\n",
       "0          628780.30             525294.24         224137.0   \n",
       "1         1221370.25             628780.30         306549.0   \n",
       "2          704274.10            1221370.25         233431.0   \n",
       "3          619297.48             704274.10         282736.0   \n",
       "4          636135.35             619297.48         259674.0   \n",
       "\n",
       "   Users Two Days Ago  Sessions Yesterday  Sessions Two Days Ago  \\\n",
       "0            238026.0            278830.0               288792.0   \n",
       "1            224137.0            379353.0               278830.0   \n",
       "2            306549.0            281685.0               379353.0   \n",
       "3            233431.0            345140.0               281685.0   \n",
       "4            282736.0            321574.0               345140.0   \n",
       "\n",
       "   Transactions Yesterday  Transactions Two Days Ago  Quantity Yesterday  \\\n",
       "0                  4119.0                     3352.0              4726.0   \n",
       "1                  7667.0                     4119.0             10094.0   \n",
       "2                  5025.0                     7667.0              7252.0   \n",
       "3                  4597.0                     5025.0              6169.0   \n",
       "4                  5004.0                     4597.0              6776.0   \n",
       "\n",
       "   Quantity Two Days Ago             ...              \\\n",
       "0                 4525.0             ...               \n",
       "1                 4726.0             ...               \n",
       "2                10094.0             ...               \n",
       "3                 7252.0             ...               \n",
       "4                 6169.0             ...               \n",
       "\n",
       "   ('Spend PSocial Yesterday', '')  ('Spend PSocial Two Days Ago', '')  \\\n",
       "0                          2893.22                             3194.77   \n",
       "1                         10783.70                             2893.22   \n",
       "2                          3449.71                            10783.70   \n",
       "3                          3945.31                             3449.71   \n",
       "4                          4430.08                             3945.31   \n",
       "\n",
       "   ('Spend PSocial LY', '')  Rev Goal Reached  Rev Goal Reached Yesterday  \\\n",
       "0                       0.0                 0                         0.0   \n",
       "1                       0.0                 0                         0.0   \n",
       "2                       0.0                 0                         0.0   \n",
       "3                       0.0                 0                         0.0   \n",
       "4                       0.0                 0                         0.0   \n",
       "\n",
       "   Users Goal Reached Yesterday  Orders Goal Reached Yesterday  \\\n",
       "0                           0.0                            0.0   \n",
       "1                           0.0                            0.0   \n",
       "2                           0.0                            0.0   \n",
       "3                           0.0                            0.0   \n",
       "4                           0.0                            0.0   \n",
       "\n",
       "   Units Goal Reached Yesterday  AOV Goal Reached Yesterday  \\\n",
       "0                           0.0                         0.0   \n",
       "1                           0.0                         0.0   \n",
       "2                           0.0                         0.0   \n",
       "3                           0.0                         0.0   \n",
       "4                           0.0                         0.0   \n",
       "\n",
       "   CVR Goal Reached Yesterday  \n",
       "0                         0.0  \n",
       "1                         0.0  \n",
       "2                         0.0  \n",
       "3                         0.0  \n",
       "4                         0.0  \n",
       "\n",
       "[5 rows x 122 columns]"
      ]
     },
     "execution_count": 2,
     "metadata": {},
     "output_type": "execute_result"
    }
   ],
   "source": [
    "#Import file\n",
    "df = pd.read_csv('all_df.csv')\n",
    "df['Date'] = pd.to_datetime(df['Date'], format='%Y-%m-%d')\n",
    "\n",
    "#Drop columns that we don't want to use in prediction\n",
    "df = df.drop(df.index[358]).reset_index(drop=True)\n",
    "df = df.drop(['Unnamed: 0', 'Date', 'Revenue', 'Users', 'Sessions', 'Transactions', 'Quantity', 'Bounces', 'Pages / Session',\n",
    "              'Session Duration', 'Avg. Session Duration Seconds', \"('Users', '(Other)')\", \"('Users', 'Affiliate')\",\"('Users', 'CSE')\",\n",
    "             \"('Users', 'Direct')\", \"('Users', 'Display')\", \"('Users', 'Email')\",\"('Users', 'Organic Search')\", \n",
    "             \"('Users', 'Organic Social')\", \"('Users', 'Paid Search')\", \"('Users', 'Paid Social')\", \"('Users', 'Partnerships')\",\n",
    "             \"('Users', 'Referral')\",\"('Users', 'Social')\", \"('Revenue', '(Other)')\", \"('Revenue', 'Affiliate')\",\n",
    "             \"('Revenue', 'CSE')\", \"('Revenue', 'Direct')\", \"('Revenue', 'Display')\", \"('Revenue', 'Email')\",\n",
    "             \"('Revenue', 'Organic Search')\", \"('Revenue', 'Organic Social')\", \"('Revenue', 'Paid Search')\",\n",
    "             \"('Revenue', 'Paid Social')\", \"('Revenue', 'Partnerships')\", \"('Revenue', 'Referral')\",\"('Revenue', 'Social')\",\n",
    "             \"('Transactions', '(Other)')\", \"('Transactions', 'Affiliate')\",\"('Transactions', 'CSE')\", \"('Transactions', 'Direct')\",\n",
    "             \"('Transactions', 'Display')\", \"('Transactions', 'Email')\",\"('Transactions', 'Organic Search')\",\n",
    "             \"('Transactions', 'Organic Social')\", \"('Transactions', 'Paid Search')\", \"('Transactions', 'Paid Social')\", \n",
    "             \"('Transactions', 'Partnerships')\", \"('Transactions', 'Referral')\",\"('Transactions', 'Social')\",\"('Users', 'desktop')\", \n",
    "             \"('Users', 'mobile')\",\"('Users', 'tablet')\", \"('Revenue', 'desktop')\", \"('Revenue', 'mobile')\",\"('Revenue', 'tablet')\", \"('Transactions', 'desktop')\", \n",
    "             \"('Transactions', 'mobile')\",\"('Transactions', 'tablet')\", \"('Spend', 'Affiliate')\", \"('Spend', 'CSE')\",\n",
    "             \"('Spend', 'Display')\", \"('Spend', 'PLA')\", \"('Spend', 'Paid Search')\", \"('Spend', 'Paid Social')\"], axis=1)\n",
    "\n",
    "#\n",
    "df = df.replace([np.inf], np.nan)\n",
    "df = df.fillna(0)\n",
    "df.head()"
   ]
  },
  {
   "cell_type": "code",
   "execution_count": 12,
   "metadata": {},
   "outputs": [],
   "source": [
    "from sklearn.neighbors import KNeighborsClassifier\n",
    "from sklearn.model_selection import train_test_split\n",
    "\n",
    "#Create the column to be predicted\n",
    "y = df['Rev Goal Reached'].values\n",
    "X = df.drop('Rev Goal Reached', axis = 1).values\n",
    "\n",
    "#Split the data into training and test set\n",
    "X_train, X_test, y_train, y_test = train_test_split(X, y, test_size = 0.2, random_state = 21, stratify=y)"
   ]
  },
  {
   "cell_type": "code",
   "execution_count": 13,
   "metadata": {},
   "outputs": [
    {
     "name": "stdout",
     "output_type": "stream",
     "text": [
      "Test set predictions:\n",
      " [0 1 0 0 0 0 0 0 0 0 0 0 0 0 0 0 0 0 0 0 1 0 0 1 0 0 0 0 0 0 0 0 0 0 0 0 0\n",
      " 0 0 0 0 1 0 0 0 1 1 0 0 0 0 1 0 1 0 0 0 0 0 1 1 1 0 0 0 0 0 0 0 0 0 1 0 0\n",
      " 0 1 0 0 0]\n",
      "Accuracy Score: 0.721518987342\n"
     ]
    }
   ],
   "source": [
    "#knn method\n",
    "knn = KNeighborsClassifier(n_neighbors=4)\n",
    "\n",
    "knn.fit(X_train, y_train)\n",
    "\n",
    "y_pred = knn.predict(X_test)\n",
    "\n",
    "print(\"Test set predictions:\\n {}\".format(y_pred))\n",
    "\n",
    "print \"Accuracy Score:\", knn.score(X_test, y_test)"
   ]
  },
  {
   "cell_type": "code",
   "execution_count": 14,
   "metadata": {},
   "outputs": [
    {
     "data": {
      "image/png": "[encoded data removed]",
      "text/plain": [
       "<matplotlib.figure.Figure at 0xd8fe630>"
      ]
     },
     "metadata": {},
     "output_type": "display_data"
    }
   ],
   "source": [
    "# Setup arrays to store train and test accuracies\n",
    "neighbors = np.arange(1, 15)\n",
    "train_accuracy = np.empty(len(neighbors))\n",
    "test_accuracy = np.empty(len(neighbors))\n",
    "\n",
    "# Loop over different values of k\n",
    "for i, k in enumerate(neighbors):\n",
    "    # Setup a k-NN Classifier with k neighbors: knn\n",
    "    knn = KNeighborsClassifier(n_neighbors = k)\n",
    "\n",
    "    # Fit the classifier to the training data\n",
    "    knn.fit(X_train, y_train)\n",
    "    \n",
    "    #Compute accuracy on the training set\n",
    "    train_accuracy[i] = knn.score(X_train, y_train)\n",
    "\n",
    "    #Compute accuracy on the testing set\n",
    "    test_accuracy[i] = knn.score(X_test, y_test)\n",
    "\n",
    "# Generate plot\n",
    "plt.title('k-NN: Varying Number of Neighbors')\n",
    "plt.plot(neighbors, test_accuracy, label = 'Testing Accuracy')\n",
    "plt.plot(neighbors, train_accuracy, label = 'Training Accuracy')\n",
    "plt.legend()\n",
    "plt.xlabel('Number of Neighbors')\n",
    "plt.ylabel('Accuracy')\n",
    "plt.show()"
   ]
  },
  {
   "cell_type": "code",
   "execution_count": 15,
   "metadata": {},
   "outputs": [
    {
     "name": "stdout",
     "output_type": "stream",
     "text": [
      "Test set predictions:\n",
      " [0 1 0 0 0 0 0 0 0 0 0 0 0 0 0 0 0 0 0 0 1 0 0 0 0 0 0 0 0 0 0 0 0 0 0 0 0\n",
      " 0 0 0 0 0 0 0 0 1 1 0 0 0 0 1 0 1 0 0 0 0 0 0 0 0 0 0 0 0 0 0 0 0 0 1 1 0\n",
      " 0 0 0 0 0]\n",
      "Accuracy Score Train: 0.792332268371\n",
      "Accuracy Score Test: 0.708860759494\n"
     ]
    }
   ],
   "source": [
    "#knn method with number of neighbors = 6\n",
    "knn = KNeighborsClassifier(n_neighbors=6)\n",
    "\n",
    "knn.fit(X_train, y_train)\n",
    "\n",
    "y_pred = knn.predict(X_test)\n",
    "\n",
    "print(\"Test set predictions:\\n {}\".format(y_pred))\n",
    "\n",
    "print \"Accuracy Score Train:\", knn.score(X_train, y_train)\n",
    "print \"Accuracy Score Test:\", knn.score(X_test, y_test)"
   ]
  },
  {
   "cell_type": "code",
   "execution_count": 16,
   "metadata": {},
   "outputs": [
    {
     "name": "stdout",
     "output_type": "stream",
     "text": [
      "[[51  3]\n",
      " [20  5]]\n",
      "             precision    recall  f1-score   support\n",
      "\n",
      "          0       0.72      0.94      0.82        54\n",
      "          1       0.62      0.20      0.30        25\n",
      "\n",
      "avg / total       0.69      0.71      0.65        79\n",
      "\n"
     ]
    }
   ],
   "source": [
    "from sklearn.metrics import classification_report\n",
    "from sklearn.metrics import confusion_matrix\n",
    "\n",
    "#Confusion Matrix\n",
    "print(confusion_matrix(y_test, y_pred))\n",
    "\n",
    "#Classification Report\n",
    "print(classification_report(y_test, y_pred))"
   ]
  },
  {
   "cell_type": "code",
   "execution_count": 25,
   "metadata": {},
   "outputs": [
    {
     "name": "stderr",
     "output_type": "stream",
     "text": [
      "C:\\Users\\jrenaud\\AppData\\Local\\Continuum\\Anaconda2\\lib\\site-packages\\ipykernel_launcher.py:3: SettingWithCopyWarning: \n",
      "A value is trying to be set on a copy of a slice from a DataFrame\n",
      "\n",
      "See the caveats in the documentation: http://pandas.pydata.org/pandas-docs/stable/indexing.html#indexing-view-versus-copy\n",
      "  This is separate from the ipykernel package so we can avoid doing imports until\n"
     ]
    },
    {
     "name": "stdout",
     "output_type": "stream",
     "text": [
      "   Revenue Yesterday  Revenue Two Days Ago  Users Yesterday  \\\n",
      "0          628780.30             525294.24         224137.0   \n",
      "1         1221370.25             628780.30         306549.0   \n",
      "2          704274.10            1221370.25         233431.0   \n",
      "3          619297.48             704274.10         282736.0   \n",
      "4          636135.35             619297.48         259674.0   \n",
      "\n",
      "   Users Two Days Ago  Sessions Yesterday  Sessions Two Days Ago  \\\n",
      "0            238026.0            278830.0               288792.0   \n",
      "1            224137.0            379353.0               278830.0   \n",
      "2            306549.0            281685.0               379353.0   \n",
      "3            233431.0            345140.0               281685.0   \n",
      "4            282736.0            321574.0               345140.0   \n",
      "\n",
      "   Transactions Yesterday  Transactions Two Days Ago  Quantity Yesterday  \\\n",
      "0                  4119.0                     3352.0              4726.0   \n",
      "1                  7667.0                     4119.0             10094.0   \n",
      "2                  5025.0                     7667.0              7252.0   \n",
      "3                  4597.0                     5025.0              6169.0   \n",
      "4                  5004.0                     4597.0              6776.0   \n",
      "\n",
      "   Quantity Two Days Ago             ...              \\\n",
      "0                 4525.0             ...               \n",
      "1                 4726.0             ...               \n",
      "2                10094.0             ...               \n",
      "3                 7252.0             ...               \n",
      "4                 6169.0             ...               \n",
      "\n",
      "   ('Spend PSocial Yesterday', '')  ('Spend PSocial Two Days Ago', '')  \\\n",
      "0                          2893.22                             3194.77   \n",
      "1                         10783.70                             2893.22   \n",
      "2                          3449.71                            10783.70   \n",
      "3                          3945.31                             3449.71   \n",
      "4                          4430.08                             3945.31   \n",
      "\n",
      "   ('Spend PSocial LY', '')  Rev Goal Reached  Rev Goal Reached Yesterday  \\\n",
      "0                       0.0                 0                         0.0   \n",
      "1                       0.0                 0                         0.0   \n",
      "2                       0.0                 0                         0.0   \n",
      "3                       0.0                 0                         0.0   \n",
      "4                       0.0                 0                         0.0   \n",
      "\n",
      "   Users Goal Reached Yesterday  Orders Goal Reached Yesterday  \\\n",
      "0                           0.0                            0.0   \n",
      "1                           0.0                            0.0   \n",
      "2                           0.0                            0.0   \n",
      "3                           0.0                            0.0   \n",
      "4                           0.0                            0.0   \n",
      "\n",
      "   Units Goal Reached Yesterday  AOV Goal Reached Yesterday  \\\n",
      "0                           0.0                         0.0   \n",
      "1                           0.0                         0.0   \n",
      "2                           0.0                         0.0   \n",
      "3                           0.0                         0.0   \n",
      "4                           0.0                         0.0   \n",
      "\n",
      "   CVR Goal Reached Yesterday  \n",
      "0                         0.0  \n",
      "1                         0.0  \n",
      "2                         0.0  \n",
      "3                         0.0  \n",
      "4                         0.0  \n",
      "\n",
      "[5 rows x 122 columns]\n",
      "Accuracy Score Training Set: 0.725239616613\n",
      "Accuracy Score Test Set: 0.759493670886\n"
     ]
    }
   ],
   "source": [
    "#Create a new dataset with 0 in for spend when spend was < 0\n",
    "for k, v in df.iteritems():\n",
    "    v[v < 0] = 0\n",
    "    \n",
    "\n",
    "print df.head()\n",
    "\n",
    "#Create the column to be predicted\n",
    "y1 = df['Rev Goal Reached'].values\n",
    "X1 = df.drop('Rev Goal Reached', axis = 1).values\n",
    "\n",
    "#Split the data into training and test set\n",
    "X_train1, X_test1, y_train1, y_test1 = train_test_split(X1, y1, test_size = 0.2, random_state = 21, stratify=y)\n",
    "\n",
    "#clf\n",
    "from sklearn.naive_bayes import MultinomialNB\n",
    "\n",
    "clf = MultinomialNB()\n",
    "clf.fit(X_train1, y_train1)\n",
    "#MultinomialNB(alpha=1.0, class_prior=None, fit_prior=True)\n",
    "acc_train = clf.score(X_train1, y_train1)\n",
    "acc_test = clf.score(X_test1, y_test1)\n",
    "\n",
    "print 'Accuracy Score Training Set:', acc_train\n",
    "print 'Accuracy Score Test Set:', acc_test\n"
   ]
  },
  {
   "cell_type": "code",
   "execution_count": 26,
   "metadata": {},
   "outputs": [
    {
     "name": "stdout",
     "output_type": "stream",
     "text": [
      "[[43 11]\n",
      " [10 15]]\n",
      "             precision    recall  f1-score   support\n",
      "\n",
      "          0       0.81      0.80      0.80        54\n",
      "          1       0.58      0.60      0.59        25\n",
      "\n",
      "avg / total       0.74      0.73      0.74        79\n",
      "\n"
     ]
    }
   ],
   "source": [
    "#Logistic Regression\n",
    "\n",
    "from sklearn.linear_model import LogisticRegression\n",
    "\n",
    "logreg = LogisticRegression()\n",
    "\n",
    "logreg.fit(X_train, y_train)\n",
    "\n",
    "y_pred_logreg = logreg.predict(X_test)\n",
    "\n",
    "print(confusion_matrix(y_test, y_pred_logreg))\n",
    "print(classification_report(y_test, y_pred_logreg))"
   ]
  },
  {
   "cell_type": "code",
   "execution_count": 27,
   "metadata": {},
   "outputs": [
    {
     "data": {
      "image/png": "[encoded data removed]",
      "text/plain": [
       "<matplotlib.figure.Figure at 0xdb15748>"
      ]
     },
     "metadata": {},
     "output_type": "display_data"
    }
   ],
   "source": [
    "from sklearn.metrics import roc_curve\n",
    "\n",
    "y_pred_prob = logreg.predict_proba(X_test)[:,1]\n",
    "\n",
    "fpr, tpr, thresholds = roc_curve(y_test, y_pred_prob)\n",
    "\n",
    "plt.plot([0, 1], [0, 1], 'k--')\n",
    "plt.plot(fpr, tpr, label= 'Logistic Regression')\n",
    "plt.xlabel('False Positive Rate')\n",
    "plt.ylabel('True Positive Rate')\n",
    "plt.title('Logistic Regression ROC Curve')\n",
    "\n",
    "plt.show();"
   ]
  },
  {
   "cell_type": "code",
   "execution_count": 28,
   "metadata": {},
   "outputs": [
    {
     "name": "stdout",
     "output_type": "stream",
     "text": [
      "ROC AUC: 0.734814814815\n"
     ]
    }
   ],
   "source": [
    "#Compute AUC score\n",
    "from sklearn.metrics import roc_auc_score\n",
    "\n",
    "roc_auc = roc_auc_score(y_test, y_pred_prob)\n",
    "\n",
    "print \"ROC AUC:\", roc_auc"
   ]
  },
  {
   "cell_type": "code",
   "execution_count": 29,
   "metadata": {},
   "outputs": [
    {
     "name": "stdout",
     "output_type": "stream",
     "text": [
      "AUC scores computed using 5-fold cross-validation: [ 0.78592593  0.54        0.47471698  0.49811321  0.62188679]\n"
     ]
    }
   ],
   "source": [
    "from sklearn.model_selection import cross_val_score\n",
    "\n",
    "cv_scores = cross_val_score(logreg, X, y, cv=5, scoring ='roc_auc')\n",
    "\n",
    "print \"AUC scores computed using 5-fold cross-validation: {}\".format(cv_scores)"
   ]
  },
  {
   "cell_type": "code",
   "execution_count": 30,
   "metadata": {},
   "outputs": [
    {
     "name": "stdout",
     "output_type": "stream",
     "text": [
      "Tuned Logistic Regression Parameters: {'n_neighbors': 9}\n",
      "Best score is 0.744897959184\n"
     ]
    }
   ],
   "source": [
    "from sklearn.model_selection import GridSearchCV\n",
    "\n",
    "param_grid = {'n_neighbors':np.arange(1, 50)}\n",
    "\n",
    "knn_cv = GridSearchCV(knn, param_grid, cv=5)\n",
    "\n",
    "knn_cv.fit(X, y)\n",
    "\n",
    "print \"Tuned Logistic Regression Parameters: {}\".format(knn_cv.best_params_)\n",
    "print \"Best score is {}\".format(knn_cv.best_score_)"
   ]
  },
  {
   "cell_type": "code",
   "execution_count": 31,
   "metadata": {},
   "outputs": [
    {
     "name": "stdout",
     "output_type": "stream",
     "text": [
      "Tuned Decision Tree Parameters: {'max_features': 6, 'criterion': 'gini', 'max_depth': 3, 'min_samples_leaf': 7}\n",
      "Best score is 0.747448979592\n"
     ]
    }
   ],
   "source": [
    "from scipy.stats import randint\n",
    "from sklearn.tree import DecisionTreeClassifier\n",
    "from sklearn.model_selection import RandomizedSearchCV\n",
    "\n",
    "# Setup the parameters and distributions to sample from: param_dist\n",
    "param_dist = {\"max_depth\": [3, None],\n",
    "              \"max_features\": randint(1, 9),\n",
    "              \"min_samples_leaf\": randint(1, 9),\n",
    "              \"criterion\": [\"gini\", \"entropy\"]}\n",
    "\n",
    "# Instantiate a Decision Tree classifier: tree\n",
    "tree = DecisionTreeClassifier()\n",
    "\n",
    "# Instantiate the RandomizedSearchCV object: tree_cv\n",
    "tree_cv = RandomizedSearchCV(tree, param_dist, cv=5)\n",
    "\n",
    "# Fit it to the data\n",
    "tree_cv.fit(X, y)\n",
    "\n",
    "# Print the tuned parameters and score\n",
    "print(\"Tuned Decision Tree Parameters: {}\".format(tree_cv.best_params_))\n",
    "print(\"Best score is {}\".format(tree_cv.best_score_))"
   ]
  },
  {
   "cell_type": "code",
   "execution_count": null,
   "metadata": {
    "collapsed": true
   },
   "outputs": [],
   "source": []
  }
 ],
 "metadata": {
  "kernelspec": {
   "display_name": "Python 2",
   "language": "python",
   "name": "python2"
  },
  "language_info": {
   "codemirror_mode": {
    "name": "ipython",
    "version": 2
   },
   "file_extension": ".py",
   "mimetype": "text/x-python",
   "name": "python",
   "nbconvert_exporter": "python",
   "pygments_lexer": "ipython2",
   "version": "2.7.13"
  }
 },
 "nbformat": 4,
 "nbformat_minor": 2
}
